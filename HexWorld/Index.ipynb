{
 "cells": [
  {
   "cell_type": "code",
   "execution_count": 1,
   "metadata": {
    "ExecuteTime": {
     "end_time": "2018-02-24T19:32:18.105981Z",
     "start_time": "2018-02-24T19:32:17.238674Z"
    }
   },
   "outputs": [],
   "source": [
    "%matplotlib inline\n",
    "from chmp.ds import reload\n",
    "\n",
    "import base64\n",
    "import io\n",
    "\n",
    "from ipywidgets import interact\n",
    "import numpy as np\n",
    "import matplotlib.pyplot as plt\n",
    "\n",
    "import importlib\n",
    "reload('hexworld.fov', 'hexworld')\n",
    "import hexworld\n",
    "import hexworld.fov\n",
    "\n",
    "from hexworld.widget import HexGame"
   ]
  },
  {
   "cell_type": "code",
   "execution_count": 2,
   "metadata": {
    "ExecuteTime": {
     "end_time": "2018-02-24T19:32:18.117553Z",
     "start_time": "2018-02-24T19:32:18.110878Z"
    }
   },
   "outputs": [],
   "source": [
    "center = hexworld.to_cube(hexworld.OffsetPoint(4, 3))"
   ]
  },
  {
   "cell_type": "code",
   "execution_count": 3,
   "metadata": {
    "ExecuteTime": {
     "end_time": "2018-02-24T19:32:18.174184Z",
     "start_time": "2018-02-24T19:32:18.121955Z"
    }
   },
   "outputs": [],
   "source": [
    "world = hexworld.Int64Buffer(21, 10)\n",
    "world[center] = -1\n",
    "\n",
    "world[5, 1] = 1\n",
    "world[3, 2] = 1\n",
    "world[4, 2] = 1\n",
    "\n",
    "world[5, 3] = 1\n",
    "world[3, 3] = 1\n",
    "world[5, 4] = 1\n",
    "world[3, 4] = 1\n",
    "world[5, 5] = 1\n",
    "world[3, 5] = 1\n",
    "\n",
    "world[6, 1] = 1\n",
    "world[6, 3] = 1\n",
    "\n",
    "world[7, 0] = 1\n",
    "world[7, 2] = 1\n",
    "\n",
    "world[8, 0] = 1\n",
    "world[8, 2] = 1\n",
    "\n",
    "world[hexworld.CubePoint(4, -2, -2)] = 20"
   ]
  },
  {
   "cell_type": "code",
   "execution_count": 4,
   "metadata": {
    "ExecuteTime": {
     "end_time": "2018-02-24T19:32:18.285025Z",
     "start_time": "2018-02-24T19:32:18.270945Z"
    }
   },
   "outputs": [
    {
     "name": "stdout",
     "output_type": "stream",
     "text": [
      " ___     ___     ___     ___     ___     ___     ___     ___     ___     ___     ___     \n",
      "/ 0 \\___/ 0 \\___/ 20\\___/ 0 \\___/ 1 \\___/ 0 \\___/ 0 \\___/ 0 \\___/ 0 \\___/ 0 \\___/ 0 \\___ \n",
      "\\___/ 0 \\___/ 0 \\___/ 0 \\___/ 1 \\___/ 0 \\___/ 0 \\___/ 0 \\___/ 0 \\___/ 0 \\___/ 0 \\___/   \\\n",
      "/ 0 \\___/ 0 \\___/ 0 \\___/ 1 \\___/ 0 \\___/ 0 \\___/ 0 \\___/ 0 \\___/ 0 \\___/ 0 \\___/ 0 \\___/\n",
      "\\___/ 0 \\___/ 0 \\___/ 1 \\___/ 0 \\___/ 0 \\___/ 0 \\___/ 0 \\___/ 0 \\___/ 0 \\___/ 0 \\___/   \\\n",
      "/ 0 \\___/ 0 \\___/ 1 \\___/ 0 \\___/ 1 \\___/ 0 \\___/ 0 \\___/ 0 \\___/ 0 \\___/ 0 \\___/ 0 \\___/\n",
      "\\___/ 0 \\___/ 1 \\___/ 0 \\___/ 1 \\___/ 0 \\___/ 0 \\___/ 0 \\___/ 0 \\___/ 0 \\___/ 0 \\___/   \\\n",
      "/ 0 \\___/ 0 \\___/ -1\\___/ 1 \\___/ 0 \\___/ 0 \\___/ 0 \\___/ 0 \\___/ 0 \\___/ 0 \\___/ 0 \\___/\n",
      "\\___/ 0 \\___/ 1 \\___/ 1 \\___/ 0 \\___/ 0 \\___/ 0 \\___/ 0 \\___/ 0 \\___/ 0 \\___/ 0 \\___/   \\\n",
      "/ 0 \\___/ 0 \\___/ 0 \\___/ 0 \\___/ 0 \\___/ 0 \\___/ 0 \\___/ 0 \\___/ 0 \\___/ 0 \\___/ 0 \\___/\n",
      "\\___/ 0 \\___/ 1 \\___/ 1 \\___/ 0 \\___/ 0 \\___/ 0 \\___/ 0 \\___/ 0 \\___/ 0 \\___/ 0 \\___/   \\\n",
      "/ 0 \\___/ 0 \\___/ 0 \\___/ 0 \\___/ 0 \\___/ 0 \\___/ 0 \\___/ 0 \\___/ 0 \\___/ 0 \\___/ 0 \\___/\n",
      "\\___/ 0 \\___/ 1 \\___/ 1 \\___/ 0 \\___/ 0 \\___/ 0 \\___/ 0 \\___/ 0 \\___/ 0 \\___/ 0 \\___/   \\\n",
      "/ 0 \\___/ 0 \\___/ 0 \\___/ 0 \\___/ 0 \\___/ 0 \\___/ 0 \\___/ 0 \\___/ 0 \\___/ 0 \\___/ 0 \\___/\n",
      "\\___/ 0 \\___/ 0 \\___/ 0 \\___/ 0 \\___/ 0 \\___/ 0 \\___/ 0 \\___/ 0 \\___/ 0 \\___/ 0 \\___/   \\\n",
      "/ 0 \\___/ 0 \\___/ 0 \\___/ 0 \\___/ 0 \\___/ 0 \\___/ 0 \\___/ 0 \\___/ 0 \\___/ 0 \\___/ 0 \\___/\n",
      "\\___/ 0 \\___/ 0 \\___/ 0 \\___/ 0 \\___/ 0 \\___/ 0 \\___/ 0 \\___/ 0 \\___/ 0 \\___/ 0 \\___/   \\\n",
      "/ 0 \\___/ 0 \\___/ 0 \\___/ 0 \\___/ 0 \\___/ 0 \\___/ 0 \\___/ 0 \\___/ 0 \\___/ 0 \\___/ 0 \\___/\n",
      "\\___/ 0 \\___/ 0 \\___/ 0 \\___/ 0 \\___/ 0 \\___/ 0 \\___/ 0 \\___/ 0 \\___/ 0 \\___/ 0 \\___/   \\\n",
      "/ 0 \\___/ 0 \\___/ 0 \\___/ 0 \\___/ 0 \\___/ 0 \\___/ 0 \\___/ 0 \\___/ 0 \\___/ 0 \\___/ 0 \\___/\n",
      "\\___/ 0 \\___/ 0 \\___/ 0 \\___/ 0 \\___/ 0 \\___/ 0 \\___/ 0 \\___/ 0 \\___/ 0 \\___/ 0 \\___/   \\\n",
      "    \\___/   \\___/   \\___/   \\___/   \\___/   \\___/   \\___/   \\___/   \\___/   \\___/   \\___/\n"
     ]
    }
   ],
   "source": [
    "print(hexworld.show(world))"
   ]
  },
  {
   "cell_type": "code",
   "execution_count": 5,
   "metadata": {
    "ExecuteTime": {
     "end_time": "2018-02-24T19:32:18.826217Z",
     "start_time": "2018-02-24T19:32:18.666165Z"
    }
   },
   "outputs": [
    {
     "data": {
      "image/png": "[encoded data removed]",
      "text/plain": [
       "<matplotlib.figure.Figure at 0x10c75a400>"
      ]
     },
     "metadata": {},
     "output_type": "display_data"
    }
   ],
   "source": [
    "hexworld.plot(hexworld.fov.occlusion_maps[2, 2], colors={\n",
    "    0: '#ffffff', \n",
    "    1: '#444444',\n",
    "    2: '#ff0000',\n",
    "})"
   ]
  },
  {
   "cell_type": "code",
   "execution_count": 7,
   "metadata": {
    "ExecuteTime": {
     "end_time": "2018-02-24T19:32:41.865015Z",
     "start_time": "2018-02-24T19:32:41.785235Z"
    }
   },
   "outputs": [
    {
     "data": {
      "application/vnd.jupyter.widget-view+json": {
       "model_id": "c77186bb690a45c2957391e038cc6bc8",
       "version_major": 2,
       "version_minor": 0
      },
      "text/html": [
       "<p>Failed to display Jupyter Widget of type <code>HexGame</code>.</p>\n",
       "<p>\n",
       "  If you're reading this message in the Jupyter Notebook or JupyterLab Notebook, it may mean\n",
       "  that the widgets JavaScript is still loading. If this message persists, it\n",
       "  likely means that the widgets JavaScript library is either not installed or\n",
       "  not enabled. See the <a href=\"https://ipywidgets.readthedocs.io/en/stable/user_install.html\">Jupyter\n",
       "  Widgets Documentation</a> for setup instructions.\n",
       "</p>\n",
       "<p>\n",
       "  If you're reading this message in another frontend (for example, a static\n",
       "  rendering on GitHub or <a href=\"https://nbviewer.jupyter.org/\">NBViewer</a>),\n",
       "  it may mean that your frontend doesn't currently support widgets.\n",
       "</p>\n"
      ],
      "text/plain": [
       "HexGame()"
      ]
     },
     "metadata": {},
     "output_type": "display_data"
    }
   ],
   "source": [
    "view = hexworld.Int64Buffer(7, 5)\n",
    "pos = center\n",
    "rot = 0\n",
    "\n",
    "\n",
    "def update(ev):\n",
    "    global pos, rot\n",
    "    \n",
    "    if ev['key'] == 37:\n",
    "        rot += 1\n",
    "    \n",
    "    if ev['key'] == 39:\n",
    "        rot -= 1\n",
    "    \n",
    "    if ev['key'] == 38:\n",
    "        pos += hexworld.rotate(hexworld.CubePoint(0, +1, -1), rot)\n",
    "    \n",
    "    if ev['key'] == 40:\n",
    "        pos -= hexworld.rotate(hexworld.CubePoint(0, +1, -1), rot)\n",
    "    \n",
    "    if ev['key'] == 0:\n",
    "        # TODO: run initialization tasks\n",
    "        pass\n",
    "    \n",
    "    dir = hexworld.rotate(hexworld.CubePoint(0, +1, -1), rot)\n",
    "    hexworld.extract_viewport(view, world, pos - dir, rot)\n",
    "    view[view.width // 2, view.height - 2] = 2\n",
    "    return dict(grid=np.asarray(view).tolist()) \n",
    "\n",
    "\n",
    "HexGame(update)"
   ]
  },
  {
   "cell_type": "code",
   "execution_count": null,
   "metadata": {},
   "outputs": [],
   "source": []
  },
  {
   "cell_type": "code",
   "execution_count": null,
   "metadata": {},
   "outputs": [],
   "source": []
  }
 ],
 "metadata": {
  "hide_input": false,
  "kernelspec": {
   "display_name": "py3",
   "language": "python",
   "name": "py3"
  },
  "language_info": {
   "codemirror_mode": {
    "name": "ipython",
    "version": 3
   },
   "file_extension": ".py",
   "mimetype": "text/x-python",
   "name": "python",
   "nbconvert_exporter": "python",
   "pygments_lexer": "ipython3",
   "version": "3.6.3"
  },
  "toc": {
   "nav_menu": {},
   "number_sections": true,
   "sideBar": true,
   "skip_h1_title": false,
   "toc_cell": false,
   "toc_position": {},
   "toc_section_display": "block",
   "toc_window_display": false
  }
 },
 "nbformat": 4,
 "nbformat_minor": 2
}
