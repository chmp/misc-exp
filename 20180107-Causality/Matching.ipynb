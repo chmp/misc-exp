{
 "cells": [
  {
   "cell_type": "markdown",
   "metadata": {},
   "source": [
    "# Matching"
   ]
  },
  {
   "cell_type": "markdown",
   "metadata": {},
   "source": [
    "## Setup"
   ]
  },
  {
   "cell_type": "code",
   "execution_count": 1,
   "metadata": {},
   "outputs": [],
   "source": [
    "%matplotlib inline"
   ]
  },
  {
   "cell_type": "code",
   "execution_count": 2,
   "metadata": {},
   "outputs": [
    {
     "name": "stderr",
     "output_type": "stream",
     "text": [
      "/Volumes/Home/.local/share/virtualenvs/misc-exp-8XcdncOT/lib/python3.6/importlib/_bootstrap.py:219: RuntimeWarning: numpy.dtype size changed, may indicate binary incompatibility. Expected 96, got 88\n",
      "  return f(*args, **kwds)\n"
     ]
    }
   ],
   "source": [
    "import bz2\n",
    "import os.path\n",
    "\n",
    "import matplotlib.pyplot as plt\n",
    "import numpy as np\n",
    "import pandas as pd\n",
    "import requests\n",
    "\n",
    "from IPython.display import display\n",
    "\n",
    "from chmp.ds import reload\n",
    "reload('chmp.ds', 'data', 'chmp.app.causality.matching')\n",
    "from chmp.ds import mpl_set, Object\n",
    "\n",
    "from chmp.app.causality.matching import match, psmatch\n",
    "\n",
    "from data import read_rhc_df, normalize_rhc_df"
   ]
  },
  {
   "cell_type": "markdown",
   "metadata": {},
   "source": [
    "## Covariate Matching"
   ]
  },
  {
   "cell_type": "markdown",
   "metadata": {},
   "source": [
    "Based on lecture \"Week 3 / Matching / Data Example\" of the coursera course [\"A Crash Course in Causality\"](https://www.coursera.org/learn/crash-course-in-causality/).\n"
   ]
  },
  {
   "cell_type": "code",
   "execution_count": 3,
   "metadata": {},
   "outputs": [],
   "source": [
    "df, meta = read_rhc_df('data/rhc.csv.bz2')\n",
    "df, meta = normalize_rhc_df(df, meta)"
   ]
  },
  {
   "cell_type": "code",
   "execution_count": 4,
   "metadata": {},
   "outputs": [],
   "source": [
    "def create_table_one(df, *, strata, smd=True):\n",
    "    c = df.groupby(strata).agg(['mean', 'std']).transpose().unstack()\n",
    "    \n",
    "    if smd:\n",
    "        c['SMD'] = abs(c[0, 'mean'] - c[1, 'mean']) / np.sqrt(0.5 * (c[0, 'std'] ** 2.0 + c[1, 'std'] ** 2.0))\n",
    "    \n",
    "    return c"
   ]
  },
  {
   "cell_type": "code",
   "execution_count": 5,
   "metadata": {},
   "outputs": [
    {
     "data": {
      "text/html": [
       "<div>\n",
       "<style scoped>\n",
       "    .dataframe tbody tr th:only-of-type {\n",
       "        vertical-align: middle;\n",
       "    }\n",
       "\n",
       "    .dataframe tbody tr th {\n",
       "        vertical-align: top;\n",
       "    }\n",
       "\n",
       "    .dataframe thead tr th {\n",
       "        text-align: left;\n",
       "    }\n",
       "</style>\n",
       "<table border=\"1\" class=\"dataframe\">\n",
       "  <thead>\n",
       "    <tr>\n",
       "      <th>treatment</th>\n",
       "      <th colspan=\"2\" halign=\"left\">0</th>\n",
       "      <th colspan=\"2\" halign=\"left\">1</th>\n",
       "      <th>SMD</th>\n",
       "    </tr>\n",
       "    <tr>\n",
       "      <th></th>\n",
       "      <th>mean</th>\n",
       "      <th>std</th>\n",
       "      <th>mean</th>\n",
       "      <th>std</th>\n",
       "      <th></th>\n",
       "    </tr>\n",
       "  </thead>\n",
       "  <tbody>\n",
       "    <tr>\n",
       "      <th>ARF</th>\n",
       "      <td>0.445227</td>\n",
       "      <td>0.497061</td>\n",
       "      <td>0.416209</td>\n",
       "      <td>0.493042</td>\n",
       "      <td>0.058615</td>\n",
       "    </tr>\n",
       "    <tr>\n",
       "      <th>CHF</th>\n",
       "      <td>0.069558</td>\n",
       "      <td>0.254436</td>\n",
       "      <td>0.095696</td>\n",
       "      <td>0.294241</td>\n",
       "      <td>0.095027</td>\n",
       "    </tr>\n",
       "    <tr>\n",
       "      <th>Cirr</th>\n",
       "      <td>0.049282</td>\n",
       "      <td>0.216486</td>\n",
       "      <td>0.022436</td>\n",
       "      <td>0.148130</td>\n",
       "      <td>0.144734</td>\n",
       "    </tr>\n",
       "    <tr>\n",
       "      <th>colcan</th>\n",
       "      <td>0.001690</td>\n",
       "      <td>0.041077</td>\n",
       "      <td>0.000458</td>\n",
       "      <td>0.021398</td>\n",
       "      <td>0.037612</td>\n",
       "    </tr>\n",
       "    <tr>\n",
       "      <th>Coma</th>\n",
       "      <td>0.096029</td>\n",
       "      <td>0.294673</td>\n",
       "      <td>0.043498</td>\n",
       "      <td>0.204022</td>\n",
       "      <td>0.207278</td>\n",
       "    </tr>\n",
       "    <tr>\n",
       "      <th>COPD</th>\n",
       "      <td>0.112363</td>\n",
       "      <td>0.315857</td>\n",
       "      <td>0.026557</td>\n",
       "      <td>0.160821</td>\n",
       "      <td>0.342364</td>\n",
       "    </tr>\n",
       "    <tr>\n",
       "      <th>lungcan</th>\n",
       "      <td>0.009575</td>\n",
       "      <td>0.097395</td>\n",
       "      <td>0.002289</td>\n",
       "      <td>0.047804</td>\n",
       "      <td>0.094965</td>\n",
       "    </tr>\n",
       "    <tr>\n",
       "      <th>MOSF</th>\n",
       "      <td>0.067868</td>\n",
       "      <td>0.251555</td>\n",
       "      <td>0.072344</td>\n",
       "      <td>0.259117</td>\n",
       "      <td>0.017528</td>\n",
       "    </tr>\n",
       "    <tr>\n",
       "      <th>sepsis</th>\n",
       "      <td>0.148409</td>\n",
       "      <td>0.355555</td>\n",
       "      <td>0.320513</td>\n",
       "      <td>0.466781</td>\n",
       "      <td>0.414797</td>\n",
       "    </tr>\n",
       "    <tr>\n",
       "      <th>female</th>\n",
       "      <td>0.460997</td>\n",
       "      <td>0.498547</td>\n",
       "      <td>0.414835</td>\n",
       "      <td>0.492806</td>\n",
       "      <td>0.093127</td>\n",
       "    </tr>\n",
       "    <tr>\n",
       "      <th>died</th>\n",
       "      <td>0.629682</td>\n",
       "      <td>0.482958</td>\n",
       "      <td>0.680403</td>\n",
       "      <td>0.466427</td>\n",
       "      <td>0.106834</td>\n",
       "    </tr>\n",
       "    <tr>\n",
       "      <th>age</th>\n",
       "      <td>61.760926</td>\n",
       "      <td>17.287674</td>\n",
       "      <td>60.749836</td>\n",
       "      <td>15.630698</td>\n",
       "      <td>0.061352</td>\n",
       "    </tr>\n",
       "    <tr>\n",
       "      <th>meanbp1</th>\n",
       "      <td>84.868629</td>\n",
       "      <td>38.874134</td>\n",
       "      <td>68.197802</td>\n",
       "      <td>34.242209</td>\n",
       "      <td>0.455096</td>\n",
       "    </tr>\n",
       "  </tbody>\n",
       "</table>\n",
       "</div>"
      ],
      "text/plain": [
       "treatment          0                     1                  SMD\n",
       "                mean        std       mean        std          \n",
       "ARF         0.445227   0.497061   0.416209   0.493042  0.058615\n",
       "CHF         0.069558   0.254436   0.095696   0.294241  0.095027\n",
       "Cirr        0.049282   0.216486   0.022436   0.148130  0.144734\n",
       "colcan      0.001690   0.041077   0.000458   0.021398  0.037612\n",
       "Coma        0.096029   0.294673   0.043498   0.204022  0.207278\n",
       "COPD        0.112363   0.315857   0.026557   0.160821  0.342364\n",
       "lungcan     0.009575   0.097395   0.002289   0.047804  0.094965\n",
       "MOSF        0.067868   0.251555   0.072344   0.259117  0.017528\n",
       "sepsis      0.148409   0.355555   0.320513   0.466781  0.414797\n",
       "female      0.460997   0.498547   0.414835   0.492806  0.093127\n",
       "died        0.629682   0.482958   0.680403   0.466427  0.106834\n",
       "age        61.760926  17.287674  60.749836  15.630698  0.061352\n",
       "meanbp1    84.868629  38.874134  68.197802  34.242209  0.455096"
      ]
     },
     "execution_count": 5,
     "metadata": {},
     "output_type": "execute_result"
    }
   ],
   "source": [
    "c_unmatched = create_table_one(df, strata=meta.treatment)\n",
    "c_unmatched"
   ]
  },
  {
   "cell_type": "code",
   "execution_count": 6,
   "metadata": {},
   "outputs": [],
   "source": [
    "indices_0, indices_1 = match(df, treatment=meta.treatment, covariates=meta.covariates)"
   ]
  },
  {
   "cell_type": "code",
   "execution_count": 7,
   "metadata": {},
   "outputs": [],
   "source": [
    "matched_0 = df.loc[indices_0].reset_index(drop=True)\n",
    "matched_1 = df.loc[indices_1].reset_index(drop=True)\n",
    "\n",
    "matched_df = pd.concat([matched_0, matched_1], axis=0, ignore_index=True)\n",
    "matched_df.sort_index(inplace=True)"
   ]
  },
  {
   "cell_type": "code",
   "execution_count": 8,
   "metadata": {},
   "outputs": [
    {
     "data": {
      "text/html": [
       "<div>\n",
       "<style scoped>\n",
       "    .dataframe tbody tr th:only-of-type {\n",
       "        vertical-align: middle;\n",
       "    }\n",
       "\n",
       "    .dataframe tbody tr th {\n",
       "        vertical-align: top;\n",
       "    }\n",
       "\n",
       "    .dataframe thead tr th {\n",
       "        text-align: left;\n",
       "    }\n",
       "</style>\n",
       "<table border=\"1\" class=\"dataframe\">\n",
       "  <thead>\n",
       "    <tr>\n",
       "      <th>treatment</th>\n",
       "      <th colspan=\"2\" halign=\"left\">0</th>\n",
       "      <th colspan=\"2\" halign=\"left\">1</th>\n",
       "      <th>SMD</th>\n",
       "    </tr>\n",
       "    <tr>\n",
       "      <th></th>\n",
       "      <th>mean</th>\n",
       "      <th>std</th>\n",
       "      <th>mean</th>\n",
       "      <th>std</th>\n",
       "      <th></th>\n",
       "    </tr>\n",
       "  </thead>\n",
       "  <tbody>\n",
       "    <tr>\n",
       "      <th>ARF</th>\n",
       "      <td>0.495421</td>\n",
       "      <td>0.500094</td>\n",
       "      <td>0.416209</td>\n",
       "      <td>0.493042</td>\n",
       "      <td>0.159516</td>\n",
       "    </tr>\n",
       "    <tr>\n",
       "      <th>CHF</th>\n",
       "      <td>0.095696</td>\n",
       "      <td>0.294241</td>\n",
       "      <td>0.095696</td>\n",
       "      <td>0.294241</td>\n",
       "      <td>0.000000</td>\n",
       "    </tr>\n",
       "    <tr>\n",
       "      <th>Cirr</th>\n",
       "      <td>0.022436</td>\n",
       "      <td>0.148130</td>\n",
       "      <td>0.022436</td>\n",
       "      <td>0.148130</td>\n",
       "      <td>0.000000</td>\n",
       "    </tr>\n",
       "    <tr>\n",
       "      <th>colcan</th>\n",
       "      <td>0.000458</td>\n",
       "      <td>0.021398</td>\n",
       "      <td>0.000458</td>\n",
       "      <td>0.021398</td>\n",
       "      <td>0.000000</td>\n",
       "    </tr>\n",
       "    <tr>\n",
       "      <th>Coma</th>\n",
       "      <td>0.043498</td>\n",
       "      <td>0.204022</td>\n",
       "      <td>0.043498</td>\n",
       "      <td>0.204022</td>\n",
       "      <td>0.000000</td>\n",
       "    </tr>\n",
       "    <tr>\n",
       "      <th>COPD</th>\n",
       "      <td>0.026557</td>\n",
       "      <td>0.160821</td>\n",
       "      <td>0.026557</td>\n",
       "      <td>0.160821</td>\n",
       "      <td>0.000000</td>\n",
       "    </tr>\n",
       "    <tr>\n",
       "      <th>lungcan</th>\n",
       "      <td>0.002289</td>\n",
       "      <td>0.047804</td>\n",
       "      <td>0.002289</td>\n",
       "      <td>0.047804</td>\n",
       "      <td>0.000000</td>\n",
       "    </tr>\n",
       "    <tr>\n",
       "      <th>MOSF</th>\n",
       "      <td>0.072344</td>\n",
       "      <td>0.259117</td>\n",
       "      <td>0.072344</td>\n",
       "      <td>0.259117</td>\n",
       "      <td>0.000000</td>\n",
       "    </tr>\n",
       "    <tr>\n",
       "      <th>sepsis</th>\n",
       "      <td>0.241300</td>\n",
       "      <td>0.427970</td>\n",
       "      <td>0.320513</td>\n",
       "      <td>0.466781</td>\n",
       "      <td>0.176894</td>\n",
       "    </tr>\n",
       "    <tr>\n",
       "      <th>female</th>\n",
       "      <td>0.437729</td>\n",
       "      <td>0.496221</td>\n",
       "      <td>0.414835</td>\n",
       "      <td>0.492806</td>\n",
       "      <td>0.046295</td>\n",
       "    </tr>\n",
       "    <tr>\n",
       "      <th>died</th>\n",
       "      <td>0.623626</td>\n",
       "      <td>0.484586</td>\n",
       "      <td>0.680403</td>\n",
       "      <td>0.466427</td>\n",
       "      <td>0.119380</td>\n",
       "    </tr>\n",
       "    <tr>\n",
       "      <th>age</th>\n",
       "      <td>61.167198</td>\n",
       "      <td>16.415684</td>\n",
       "      <td>60.749836</td>\n",
       "      <td>15.630698</td>\n",
       "      <td>0.026040</td>\n",
       "    </tr>\n",
       "    <tr>\n",
       "      <th>meanbp1</th>\n",
       "      <td>73.199863</td>\n",
       "      <td>34.134861</td>\n",
       "      <td>68.197802</td>\n",
       "      <td>34.242209</td>\n",
       "      <td>0.146308</td>\n",
       "    </tr>\n",
       "  </tbody>\n",
       "</table>\n",
       "</div>"
      ],
      "text/plain": [
       "treatment          0                     1                  SMD\n",
       "                mean        std       mean        std          \n",
       "ARF         0.495421   0.500094   0.416209   0.493042  0.159516\n",
       "CHF         0.095696   0.294241   0.095696   0.294241  0.000000\n",
       "Cirr        0.022436   0.148130   0.022436   0.148130  0.000000\n",
       "colcan      0.000458   0.021398   0.000458   0.021398  0.000000\n",
       "Coma        0.043498   0.204022   0.043498   0.204022  0.000000\n",
       "COPD        0.026557   0.160821   0.026557   0.160821  0.000000\n",
       "lungcan     0.002289   0.047804   0.002289   0.047804  0.000000\n",
       "MOSF        0.072344   0.259117   0.072344   0.259117  0.000000\n",
       "sepsis      0.241300   0.427970   0.320513   0.466781  0.176894\n",
       "female      0.437729   0.496221   0.414835   0.492806  0.046295\n",
       "died        0.623626   0.484586   0.680403   0.466427  0.119380\n",
       "age        61.167198  16.415684  60.749836  15.630698  0.026040\n",
       "meanbp1    73.199863  34.134861  68.197802  34.242209  0.146308"
      ]
     },
     "execution_count": 8,
     "metadata": {},
     "output_type": "execute_result"
    }
   ],
   "source": [
    "c_matched = create_table_one(matched_df, strata=meta.treatment)\n",
    "c_matched"
   ]
  },
  {
   "cell_type": "code",
   "execution_count": 9,
   "metadata": {},
   "outputs": [
    {
     "data": {
      "image/png": "[encoded data removed]",
      "text/plain": [
       "<Figure size 432x288 with 1 Axes>"
      ]
     },
     "metadata": {},
     "output_type": "display_data"
    }
   ],
   "source": [
    "c_matched['SMD'].plot(ax=plt.gca(), label='after matching')\n",
    "c_unmatched['SMD'].plot(ax=plt.gca(), label='before matching')\n",
    "mpl_set(\n",
    "    legend=True, \n",
    "    ylabel='SMD', \n",
    "    xticks=(np.arange(len(c_matched)), list(c_matched.index)),\n",
    ")"
   ]
  },
  {
   "cell_type": "code",
   "execution_count": 10,
   "metadata": {},
   "outputs": [
    {
     "data": {
      "text/html": [
       "<div>\n",
       "<style scoped>\n",
       "    .dataframe tbody tr th:only-of-type {\n",
       "        vertical-align: middle;\n",
       "    }\n",
       "\n",
       "    .dataframe tbody tr th {\n",
       "        vertical-align: top;\n",
       "    }\n",
       "\n",
       "    .dataframe thead th {\n",
       "        text-align: right;\n",
       "    }\n",
       "</style>\n",
       "<table border=\"1\" class=\"dataframe\">\n",
       "  <thead>\n",
       "    <tr style=\"text-align: right;\">\n",
       "      <th>outcome_0</th>\n",
       "      <th>0</th>\n",
       "      <th>1</th>\n",
       "    </tr>\n",
       "    <tr>\n",
       "      <th>outcome_1</th>\n",
       "      <th></th>\n",
       "      <th></th>\n",
       "    </tr>\n",
       "  </thead>\n",
       "  <tbody>\n",
       "    <tr>\n",
       "      <th>0</th>\n",
       "      <td>316</td>\n",
       "      <td>382</td>\n",
       "    </tr>\n",
       "    <tr>\n",
       "      <th>1</th>\n",
       "      <td>506</td>\n",
       "      <td>980</td>\n",
       "    </tr>\n",
       "  </tbody>\n",
       "</table>\n",
       "</div>"
      ],
      "text/plain": [
       "outcome_0    0    1\n",
       "outcome_1          \n",
       "0          316  382\n",
       "1          506  980"
      ]
     },
     "execution_count": 10,
     "metadata": {},
     "output_type": "execute_result"
    }
   ],
   "source": [
    "# compute the contigency table\n",
    "(\n",
    "    pd.DataFrame({\n",
    "    'outcome_1': matched_1[meta.outcome],\n",
    "    'outcome_0': matched_0[meta.outcome],\n",
    "    })\n",
    "    .groupby(['outcome_0', 'outcome_1']).size()\n",
    "    .unstack()\n",
    "    .transpose()\n",
    ")"
   ]
  },
  {
   "cell_type": "code",
   "execution_count": 11,
   "metadata": {},
   "outputs": [
    {
     "data": {
      "text/plain": [
       "0.056776556776556776"
      ]
     },
     "execution_count": 11,
     "metadata": {},
     "output_type": "execute_result"
    }
   ],
   "source": [
    "(matched_1[meta.outcome] - matched_0[meta.outcome]).mean()"
   ]
  },
  {
   "cell_type": "markdown",
   "metadata": {},
   "source": [
    "## Propensity Scores Matching\n",
    "\n",
    "Based on lecture \"Week 3 / Propensity Scores / Propensity Scores\" of the coursera course [\"A Crash Course in Causality\"](https://www.coursera.org/learn/crash-course-in-causality/)."
   ]
  },
  {
   "cell_type": "code",
   "execution_count": 12,
   "metadata": {},
   "outputs": [],
   "source": [
    "from sklearn.linear_model import LogisticRegression"
   ]
  },
  {
   "cell_type": "code",
   "execution_count": 13,
   "metadata": {},
   "outputs": [],
   "source": [
    "ps_model = LogisticRegression(C=1e3)\n",
    "ps_model.fit(df[meta.covariates], df[meta.treatment])\n",
    "\n",
    "ps = ps_model.predict_proba(df[meta.covariates])\n",
    "ps = pd.Series(ps[:, 1], index=df.index)"
   ]
  },
  {
   "cell_type": "code",
   "execution_count": 14,
   "metadata": {},
   "outputs": [
    {
     "data": {
      "text/plain": [
       "<matplotlib.axes._subplots.AxesSubplot at 0x11bb8b400>"
      ]
     },
     "execution_count": 14,
     "metadata": {},
     "output_type": "execute_result"
    },
    {
     "data": {
      "image/png": "[encoded data removed]",
      "text/plain": [
       "<Figure size 432x288 with 1 Axes>"
      ]
     },
     "metadata": {},
     "output_type": "display_data"
    }
   ],
   "source": [
    "pd.Series(ps_model.coef_[0], index=meta.covariates).sort_values().plot.bar()"
   ]
  },
  {
   "cell_type": "code",
   "execution_count": 15,
   "metadata": {},
   "outputs": [],
   "source": [
    "indices_0, indices_1 = psmatch(ps, df[meta.treatment])\n",
    "\n",
    "matched_0 = df.loc[indices_0].reset_index(drop=True)\n",
    "matched_1 = df.loc[indices_1].reset_index(drop=True)\n",
    "\n",
    "matched_df = pd.concat([matched_0, matched_1], axis=0, ignore_index=True)\n",
    "matched_df.sort_index(inplace=True)"
   ]
  },
  {
   "cell_type": "code",
   "execution_count": 16,
   "metadata": {},
   "outputs": [
    {
     "data": {
      "image/png": "[encoded data removed]",
      "text/plain": [
       "<Figure size 720x288 with 2 Axes>"
      ]
     },
     "metadata": {},
     "output_type": "display_data"
    }
   ],
   "source": [
    "_, (ax1, ax2) = plt.subplots(1, 2, figsize=(10, 4))\n",
    "\n",
    "plt.sca(ax1)\n",
    "ps[df[meta.treatment] == 0].plot.hist(alpha=0.5, ax=plt.gca(), label='untreated', range=(0, 1), bins=21)\n",
    "ps[df[meta.treatment] == 1].plot.hist(alpha=0.5, ax=plt.gca(), label='treated', range=(0, 1), bins=21)\n",
    "mpl_set(legend=True, title='before matching', xlabel='propensity score')\n",
    "\n",
    "\n",
    "plt.sca(ax2)\n",
    "ps.loc[indices_0].plot.hist(alpha=0.5, range=(0, 1), bins=21, label='untreated')\n",
    "ps.loc[indices_1].plot.hist(alpha=0.5, range=(0, 1), bins=21, label='treated')\n",
    "mpl_set(legend=True, title='after matching', xlabel='propensity score')"
   ]
  },
  {
   "cell_type": "code",
   "execution_count": 17,
   "metadata": {},
   "outputs": [
    {
     "data": {
      "text/plain": [
       "0.04304029304029304"
      ]
     },
     "execution_count": 17,
     "metadata": {},
     "output_type": "execute_result"
    }
   ],
   "source": [
    "(matched_1[meta.outcome] - matched_0[meta.outcome]).mean()"
   ]
  }
 ],
 "metadata": {
  "kernelspec": {
   "display_name": "Python 3",
   "language": "python",
   "name": "python3"
  },
  "language_info": {
   "codemirror_mode": {
    "name": "ipython",
    "version": 3
   },
   "file_extension": ".py",
   "mimetype": "text/x-python",
   "name": "python",
   "nbconvert_exporter": "python",
   "pygments_lexer": "ipython3",
   "version": "3.6.4"
  }
 },
 "nbformat": 4,
 "nbformat_minor": 2
}
