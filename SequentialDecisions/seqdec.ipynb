{
 "cells": [
  {
   "cell_type": "code",
   "execution_count": null,
   "metadata": {},
   "outputs": [],
   "source": [
    "import pathlib"
   ]
  },
  {
   "cell_type": "code",
   "execution_count": null,
   "metadata": {},
   "outputs": [],
   "source": [
    "from chmp.ds import reload\n",
    "\n",
    "import asyncio\n",
    "import datetime\n",
    "import json\n",
    "import logging\n",
    "import pickle\n",
    "\n",
    "from pathlib import Path\n",
    "\n",
    "logging.basicConfig(level=logging.DEBUG)\n",
    "\n",
    "reload('chmp.app.seqdec.sequencing', 'chmp.app.seqdec.cli')\n",
    "from chmp.app.seqdec.cli import execute\n",
    "from chmp.app.seqdec.sequencing import find_blocks, build_sequence"
   ]
  },
  {
   "cell_type": "code",
   "execution_count": null,
   "metadata": {},
   "outputs": [],
   "source": [
    "with (Path.cwd() / 'data' / 'sequences' / 'step_meta.json').open('rt') as fobj:\n",
    "    meta = json.load(fobj)\n",
    "    \n",
    "meta = {desc['name']: desc for desc in meta}\n",
    "\n",
    "\n",
    "with (Path.cwd() / 'data' / 'sequences' / 'manual1.json').open('rt') as fobj:\n",
    "    sequence, *_ = json.load(fobj)\n",
    "    \n",
    "sequence = [meta[pose] for pose in sequence['poses']]\n",
    "sequence = build_sequence(sequence)\n",
    "sequence = [dict(p, message=p['message'].format(**p)) for p in sequence]\n",
    "\n",
    "\n",
    "with (Path.cwd() / '..' / 'KeywordDetection' / 'run' / 'model' / 'model.pickle').open('rb') as fobj:\n",
    "    keyword_model = pickle.load(fobj)"
   ]
  },
  {
   "cell_type": "code",
   "execution_count": null,
   "metadata": {},
   "outputs": [],
   "source": [
    "loop = asyncio.get_event_loop()\n",
    "events = execute(sequence, keyword_model, loop=loop)"
   ]
  },
  {
   "cell_type": "code",
   "execution_count": null,
   "metadata": {},
   "outputs": [],
   "source": [
    "fname = Path() / 'data' / 'traces' / datetime.datetime.now().strftime('%Y-%m-%d-%H-%M-%S.json')\n",
    "if not fname.exists():\n",
    "    with fname.open('wt') as fobj:\n",
    "        json.dump(events, fobj, indent=2, sort_keys=True, ensure_ascii=False)"
   ]
  }
 ],
 "metadata": {
  "hide_input": false,
  "kernelspec": {
   "display_name": "py3",
   "language": "python",
   "name": "py3"
  },
  "language_info": {
   "codemirror_mode": {
    "name": "ipython",
    "version": 3
   },
   "file_extension": ".py",
   "mimetype": "text/x-python",
   "name": "python",
   "nbconvert_exporter": "python",
   "pygments_lexer": "ipython3",
   "version": "3.6.3"
  },
  "toc": {
   "nav_menu": {},
   "number_sections": true,
   "sideBar": true,
   "skip_h1_title": false,
   "toc_cell": false,
   "toc_position": {},
   "toc_section_display": "block",
   "toc_window_display": false
  }
 },
 "nbformat": 4,
 "nbformat_minor": 2
}
