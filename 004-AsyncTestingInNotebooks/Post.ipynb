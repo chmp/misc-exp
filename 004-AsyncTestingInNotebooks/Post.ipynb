{
 "cells": [
  {
   "cell_type": "raw",
   "metadata": {
    "tags": [
     "chmp-export-meta"
    ]
   },
   "source": [
    "{\"title\": \"asyncio testing inside notebooks\", \"author\": \"Christopher Prohm\", \"date\": \"2019-07-28\"}"
   ]
  },
  {
   "cell_type": "markdown",
   "metadata": {},
   "source": [
    "Recently I started to work on a project mixing lots of network IO and concurrent tasks. \n",
    "Due to these requirements [asyncio](https://docs.python.org/3/library/asyncio.html) seemed \n",
    "like a prefect fit. However this project was also my first big foray into the async world \n",
    "of python and I needed a bit of time to learn the ropes. \n",
    "As mentioned in a [previous post](https://cprohm.de/article/notebooks-and-modules.html), I \n",
    "do love to familiarize myself with new technology by experimenting in a notebook and only \n",
    "then to refactor the result into python packages.\n",
    "\n",
    "In this blog post, I would like to show how to combine asyncio and pytest inside notebooks. \n",
    "IPython has had an [excellent async support](https://blog.jupyter.org/ipython-7-0-async-repl-a35ce050f7f7) \n",
    "for quite some while now. However, running async tests inside IPython requires a bit of \n",
    "care. Below I describe what changes in [`ipytest`](github.com/chmp/ipytest) we necessary.\n",
    "\n",
    "But first, I would like to explore a bit how IPython's async support helps you to directly\n",
    "call async code in the notebook. For example, the following piece of code will directly work \n",
    "with `IPython>=7.0.0`."
   ]
  },
  {
   "cell_type": "code",
   "execution_count": 1,
   "metadata": {},
   "outputs": [],
   "source": [
    "import asyncio\n",
    "await asyncio.sleep(0.1)"
   ]
  },
  {
   "cell_type": "markdown",
   "metadata": {},
   "source": [
    "To support concurrent execution, asyncio uses a coordination layer called the event loop. \n",
    "At every `await` expression control is transferred back from the user's code to the event \n",
    "loop. It may then run a different asynchronous function or wait for external events. (For \n",
    "a more thorough introduction, see for example [this great PyCon talk](https://www.youtube.com/watch?v=iG6fr81xHKA)\n",
    "by Miguel Grinberg). Event loops are created per thread, i.e., each thread can execute \n",
    "its own collection of async functions.  One detail that will become important is that \n",
    "IPython creates a default event loop for the main thread that is used to execute any top \n",
    "level async code."
   ]
  },
  {
   "cell_type": "markdown",
   "metadata": {},
   "source": [
    "The integration of asynchronous code into [`pytest`](https://docs.pytest.org) is also pretty \n",
    "straightforward thanks to the excellent [`pytest-asyncio`](https://github.com/pytest-dev/pytest-asyncio)\n",
    "plugin. First install `pip install pytest pytest-asyncio`. Then, writing tests for asyncio \n",
    "code is as simple as:"
   ]
  },
  {
   "cell_type": "code",
   "execution_count": 2,
   "metadata": {},
   "outputs": [],
   "source": [
    "import pytest \n",
    "\n",
    "@pytest.mark.asyncio\n",
    "async def test_some_asyncio_code():\n",
    "    actual = await do_something()\n",
    "    assert actual == 42\n",
    "    \n",
    "\n",
    "async def do_something():\n",
    "    await asyncio.sleep(0.1)\n",
    "    return 42"
   ]
  },
  {
   "cell_type": "markdown",
   "metadata": {},
   "source": [
    "However, things get tricky when trying to run these tests inside notebooks. The reason is \n",
    "that `pytest-asyncio` tries to creates its own event loop, which then conflicts with the \n",
    "main-thread event loop of `IPython`. Luckily, there is a simple solution: execute the tests\n",
    "in a separate thread. This thread will not have a pre-existing event loop and \n",
    "`pytest-asyncio` is free to create its own. \n",
    "\n",
    "Since version *`0.7.0`*, [`ipytest`](github.com/chmp/ipytest) supports exactly this behavior\n",
    "by passing `run_in_thread=True` to `config`. First install the most recent version via \n",
    "`pip install -U ipytest`. Then configure `ipytest`:"
   ]
  },
  {
   "cell_type": "code",
   "execution_count": 3,
   "metadata": {
    "tags": [
     "chmp-export-hide-output"
    ]
   },
   "outputs": [
    {
     "data": {
      "text/plain": [
       "<ConfigContext rewrite_asserts=True, magics=False, tempfile_fallback=False, clean='[Tt]est*', addopts=['-qq'], raise_on_error=False, run_in_thread=True>"
      ]
     },
     "execution_count": 3,
     "metadata": {},
     "output_type": "execute_result"
    }
   ],
   "source": [
    "# import ipytest\n",
    "import ipytest\n",
    "\n",
    "# expose the notebook name\n",
    "__file__ = 'Post.ipynb'\n",
    "\n",
    "ipytest.config(\n",
    "    rewrite_asserts=True, addopts=['-qq'], \n",
    "    \n",
    "    # run in a separate thread\n",
    "    run_in_thread=True,\n",
    ")"
   ]
  },
  {
   "cell_type": "markdown",
   "metadata": {},
   "source": [
    "And finally run tests via:"
   ]
  },
  {
   "cell_type": "code",
   "execution_count": 4,
   "metadata": {
    "scrolled": true,
    "tags": [
     "chmp-export-hide-output"
    ]
   },
   "outputs": [
    {
     "name": "stdout",
     "output_type": "stream",
     "text": [
      ".                                                                                                                                                                           [100%]\n"
     ]
    }
   ],
   "source": [
    "ipytest.run()"
   ]
  },
  {
   "cell_type": "markdown",
   "metadata": {},
   "source": [
    "And that's all that needs to be done to run asyncio tests inside jupyter notebooks. If \n",
    "you have any feedback or comments, feel free to reach out to me on twitter \n",
    "[@c_prohm](https://twitter.com/@c_prohm) or post an issue on [github](https://github.com/chmp/ipytest)."
   ]
  }
 ],
 "metadata": {
  "celltoolbar": "Tags",
  "kernelspec": {
   "display_name": "misc-exp",
   "language": "python",
   "name": "misc-exp"
  },
  "language_info": {
   "codemirror_mode": {
    "name": "ipython",
    "version": 3
   },
   "file_extension": ".py",
   "mimetype": "text/x-python",
   "name": "python",
   "nbconvert_exporter": "python",
   "pygments_lexer": "ipython3",
   "version": "3.7.3"
  }
 },
 "nbformat": 4,
 "nbformat_minor": 2
}
