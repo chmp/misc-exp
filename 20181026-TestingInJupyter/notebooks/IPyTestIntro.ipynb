{
 "cells": [
  {
   "cell_type": "markdown",
   "metadata": {
    "slideshow": {
     "slide_type": "notes"
    }
   },
   "source": [
    "# Prototyping to tested code\n",
    "\n",
    "## About the author\n",
    "\n",
    "I am a physicist by training and am now working as a data scientist. In my work, I focus on building robust software and putting code in production. Python has been my tool of choice for about 8 years.\n",
    "\n",
    "## An introduction to ipytest\n",
    "\n",
    "Jupyter notebooks are a great environment to prototype solutions and explore their design. Turning these solutions into reusable components usually requires moving them out of the notebook environment into external python packages. Often, at this stage, the code is refactored and test are written.\n",
    "\n",
    "In this talk, I will demo ipytest, a small tool to run tests inside notebooks. It supports pytest as well as the standard unittest framework. It allows to start prototypes in a notebook and to develop the tests with the code in an highly interactive environment. As the code grows, it can be transparently moved outside notebooks and transformed into reusable components. By bringing support for tests to the notebook environment, ipytest bridges the artificial gap between notebooks and reusable components."
   ]
  },
  {
   "cell_type": "markdown",
   "metadata": {
    "slideshow": {
     "slide_type": "slide"
    }
   },
   "source": [
    "# Prototyping to tested code\n",
    "\n",
    "## An introduction to [`ipytest`](https://github.com/chmp/ipytest/)\n",
    "\n",
    "<p>\n",
    "    <div>Christopher Prohm (<a href=\"https://twitter.com/@c_prohm\">@c_prohm</a>)</div>\n",
    "    <div>PyCon.DE 2018, Karlsruhe</div>\n",
    "</p>\n",
    "\n",
    "<br/>\n",
    "\n",
    "<p>\n",
    "    <div>Github: <a href=\"https://githb.com/chmp/ipytest\">https://githb.com/chmp/ipytest</a></div>\n",
    "</p>"
   ]
  },
  {
   "cell_type": "markdown",
   "metadata": {
    "slideshow": {
     "slide_type": "subslide"
    }
   },
   "source": [
    "## Disclaimer\n",
    "\n",
    "**The views and opinions expressed in this talk are mine and do not necessarily reflect the ones of my employer. The content and materials are my own.**"
   ]
  },
  {
   "cell_type": "markdown",
   "metadata": {
    "slideshow": {
     "slide_type": "slide"
    }
   },
   "source": [
    "# About Me\n",
    "\n",
    "<br/>\n",
    "<p>\n",
    "    <div>Physicist by training, turned data scientist.</div>\n",
    "    <div>Working at Volkswagen Data:Lab in Munich.</div>\n",
    "</p>\n",
    "\n",
    "<br/>\n",
    "<p>\n",
    "    <span class=\"fragment fade-in\">Avid user of Jupyter notebooks.</span>\n",
    "    <span class=\"fragment fade-in\">Also, conflicted about Jupyter notebooks.</span>\n",
    "</p>"
   ]
  },
  {
   "cell_type": "code",
   "execution_count": 1,
   "metadata": {
    "slideshow": {
     "slide_type": "skip"
    }
   },
   "outputs": [],
   "source": [
    "try:\n",
    "    from PIL import Image, ImageDraw\n",
    "\n",
    "except ImportError:\n",
    "    pass\n",
    "\n",
    "else:\n",
    "    img1 = Image.open('../resources/Joel_Grus_Tweet.png')\n",
    "    img2 = Image.open('../resources/refactoring.png')\n",
    "    img3 = Image.open('../resources/state.png')\n",
    "\n",
    "    scale = min(img1.size[0] / img2.size[0], img1.size[1] / img2.size[1])\n",
    "    img2 = img2.resize((int(img2.size[0] * scale), int(img2.size[1] * scale)))\n",
    "\n",
    "    w = img2.size[0] + img1.size[0] // 2 + 10\n",
    "    h = img2.size[1] + img1.size[1] // 2\n",
    "\n",
    "    composite = Image.new('RGB', (w, h))\n",
    "    composite.paste((255, 255, 255), (0, 0, *composite.size))\n",
    "    composite.paste(img3, (img1.size[0] // 2 - 260, img1.size[1] // 2 - 200))\n",
    "    composite.paste(img2, (img1.size[0] // 2 - 20, img1.size[1] // 2 + 100))\n",
    "    composite.paste(img1, (0, 50, img1.size[0], img1.size[1] + 50))\n",
    "\n",
    "    draw = ImageDraw.Draw(composite)\n",
    "\n",
    "    for i in range(3):\n",
    "        draw.rectangle((635 - i, 375 - i, 870 + i, 475 + i), outline='red')\n",
    "\n",
    "\n",
    "    for i in range(3):\n",
    "        draw.rectangle((630 - i, 30 - i, 900 + i, 295 + i), outline='red')\n",
    "\n",
    "    composite.save('../resources/composite.png')"
   ]
  },
  {
   "cell_type": "markdown",
   "metadata": {
    "slideshow": {
     "slide_type": "subslide"
    }
   },
   "source": [
    "# Jupyter notebooks\n",
    "\n",
    "![](../resources/composite.png)"
   ]
  },
  {
   "cell_type": "markdown",
   "metadata": {
    "slideshow": {
     "slide_type": "subslide"
    }
   },
   "source": [
    "# My take on it\n",
    "\n",
    "Notebooks *are* hard:\n",
    "\n",
    "- global state is confusing to me\n",
    "- git and notebooks do not mesh well in my view\n",
    "- my notebooks seems to becomes messier over time\n",
    "\n",
    "<div class=\"fragment fade-in\">\n",
    "<p>\n",
    "    But notebooks overall increases my <b>productivity</b> enormously:\n",
    "    <ul>\n",
    "        <li>rapid feedback and exploration</li>\n",
    "        <li>documentation (incl. math)</li>\n",
    "    </ul>\n",
    "</p>\n",
    "</div>"
   ]
  },
  {
   "cell_type": "markdown",
   "metadata": {
    "slideshow": {
     "slide_type": "subslide"
    }
   },
   "source": [
    "# Notebook vs. Modules?\n",
    "\n",
    "<br/>\n",
    "<p class=\"fragment fade-in\">Use what is most efficient.</p>\n",
    "<br/>\n",
    "<p>\n",
    "    <div class=\"fragment fade-in\">\n",
    "        <div>Combine the best of both worlds,</div>\n",
    "        <div>move code progressively out of notebooks.</div>\n",
    "    </div>\n",
    "</p>\n",
    "<br/>\n",
    "<p class=\"fragment fade-in\">Use same  libraries &amp; tooling inside and outside notebooks. </p>\n",
    "<br/>"
   ]
  },
  {
   "cell_type": "markdown",
   "metadata": {
    "slideshow": {
     "slide_type": "subslide"
    }
   },
   "source": [
    "# The notebook-module continuum\n",
    "\n",
    "<div style=\"display: grid; grid-template-columns: 20% 20% 20% 20% 20%; grid-template-rows: 2em 2em 0.5em 2em 2em 2em 2em;\">\n",
    "    <span style=\"grid-row: 2; grid-column-start: 1; grid-column-end: 1; text-align: left;\">\n",
    "        <b>notebook</b>\n",
    "    </span>\n",
    "    <span style=\"grid-row: 2; grid-column-start: 5; grid-column-end: 5; text-align: right;\">\n",
    "        <b>modules</b>\n",
    "    </span>\n",
    "    <span \n",
    "        style=\"grid-row: 4; grid-column-start: 1; grid-column-end: 3; text-align: left;\" \n",
    "        class=\"fragment fade-in\"\n",
    "        data-fragment-index=\"1\"\n",
    "    >\n",
    "        <a href=\"https://matplotlib.org\">matplotlib</a>, \n",
    "        <a href=\"https://bokeh.pydata.org\">bokeh</a>, \n",
    "        <a href=\"https://altair-viz.github.io/\">altair</a>, ...\n",
    "    </span>\n",
    "    <span style=\"grid-row: 5; grid-column: 1; text-align: left;\">\n",
    "        <span class=\"fragment fade-in\" data-fragment-index=\"2\">\n",
    "            <span class=\"fragment fade-out\" data-fragment-index=\"3\">\n",
    "                <a href=\"https://dask.org/\">dask</a>, \n",
    "                <a href=\"https://spark.apache.org/\">pyspark</a>\n",
    "            </span>\n",
    "        </span>\n",
    "    </span>\n",
    "    <span style=\"grid-row: 5; grid-column: 2; text-align: center;\">\n",
    "        <span class=\"fragment fade-in\" data-fragment-index=\"3\">\n",
    "            <a href=\"https://dask.org/\">dask</a>, \n",
    "            <a href=\"https://spark.apache.org/\">pyspark</a>\n",
    "        </span>\n",
    "    </span>\n",
    "    <span style=\"grid-row: 6; grid-column: 1; text-align: left;\" class=\"fragment fade-in\" data-fragment-index=\"4\">\n",
    "        <a class=\"fragment fade-out\" href=\"https://mlflow.org\" data-fragment-index=\"5\">mlflow</a>\n",
    "    </span>\n",
    "    <span style=\"grid-row: 6; grid-column: 4; text-align: center;\">\n",
    "        <a class=\"fragment fade-in\" href=\"https://mlflow.org\" data-fragment-index=\"5\">mlflow</a>\n",
    "    </span>\n",
    "    <span style=\"grid-row: 7; grid-column-start: 1; grid-column-end: 5; text-align: left;\">\n",
    "        <span class=\"fragment fade-in\" data-fragment-index=\"6\">\n",
    "            <span class=\"fragment fade-out\"  data-fragment-index=\"7\">\n",
    "                <a href=\"https://panel.pyviz.org\">panel</a> (*)\n",
    "        </span>\n",
    "        </span>\n",
    "    </span>\n",
    "    <span style=\"grid-row: 7; grid-column-start: 3; grid-column-end: 5; text-align: center;\">\n",
    "        <span class=\"fragment fade-in\"  data-fragment-index=\"7\">\n",
    "            <a href=\"https://panel.pyviz.org\">panel</a> (*)\n",
    "        </span>\n",
    "    </span>\n",
    "    <span style=\"grid-row: 8; grid-column-start: 1; grid-column-end: 5; text-align: center;\">\n",
    "        <span class=\"fragment fade-in\">...</span>\n",
    "    </span>\n",
    "</div>\n",
    "\n",
    "<p style=\"width: 100%; text-align: center;\">\n",
    "    <div class=\"fragment fade-in\">How does such a workflow look like in practice?</div>\n",
    "    <div class=\"fragment fade-in\">How does testing fit in this picture?</div>\n",
    "    <div class=\"fragment fade-in\">How does <code>ipytest</code> support <code>pytest</code> inside notebooks?</div>\n",
    "</p>"
   ]
  },
  {
   "cell_type": "markdown",
   "metadata": {
    "slideshow": {
     "slide_type": "slide"
    }
   },
   "source": [
    "# Getting Started\n",
    "\n",
    "<div>&nbsp;</div>\n",
    "\n",
    "<pre>\n",
    "! pip install pytest       <span style=\"color: darkgreen;\">&lt;------- Hugely popular testing framework</span>\n",
    "! pip install ipytest      <span style=\"color: darkgreen;\">&lt;------- Integration of pytest and notebooks</span>\n",
    "                           <span style=\"color: darkgreen;\">         Full disclosure: I am the author.</span>\n",
    "</pre>\n"
   ]
  },
  {
   "cell_type": "code",
   "execution_count": 2,
   "metadata": {
    "slideshow": {
     "slide_type": "fragment"
    }
   },
   "outputs": [],
   "source": [
    "import ipytest.magics                  # <--- enable IPython magics\n",
    "\n",
    "\n",
    "import ipytest                         # <--- enable pytest's assert rewriting\n",
    "ipytest.config.rewrite_asserts = True  # \n",
    "\n",
    "\n",
    "__file__ = \"IPyTestIntro.ipynb\"        # <--- make the notebook filename available \n",
    "                                       #      to ipytest"
   ]
  },
  {
   "cell_type": "code",
   "execution_count": 3,
   "metadata": {
    "slideshow": {
     "slide_type": "fragment"
    }
   },
   "outputs": [
    {
     "name": "stdout",
     "output_type": "stream",
     "text": [
      ".                                                                [100%]\n"
     ]
    }
   ],
   "source": [
    "%%run_pytest[clean] -qq\n",
    "\n",
    "def test_example():\n",
    "    assert [1, 2, 3] == [1, 2,3 ]"
   ]
  },
  {
   "cell_type": "markdown",
   "metadata": {
    "slideshow": {
     "slide_type": "subslide"
    }
   },
   "source": [
    "# The main `ipytest` API\n",
    "\n",
    "<br/>\n",
    "\n",
    "<pre>\n",
    "%%<span class=\"fragment highlight-current-red\" data-fragment-index=\"1\">run_pytest</span>[<span class=\"fragment highlight-current-red\" data-fragment-index=\"2\">clean</span>] <span class=\"fragment highlight-current-red\" data-fragment-index=\"3\">-qq</span>\n",
    "     ^         ^     ^\n",
    "     +---------|-----|---- <span class=\"fragment highlight-current-red\" data-fragment-index=\"1\">execute tests with pytest</span>\n",
    "               |\n",
    "               +-----|---- <span class=\"fragment highlight-current-red\" data-fragment-index=\"2\">delete any previously defined tests</span>\n",
    "                     |\n",
    "                     +---- <span class=\"fragment highlight-current-red\" data-fragment-index=\"3\">arbitrary pytest arguments</span>\n",
    "</pre>\n",
    "\n",
    "<br/><br/>\n",
    "\n",
    "<div class=\"fragment fade-in\">\n",
    "    Full docs at <a href=\"https://github.com/chmp/ipytest\">https://github.com/chmp/ipytest</a>.\n",
    "</div>"
   ]
  },
  {
   "cell_type": "markdown",
   "metadata": {
    "slideshow": {
     "slide_type": "slide"
    }
   },
   "source": [
    "# `pytest` support\n",
    "\n",
    "<div>&nbsp;</div>\n",
    "\n",
    "`pytest` is doing all the heavy lifting 😀. Most (all?) `pytest` features work out of the box.\n",
    "\n",
    "\n",
    "- ` @pytest.mark.*` \n",
    "- ` @pytest.fixture`\n",
    "- `--pdb`\n",
    "- `-l`\n",
    "- ...\n",
    "- Assertion rewriting\n"
   ]
  },
  {
   "cell_type": "markdown",
   "metadata": {
    "slideshow": {
     "slide_type": "subslide"
    }
   },
   "source": [
    "# Assertion rewriting"
   ]
  },
  {
   "cell_type": "code",
   "execution_count": 4,
   "metadata": {
    "slideshow": {
     "slide_type": "-"
    }
   },
   "outputs": [],
   "source": [
    "def keep_odds(iterable):\n",
    "    return [item for item in iterable if item % 2 == 0]\n",
    "    #                           error at ^^^^^^^^^^^^^"
   ]
  },
  {
   "cell_type": "code",
   "execution_count": 5,
   "metadata": {
    "slideshow": {
     "slide_type": "fragment"
    }
   },
   "outputs": [
    {
     "name": "stdout",
     "output_type": "stream",
     "text": [
      "F                                                                [100%]\n",
      "=============================== FAILURES ===============================\n",
      "____________________________ test_keep_odds ____________________________\n",
      "\n",
      "    def test_keep_odds():\n",
      ">       assert keep_odds([1, 2, 3, 4]) == [1, 3]\n",
      "E       assert [2, 4] == [1, 3]\n",
      "E         At index 0 diff: 2 != 1\n",
      "E         Full diff:\n",
      "E         - [2, 4]\n",
      "E         + [1, 3]\n",
      "\n",
      "<ipython-input-5-757929023375>:3: AssertionError\n"
     ]
    }
   ],
   "source": [
    "%%run_pytest[clean] -qq\n",
    "\n",
    "def test_keep_odds():\n",
    "    assert keep_odds([1, 2, 3, 4]) == [1, 3]"
   ]
  },
  {
   "cell_type": "markdown",
   "metadata": {
    "slideshow": {
     "slide_type": "skip"
    }
   },
   "source": [
    "# Parametrize"
   ]
  },
  {
   "cell_type": "code",
   "execution_count": 6,
   "metadata": {
    "slideshow": {
     "slide_type": "skip"
    }
   },
   "outputs": [],
   "source": [
    "import pytest"
   ]
  },
  {
   "cell_type": "code",
   "execution_count": 7,
   "metadata": {
    "slideshow": {
     "slide_type": "skip"
    }
   },
   "outputs": [
    {
     "name": "stdout",
     "output_type": "stream",
     "text": [
      "..                                                               [100%]\n"
     ]
    }
   ],
   "source": [
    "%%run_pytest[clean] -qq\n",
    "\n",
    "@pytest.mark.parametrize('input, expected', [\n",
    "    ([0.5, 1, 1.5], 3), \n",
    "    ([2, 2.5], 4.5),\n",
    "])\n",
    "def test_sum(input, expected):\n",
    "    actual = sum(input)\n",
    "    assert actual == pytest.approx(expected)"
   ]
  },
  {
   "cell_type": "markdown",
   "metadata": {
    "slideshow": {
     "slide_type": "skip"
    }
   },
   "source": [
    "# Fixtures"
   ]
  },
  {
   "cell_type": "code",
   "execution_count": 8,
   "metadata": {
    "slideshow": {
     "slide_type": "skip"
    }
   },
   "outputs": [
    {
     "name": "stdout",
     "output_type": "stream",
     "text": [
      ".                                                                [100%]\n"
     ]
    }
   ],
   "source": [
    "%%run_pytest[clean] -qq\n",
    "\n",
    "@pytest.fixture\n",
    "def my_fixture():\n",
    "    return True\n",
    "    \n",
    "def test_my_fixture(my_fixture):\n",
    "    assert my_fixture is True"
   ]
  },
  {
   "cell_type": "code",
   "execution_count": 9,
   "metadata": {
    "scrolled": false,
    "slideshow": {
     "slide_type": "skip"
    }
   },
   "outputs": [
    {
     "name": "stdout",
     "output_type": "stream",
     "text": [
      ".                                                                [100%]\n"
     ]
    }
   ],
   "source": [
    "%%run_pytest[clean] -qq\n",
    "\n",
    "def test_with_tmpdir(tmpdir):\n",
    "    tmpdir.join(\"foo\").write(\"bar\")"
   ]
  },
  {
   "cell_type": "markdown",
   "metadata": {
    "slideshow": {
     "slide_type": "subslide"
    }
   },
   "source": [
    "# Debugger"
   ]
  },
  {
   "cell_type": "code",
   "execution_count": 10,
   "metadata": {
    "tags": [
     "nbval-skip"
    ]
   },
   "outputs": [
    {
     "name": "stdout",
     "output_type": "stream",
     "text": [
      "F\n",
      ">>>>>>>>>>>>>>>>>>>>>>>>>>>>>> traceback >>>>>>>>>>>>>>>>>>>>>>>>>>>>>>>\n",
      "\n",
      "    def test_pdb():\n",
      "        l = [1, 2, 3]\n",
      ">       assert l == []\n",
      "E       assert [1, 2, 3] == []\n",
      "E         Left contains more items, first extra item: 1\n",
      "E         Full diff:\n",
      "E         - [1, 2, 3]\n",
      "E         + []\n",
      "\n",
      "<ipython-input-10-26043487c447>:4: AssertionError\n",
      ">>>>>>>>>>>>>>>>>>>>>>>>>>>>> entering PDB >>>>>>>>>>>>>>>>>>>>>>>>>>>>>\n",
      "> <ipython-input-10-26043487c447>(4)test_pdb()\n",
      "-> assert l == []\n",
      "(Pdb) q\n",
      "\n"
     ]
    },
    {
     "name": "stderr",
     "output_type": "stream",
     "text": [
      "Exit: Quitting debugger\n"
     ]
    },
    {
     "name": "stdout",
     "output_type": "stream",
     "text": [
      "!!!!!!!!!!!!!!! _pytest.outcomes.Exit: Quitting debugger !!!!!!!!!!!!!!!\n"
     ]
    }
   ],
   "source": [
    "%%run_pytest[clean] -qq -x --pdb \n",
    "\n",
    "def test_pdb():\n",
    "    l = [1, 2, 3]\n",
    "    assert l == []"
   ]
  },
  {
   "cell_type": "markdown",
   "metadata": {
    "slideshow": {
     "slide_type": "slide"
    }
   },
   "source": [
    "# How does `ipytest` work?\n",
    "\n",
    "<p>\n",
    "<div>Small package.</div>\n",
    "<div class=\"fragment fade-in\">Creative use of extension APIs of pytest, jupyter.</div>\n",
    "</p>\n",
    "\n",
    "<div class=\"fragment fade-in\">\n",
    "<p>\n",
    "<pre>\n",
    "<span style=\"color:darkgreen;\">&#35; pytest plugin to make notebooks look like modules</span>\n",
    "<span style=\"color:darkgreen;\">class</span> <span style=\"color: darkblue;\">ModuleCollectorPlugin</span>(object):\n",
    "    <span style=\"color:darkgreen;\">def</span> <span style=\"color: darkblue;\">pytest_collect_file</span>(self, parent, path):\n",
    "        ...\n",
    "</pre>\n",
    "</p>\n",
    "</div>\n",
    "\n",
    "<div class=\"fragment fade-in\">\n",
    "<p>\n",
    "<pre>\n",
    "<span style=\"color:darkgreen;\">&#35; ipython plugin to rewrite asserts</span>\n",
    "shell = get_ipython()\n",
    "shell.ast_transformers.append(...)\n",
    "</pre>\n",
    "</p>\n",
    "</div>"
   ]
  },
  {
   "cell_type": "markdown",
   "metadata": {
    "slideshow": {
     "slide_type": "slide"
    }
   },
   "source": [
    "# Prototyping to Production\n",
    "\n",
    "Navigating the notebook / module continuum"
   ]
  },
  {
   "cell_type": "markdown",
   "metadata": {
    "slideshow": {
     "slide_type": "subslide"
    }
   },
   "source": [
    "# Directory layout\n",
    "\n",
    "<p>\n",
    "<pre>\n",
    "notebooks/\n",
    "notebooks/IPyTestIntro.ipynb\n",
    "</pre>\n",
    "</p>\n",
    "\n",
    "<div class=\"fragment fade-in\">\n",
    "<p>\n",
    "Requirements\n",
    "<pre>\n",
    "Pipfile          <span style=\"color: darkgreen\">&#35; &lt;---- abstract</span>\n",
    "Pipfile.lock     <span style=\"color: darkgreen\">&#35; &lt;---- concrete</span>\n",
    "</pre>\n",
    "</p>\n",
    "</div>\n",
    "\n",
    "<div class=\"fragment fade-in\">\n",
    "<p>\n",
    "Packaging\n",
    "<pre>\n",
    "setup.py\n",
    "src/             <span style=\"color: darkgreen\">&#35; &lt;---- source code</span>\n",
    "</pre>\n",
    "</p>\n",
    "</div>\n",
    "\n",
    "<div class=\"fragment fade-in\">\n",
    "<p>\n",
    "Tests\n",
    "<pre>\n",
    "tests/\n",
    "</pre>\n",
    "</p>\n",
    "</div>"
   ]
  },
  {
   "cell_type": "markdown",
   "metadata": {
    "slideshow": {
     "slide_type": "subslide"
    }
   },
   "source": [
    "# `Pipfile` & `pipenv`\n",
    "\n",
    "<br/>\n",
    "<pre>\n",
    "<span style=\"color: darkblue\">[packages]</span>\n",
    "ipytest = \"*\"\n",
    "pytest = \"*\"\n",
    "ipytest-demo = {editable = true, path = \".\"}\n",
    "<span style=\"color:darkgreen\">&#35;              ^^^^^^^^^^^^^^^^^^^^^^^^^^^^^\n",
    "&#35;               make local module editable\n",
    "&#35; ...\n",
    "</span>\n",
    "<span style=\"color: darkblue\">[scripts]</span>\n",
    "test = \"pytest tests\"\n",
    "</pre>\n",
    "<br/>"
   ]
  },
  {
   "cell_type": "markdown",
   "metadata": {
    "slideshow": {
     "slide_type": "subslide"
    }
   },
   "source": [
    "# `setup.py`\n",
    "\n",
    "<br/>\n",
    "\n",
    "<pre>\n",
    "<span style=\"color:darkgreen\">from</span> setuptools <span style=\"color:darkgreen\">import</span> setup, PEP420PackageFinder\n",
    "\n",
    "setup(\n",
    "    name=<span style=\"color: darkred\">'ipytest-demo'</span>,\n",
    "    version=<span style=\"color: darkred\">'0.0.0'</span>,\n",
    "    py_modules=[<span style=\"color: darkred\">\"keep_odds\"</span>],\n",
    "    <span style=\"color: darkgreen\">&#35; ^^^ when using modules (credit: @tmuxbee)</span>\n",
    "    <span style=\"color: darkgreen\">&#35;</span>\n",
    "    <span style=\"color: darkgreen\">&#35; alternative for packages:</span>\n",
    "    <span style=\"color: darkgreen\">&#35; packages=PEP420PackageFinder.find('src'),</span>\n",
    "    package_dir={<span style=\"color: darkred\">''</span>: <span style=\"color: darkred\">'src'</span>},\n",
    ")\n",
    "</pre>\n",
    "\n",
    "<br/>"
   ]
  },
  {
   "cell_type": "markdown",
   "metadata": {
    "slideshow": {
     "slide_type": "subslide"
    }
   },
   "source": [
    "# From notebooks to modules (1/4)\n",
    "\n",
    "Write the code and explore it inside notebooks"
   ]
  },
  {
   "cell_type": "code",
   "execution_count": 11,
   "metadata": {
    "slideshow": {
     "slide_type": "-"
    }
   },
   "outputs": [],
   "source": [
    "# Write your functionality\n",
    "def keep_odds(iterable):\n",
    "    return [item for item in iterable if item % 2 == 1]"
   ]
  },
  {
   "cell_type": "code",
   "execution_count": 12,
   "metadata": {
    "slideshow": {
     "slide_type": "fragment"
    }
   },
   "outputs": [
    {
     "data": {
      "text/plain": [
       "[1, 3, 5]"
      ]
     },
     "execution_count": 12,
     "metadata": {},
     "output_type": "execute_result"
    }
   ],
   "source": [
    "# Interactive Exploration\n",
    "keep_odds([1, 2, 3, 4, 5, 6])"
   ]
  },
  {
   "cell_type": "markdown",
   "metadata": {
    "slideshow": {
     "slide_type": "subslide"
    }
   },
   "source": [
    "# From notebooks to modules (2/4)\n",
    "Write tests"
   ]
  },
  {
   "cell_type": "code",
   "execution_count": 13,
   "metadata": {
    "slideshow": {
     "slide_type": "-"
    }
   },
   "outputs": [],
   "source": [
    "# Write your functionality\n",
    "def keep_odds(iterable):\n",
    "    return [item for item in iterable if item % 2 == 1]"
   ]
  },
  {
   "cell_type": "code",
   "execution_count": 14,
   "metadata": {
    "slideshow": {
     "slide_type": "-"
    }
   },
   "outputs": [
    {
     "data": {
      "text/plain": [
       "[1, 3, 5]"
      ]
     },
     "execution_count": 14,
     "metadata": {},
     "output_type": "execute_result"
    }
   ],
   "source": [
    "# Interactive Exploration\n",
    "keep_odds([1, 2, 3, 4, 5, 6])"
   ]
  },
  {
   "cell_type": "code",
   "execution_count": 15,
   "metadata": {
    "slideshow": {
     "slide_type": "fragment"
    }
   },
   "outputs": [
    {
     "name": "stdout",
     "output_type": "stream",
     "text": [
      ".                                                                [100%]\n"
     ]
    }
   ],
   "source": [
    "%%run_pytest[clean] -qq\n",
    "\n",
    "def test_keep_odds():\n",
    "    assert keep_odds([1, 2, 3, 4, 5, 6]) == [1, 3, 5]"
   ]
  },
  {
   "cell_type": "markdown",
   "metadata": {
    "slideshow": {
     "slide_type": "subslide"
    }
   },
   "source": [
    "# From notebooks to modules (3/4)\n",
    "\n",
    "Move the code to a module, continue experimenting with tests inside notebook"
   ]
  },
  {
   "cell_type": "code",
   "execution_count": 16,
   "metadata": {
    "slideshow": {
     "slide_type": "-"
    }
   },
   "outputs": [
    {
     "name": "stdout",
     "output_type": "stream",
     "text": [
      "\r\n",
      "def keep_odds(iterable):\r\n",
      "    return [item for item in iterable if item % 2 == 1]\r\n"
     ]
    }
   ],
   "source": [
    "!cat ../src/keep_odds.py"
   ]
  },
  {
   "cell_type": "code",
   "execution_count": 17,
   "metadata": {
    "slideshow": {
     "slide_type": "fragment"
    }
   },
   "outputs": [
    {
     "name": "stdout",
     "output_type": "stream",
     "text": [
      ".                                                                [100%]\n"
     ]
    }
   ],
   "source": [
    "%%run_pytest[clean] -qq\n",
    "\n",
    "# reload the module\n",
    "ipytest.reload('keep_odds')\n",
    "from keep_odds import keep_odds\n",
    "\n",
    "\n",
    "def test_keep_odds():\n",
    "    assert keep_odds([1, 2, 3, 4, 5, 6]) == [1, 3, 5]"
   ]
  },
  {
   "cell_type": "markdown",
   "metadata": {
    "slideshow": {
     "slide_type": "subslide"
    }
   },
   "source": [
    "# From notebooks to module (4/4)\n",
    "\n",
    "Move everything outside the notebook"
   ]
  },
  {
   "cell_type": "code",
   "execution_count": 18,
   "metadata": {
    "slideshow": {
     "slide_type": "-"
    }
   },
   "outputs": [
    {
     "name": "stdout",
     "output_type": "stream",
     "text": [
      "\r\n",
      "def keep_odds(iterable):\r\n",
      "    return [item for item in iterable if item % 2 == 1]\r\n"
     ]
    }
   ],
   "source": [
    "!cat ../src/keep_odds.py"
   ]
  },
  {
   "cell_type": "code",
   "execution_count": 19,
   "metadata": {},
   "outputs": [
    {
     "name": "stdout",
     "output_type": "stream",
     "text": [
      "from keep_odds import keep_odds\r\n",
      "\r\n",
      "\r\n",
      "def test_keep_odds():\r\n",
      "    assert keep_odds([1, 2, 3, 4, 5, 6]) == [1, 3, 5]\r\n"
     ]
    }
   ],
   "source": [
    "!cat ../tests/test_keep_odds.py"
   ]
  },
  {
   "cell_type": "code",
   "execution_count": 20,
   "metadata": {
    "slideshow": {
     "slide_type": "-"
    }
   },
   "outputs": [
    {
     "name": "stdout",
     "output_type": "stream",
     "text": [
      ".\u001b[36m                                                                [100%]\u001b[0m\r\n"
     ]
    }
   ],
   "source": [
    "!pytest -qq ../tests"
   ]
  },
  {
   "cell_type": "markdown",
   "metadata": {
    "slideshow": {
     "slide_type": "subslide"
    }
   },
   "source": [
    "# How well does it work?\n",
    "\n",
    "<div>\n",
    "    <p><span style=\"color: green; font-weight: bold;\">&#10003;</span> Moving code out of notebooks</p>\n",
    "    <ul>\n",
    "        <li>Development packages &amp; reloading</li>\n",
    "        <li>More and more libraries with support for both environments</li>\n",
    "    </ul>\n",
    "</div>\n",
    "\n",
    "<div class=\"fragment fade-in\">\n",
    "    <p><span style=\"color: orange; font-weight: bold;\">-</span> Development inside notebook</p>\n",
    "    <ul>\n",
    "        <li>More support to reason about global state</li>\n",
    "        <li>Integration into notebooks of more libraries</li>\n",
    "        <li>Better tooling (type checking, completion, refactoring, ...)</li>\n",
    "    </ul>\n",
    "</div>\n",
    "\n",
    "\n",
    "<div class=\"fragment fade-in\">\n",
    "    <p><span style=\"color: red; font-weight: bold;\">X</span> Keeping notebooks &amp; modules in sync</p>\n",
    "    <ul>\n",
    "        <li>Moving code into notebook</li>\n",
    "        <li>Regression checking for notebooks (papermill?)</li>\n",
    "        <li>Notebook &amp; package aware tools</li>\n",
    "        <li>...</li>\n",
    "    </ul>\n",
    "</div>"
   ]
  },
  {
   "cell_type": "markdown",
   "metadata": {
    "slideshow": {
     "slide_type": "slide"
    }
   },
   "source": [
    "# Conclusion\n",
    "\n",
    "<p>\n",
    "    <div>Notebooks offer a very effective environment for rapid iteration</div>\n",
    "    <div class=\"fragment fade-in\" style=\"padding-left:1em; padding-top: 1em;\">Interactive tests of code allow to create test input/output pairs quickly</div>\n",
    "</p>\n",
    "\n",
    "<p style=\"padding-top: 1em;\">\n",
    "    <div class=\"fragment fade-in\">Notebooks can become cumbersome for large code bases</div>\n",
    "    <div class=\"fragment fade-in\" style=\"padding-left:1em; padding-top: 1.0em;\">&nbsp;&nbsp;Move code out of notebooks progressively</div>\n",
    "    <div class=\"fragment fade-in\" style=\"padding-left:1em; padding-top: 0.5em;\">&nbsp;&nbsp;Use same libraries &amp; tooling. </div>\n",
    "    <div class=\"fragment fade-in\" style=\"padding-left:1em; padding-top: 0.5em;\">&nbsp;&nbsp;For testing: <code>ipytest</code> &amp; <code>pytest</code></div>\n",
    "</p>\n",
    "\n",
    "<p style=\"padding-top: 1em;\">\n",
    "    <div class=\"fragment fade-in\">Caveat: Hidden state requires some care (<code>%%run_pytest[clean]</code>, <code>reload</code>)</div>\n",
    "</p>\n",
    "\n",
    "<br/>\n",
    "<div class=\"fragment fade-in\">\n",
    "<p>\n",
    "    <div>Install: <code>pip install pytest ipytest</code></div>\n",
    "    <div>Twitter <a href=\"https://twitter.com/@c_prohm\">@c_prohm</a></div>\n",
    "    <div>Github: <a href=\"https://github.com/chmp/ipytest\">https://github.com/chmp/ipytest</a></div>\n",
    "</p>\n",
    "</div>"
   ]
  }
 ],
 "metadata": {
  "celltoolbar": "Slideshow",
  "kernelspec": {
   "display_name": "Python 3",
   "language": "python",
   "name": "python3"
  },
  "language_info": {
   "codemirror_mode": {
    "name": "ipython",
    "version": 3
   },
   "file_extension": ".py",
   "mimetype": "text/x-python",
   "name": "python",
   "nbconvert_exporter": "python",
   "pygments_lexer": "ipython3",
   "version": "3.6.4"
  }
 },
 "nbformat": 4,
 "nbformat_minor": 2
}
