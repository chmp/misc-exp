{
 "cells": [
  {
   "cell_type": "code",
   "execution_count": 1,
   "metadata": {
    "ExecuteTime": {
     "end_time": "2018-02-13T14:45:47.471264Z",
     "start_time": "2018-02-13T14:45:45.925264Z"
    }
   },
   "outputs": [],
   "source": [
    "%matplotlib inline\n",
    "\n",
    "import numpy as np\n",
    "import matplotlib.pyplot as plt\n",
    "import pandas as pd\n",
    "import scipy.special\n",
    "import scipy.ndimage\n",
    "import scipy.optimize\n",
    "import sklearn.datasets\n",
    "\n",
    "from chmp.ds import mpl_set, get_color_cycle\n",
    "from chmp.experiment import Loop"
   ]
  },
  {
   "cell_type": "code",
   "execution_count": 2,
   "metadata": {
    "ExecuteTime": {
     "end_time": "2018-02-13T14:45:47.487911Z",
     "start_time": "2018-02-13T14:45:47.474146Z"
    }
   },
   "outputs": [],
   "source": [
    "# helper for gradient checking\n",
    "def approximate_gradient(x, func, eps=1e-5):\n",
    "    res = np.zeros(x.size)\n",
    "    \n",
    "    for i in range(x.size):\n",
    "        d = np.zeros(x.size)\n",
    "        d[i] = eps\n",
    "        \n",
    "        res[i] = (func(x + d) - func(x - d)) / (2 * eps)\n",
    "    \n",
    "    return res"
   ]
  },
  {
   "cell_type": "markdown",
   "metadata": {},
   "source": [
    "# Chapter 2"
   ]
  },
  {
   "cell_type": "markdown",
   "metadata": {},
   "source": [
    "## Binary Variables"
   ]
  },
  {
   "cell_type": "markdown",
   "metadata": {
    "ExecuteTime": {
     "end_time": "2018-02-05T19:20:02.011353Z",
     "start_time": "2018-02-05T19:20:02.007973Z"
    }
   },
   "source": [
    "## Multinomial Variables"
   ]
  },
  {
   "cell_type": "markdown",
   "metadata": {
    "ExecuteTime": {
     "end_time": "2018-02-05T19:20:16.829073Z",
     "start_time": "2018-02-05T19:20:16.825024Z"
    }
   },
   "source": [
    "## The Gaussian distribution"
   ]
  },
  {
   "cell_type": "markdown",
   "metadata": {},
   "source": [
    "Marginal and conditional Gaussians (see (2.113) - (2.117)):\n",
    "    \n",
    "$$\n",
    "\\begin{align}\n",
    "    p(x) &= \\mathcal{N}(x|\\mu, \\Lambda^{-1}) \\\\\n",
    "    p(y|x) &= \\mathcal{N}(y|A x + b, L^{-1}) \\\\\n",
    "    p(y) &= \\int \\mathrm{d}x\\; p(y|x)p(x) \n",
    "        = \\mathcal{N}(y|A\\mu + b, L^{-1} + A \\Lambda^{-1} A^T) \\\\\n",
    "    p(x|y) &= \\frac{p(y|x)p(x)}{p(y)} \n",
    "        = \\mathcal{N}(y|\\Sigma \\left\\{ A^T L (y - b) + \\Lambda \\mu \\right\\}, \\Sigma) \\\\\n",
    "    \\Sigma &= \\left( \\Lambda  + A^T L A \\right)^{-1}\n",
    "\\end{align}\n",
    "$$"
   ]
  },
  {
   "cell_type": "markdown",
   "metadata": {
    "ExecuteTime": {
     "end_time": "2018-01-31T18:36:23.608839Z",
     "start_time": "2018-01-31T18:36:23.605474Z"
    }
   },
   "source": [
    "### Bayesian Inference for Gaussians"
   ]
  },
  {
   "cell_type": "markdown",
   "metadata": {},
   "source": [
    "$$\n",
    "\\begin{eqnarray}\n",
    "    p(\\{x\\}|\\mu) &\\propto& \\exp\\left[ - \\frac{1}{2 \\sigma^2} \\sum_n (x_n - \\mu)^2 \\right] \\\\\n",
    "    p(\\mu|\\mu_0, \\sigma_0) &\\propto& \\exp\\left[ - \\frac{1}{2 \\sigma_0^2} (\\mu - \\mu_0)^2 \\right] \\\\\n",
    "    p(\\mu|\\{x\\}) &=& \\frac{p(\\{x\\}|\\mu) p(\\mu|\\mu_0, \\sigma_0)}{p(\\{x\\})}\n",
    "\\end{eqnarray}\n",
    "$$\n",
    "\n",
    "The posterior is given by\n",
    "$$\n",
    "\\begin{eqnarray}\n",
    "    -\\log p(\\mu|\\{x\\}) &=& \n",
    "        \\frac{1}{2 \\sigma^2} \\sum_n (x_n - \\mu)^2 +\n",
    "        \\frac{1}{2 \\sigma_0^2} (\\mu - \\mu_0)^2 +\n",
    "        \\mathrm{const} \n",
    "\\\\\n",
    "    &=& \n",
    "        \\frac{1}{2 \\sigma^2} \\sum_n \\mu^2 + \\frac{1}{2 \\sigma_0^2} \\mu^2 +\n",
    "        \\frac{1}{\\sigma^2} \\sum_n x_n \\mu + \\frac{1}{\\sigma_0^2} \\mu_0 \\mu +\n",
    "        \\mathrm{const} \n",
    "\\\\\n",
    "    &=&\n",
    "        \\frac{1}{2 \\sigma^{\\prime2}} \\mu^2 + \\frac{1}{\\sigma^{\\prime^2}} \\mu^\\prime \\mu + \\mathrm{const}\n",
    "\\end{eqnarray}\n",
    "$$\n",
    "\n",
    "With:\n",
    "\n",
    "$$\n",
    "\\begin{eqnarray}\n",
    "    \\sigma^{\\prime2}\n",
    "        &=& \\left( \\frac{1}{\\sigma^2} \\sum_n + \\frac{1}{\\sigma_0^2}  \\right)^{-1} \n",
    "        &=& \\left( \\frac{\\sigma_0^2 N + \\sigma^2}{\\sigma_0^2 \\sigma^2} \\right)^{-1} \n",
    "        &=& \\frac{\\sigma_0^2 \\sigma^2}{\\sigma_0^2 N + \\sigma^2} \n",
    "        &=& \\frac{\\sigma_0^2}{1 + N \\sigma_0^2 / \\sigma^2}\n",
    "\\end{eqnarray}\n",
    "$$\n",
    "\n",
    "and\n",
    "\n",
    "$$\n",
    "\\begin{eqnarray}\n",
    "    \\mu^\\prime \n",
    "        &=& \\frac{\\sigma^{\\prime^2}}{\\sigma^2} \\sum_n x_n + \\frac{\\sigma^{\\prime^2}}{\\sigma_0^2} \\mu_0\n",
    "        &=& \\frac{\\sigma^{\\prime^2}}{\\sigma^2} X + \\frac{\\sigma^{\\prime^2}}{\\sigma_0^2} \\mu_0\n",
    "        &=& \\frac{\\sigma_0^2 X + \\sigma^2 \\mu_0}{\\sigma_0^2 N + \\sigma^2}\n",
    "        &=& \\frac{\\sigma_0^2 N \\bar{x} + \\sigma^2 \\mu_0}{\\sigma_0^2 N + \\sigma^2}\n",
    "\\end{eqnarray}\n",
    "$$\n",
    "\n",
    "Note that for $N \\rightarrow 0$:\n",
    "\n",
    "$$\n",
    "\\begin{eqnarray}\n",
    "    \\sigma^{\\prime2} &\\rightarrow& \\sigma_0\n",
    "    &\\quad&\n",
    "    \\mu^\\prime &\\rightarrow& \\mu_0\n",
    "\\end{eqnarray}    \n",
    "$$\n",
    "\n",
    "And for $N \\rightarrow \\infty$\n",
    "$$\n",
    "\\begin{eqnarray}\n",
    "    \\sigma^{\\prime2} &\\rightarrow& 0\n",
    "    &\\quad&\n",
    "    \\mu^\\prime &\\rightarrow& \\bar{x}\n",
    "\\end{eqnarray}    \n",
    "$$"
   ]
  },
  {
   "cell_type": "markdown",
   "metadata": {},
   "source": [
    "### TODO: Summarize Student + Normal-Gamma Sections"
   ]
  },
  {
   "cell_type": "markdown",
   "metadata": {},
   "source": [
    "### Periodic Variables\n",
    "\n",
    "Von Mises-Fischer Distribution:\n",
    "\n",
    "$$\n",
    "    p(x|\\mu, \\kappa) = \n",
    "        \\frac{\\kappa^{\\nu}}{(2 \\pi)^{\\nu + 1} I_\\nu(\\kappa)} \\exp \\left[ \\kappa \\mu^T x \\right]\n",
    "$$\n",
    "\n",
    "with $\\nu = d / 2 - 1$. With $|\\mu| = 1$. For maximum likelihood fitting note that:\n",
    "\n",
    "$$\n",
    "\\begin{eqnarray}\n",
    "    \\mathcal{L} = p(\\{x\\}|\\mu, \\kappa) \n",
    "    &=& \n",
    "        \\kappa \\mu^T \\sum_n x_n + N \\log \\kappa^{\\nu} \n",
    "        - N\\log I_\\nu(\\kappa) + \\mathrm{const} \n",
    "\\\\\n",
    "    \\frac{\\partial}{\\partial \\mu} \\left( \\mathcal{L} + \\lambda (\\mu^2 - 1) \\right) \n",
    "    &=&\n",
    "        \\kappa \\sum_n x_n + \\lambda \\mu = 0\n",
    "\\\\\n",
    "    \\mu &=& \\frac{\\sum_n x_n}{|\\sum_n x_n|} \n",
    "\\\\\n",
    "    \\frac{\\partial}{\\partial \\kappa} \\mathcal{L} \n",
    "    &=&\n",
    "        \\mu^T \\sum_n x_n \n",
    "        - N \\frac{\\partial}{\\partial \\kappa} \\log \\kappa^{-\\nu} I_\\nu(\\kappa) \\\\\n",
    "    &=& \\mu^T \\sum_n x_n - N \\frac{I_{\\nu + 1}(\\kappa)}{I_\\nu(\\kappa)} \\\\\n",
    "    &=& |\\sum_n x_n| - N \\frac{I_{\\nu + 1}(\\kappa)}{I_\\nu(\\kappa)} = 0\n",
    "\\\\\n",
    "    \\frac{I_{\\nu + 1}(\\kappa)}{I_\\nu(\\kappa)} &=& \\frac{|\\sum_n x_n|}{N}\n",
    "\\end{eqnarray}\n",
    "$$\n",
    "\n",
    "Note, the sign of $\\mu$ stems from the maximization of the likelihood and the following identity was used:\n",
    "\n",
    "$$\n",
    "    \\frac{\\partial}{\\partial \\kappa} \\left[ \\kappa^{-\\nu} I_\\nu(\\kappa) \\right] =\n",
    "    \\kappa^{-\\nu} I_{\\nu + 1}(\\kappa).\n",
    "$$\n",
    "\n",
    "The equation for $\\kappa$ can be be solved, e.g., by bisection search."
   ]
  },
  {
   "cell_type": "code",
   "execution_count": 3,
   "metadata": {
    "ExecuteTime": {
     "end_time": "2018-02-13T14:45:49.476097Z",
     "start_time": "2018-02-13T14:45:49.310751Z"
    }
   },
   "outputs": [],
   "source": [
    "def vonmises_pdf(x, mu, kappa):\n",
    "    return np.exp(kappa * (np.cos(x - mu) - 1)) / (2.0 * np.pi * scipy.special.ive(0, kappa))\n",
    "\n",
    "\n",
    "def vonmises_fit(x):\n",
    "    mu_est = np.arctan2(np.mean(np.sin(x)), np.mean(np.cos(x)))\n",
    "    return mu_est, bisect_kappa(np.mean(np.cos(x - mu_est)))\n",
    "\n",
    "\n",
    "def bisect_kappa(x):\n",
    "    \"\"\"Bisect the solution to ``I_1(kappa) / I_0(kappa) = x``\n",
    "    \"\"\"\n",
    "    def eval(kappa):\n",
    "        return scipy.special.ive(1, kappa) / scipy.special.ive(0, kappa)\n",
    "    \n",
    "    lower = -8\n",
    "    upper = +8\n",
    "    \n",
    "    if x > eval(10 ** upper): return 10 ** upper\n",
    "    if x < eval(10 ** lower): return 10 ** lower\n",
    "    \n",
    "    # perform logarithmic search\n",
    "    for _ in range(10):\n",
    "        cand = lower + 0.5 * (upper - lower)\n",
    "        val = eval(10 ** cand)\n",
    "        \n",
    "        if val > x: upper = cand\n",
    "        if val < x: lower = cand\n",
    "        \n",
    "        if (upper - lower) < 1:\n",
    "            break\n",
    "    \n",
    "    # perform linear search\n",
    "    lower = 10 ** lower\n",
    "    upper = 10 ** upper\n",
    "    \n",
    "    for _ in range(20):\n",
    "        cand = lower + 0.5 * (upper - lower)\n",
    "        val = eval(cand)\n",
    "        \n",
    "        if val > x: upper = cand\n",
    "        if val < x: lower = cand\n",
    "        \n",
    "    cand = lower + 0.5 * (upper - lower)\n",
    "    return cand\n"
   ]
  },
  {
   "cell_type": "code",
   "execution_count": 4,
   "metadata": {
    "ExecuteTime": {
     "end_time": "2018-02-13T14:45:50.141932Z",
     "start_time": "2018-02-13T14:45:49.555594Z"
    }
   },
   "outputs": [
    {
     "data": {
      "image/png": "[encoded data removed]",
      "text/plain": [
       "<matplotlib.figure.Figure at 0x115a339e8>"
      ]
     },
     "metadata": {},
     "output_type": "display_data"
    }
   ],
   "source": [
    "n_samples = 10_000\n",
    "mu = 0.5* np.pi\n",
    "kappa = 2\n",
    "\n",
    "x = np.random.vonmises(mu, kappa, size=n_samples)\n",
    "mu_est, kappa_est = vonmises_fit(x)\n",
    "\n",
    "u = np.linspace(-np.pi, +np.pi, 100)\n",
    "plt.hist(x, bins=51, normed=True, label='empirical', alpha=0.5)\n",
    "plt.plot(u, vonmises_pdf(u, mu, kappa), label='analytical')\n",
    "plt.plot(u, vonmises_pdf(u, mu_est, kappa_est), label='fitted', ls='--')\n",
    "plt.legend(loc='best')\n",
    "pass"
   ]
  },
  {
   "cell_type": "markdown",
   "metadata": {},
   "source": [
    "## The exponential family\n",
    "\n",
    "$$\n",
    "\\begin{eqnarray}\n",
    "    p(x|\\eta) &=& h(x) g(\\eta) \\exp \\eta^T u(x) \\\\\n",
    "    p(\\eta|\\nu, \\chi) &=& f(\\chi, \\nu) g(\\eta)^\\nu \\exp \\nu \\eta^T \\chi\n",
    "\\end{eqnarray}\n",
    "$$\n",
    "\n",
    "Posterior:\n",
    "\n",
    "$$\n",
    "\\begin{eqnarray}\n",
    "    p(\\eta|\\{x\\}) &=& \\left( \\prod_n p(x_n|\\eta) \\right) p(\\eta|\\nu, \\chi) \\\\\n",
    "        &\\propto& \n",
    "            g(\\eta)^N \\exp \\left( \\eta^T \\sum_n u(x_n) \\right)\n",
    "            g(\\eta)^\\nu \\exp \\nu \\eta^T \\chi \\\\\n",
    "        &=& \n",
    "            g(\\eta)^{\\nu + N} \\exp \\left( (\\nu + N) \\frac{\\nu \\chi + \\sum_n u(x_n)}{\\nu + N} \\right) \\\\\n",
    "    p(\\eta|\\{x\\}) &=& p(\\eta|\\nu^\\prime, \\chi^\\prime) \\\\\n",
    "    \\nu^\\prime &=& \\nu + N \\\\\n",
    "    \\chi^\\prime &=& \\frac{\\nu \\chi + \\sum_n u(x_n)}{\\nu + N}\n",
    "\\end{eqnarray}\n",
    "$$"
   ]
  },
  {
   "cell_type": "markdown",
   "metadata": {},
   "source": [
    "### Maximum likelihood for exponential family\n",
    "\n",
    "$$\n",
    "\\begin{eqnarray}\n",
    "    \\mathcal{L} &=& \\sum_n \\log p(x_n|\\eta) \n",
    "\\\\\n",
    "    &=& \\sum_n \\eta^T u(x_n) + N \\log g(\\eta) + \\mathrm{const}\n",
    "\\\\\n",
    "    \\frac{\\partial}{\\partial \\eta} \\mathcal{L} &=&\n",
    "        \\sum_n u(x_n) + N \\frac{\\partial}{\\partial \\eta} \\log g(\\eta) = 0\n",
    "\\\\\n",
    "    -\\frac{\\partial}{\\partial \\eta} \\log g(\\eta) &=& \\frac{1}{N} \\sum_n u(x_n)\n",
    "\\end{eqnarray}\n",
    "$$"
   ]
  },
  {
   "cell_type": "markdown",
   "metadata": {},
   "source": [
    "\n",
    "For the Gaussian:\n",
    "\n",
    "$$\n",
    "\\begin{eqnarray}\n",
    "    p(x|\\eta) = g(\\eta) \\exp\\left[ \\eta_1 u_1(x) + \\eta_2 u_2(x) \\right]\n",
    "\\\\\n",
    "    \\eta_1 = \\frac{\\mu}{\\sigma^2},\\; \\eta_2 = \\frac{-1}{2 \\sigma^2}\n",
    "\\\\\n",
    "    u_1(x) = x,\\; u_2(x) = x^2 \n",
    "\\\\\n",
    "    -\\log g(\\eta) = \\frac{1}{2} \\log \\pi - \\frac{1}{2} \\log -\\eta_2 - \\frac{1}{4} \\frac{\\eta_1^2}{\\eta_2}\n",
    "\\\\\n",
    "    -\\log \\frac{\\partial}{\\partial \\eta_1} g(\\eta) = \\mu \n",
    "\\\\\n",
    "    -\\log \\frac{\\partial}{\\partial \\eta_2} g(\\eta) = \\mu^2 + \\sigma^2\n",
    "\\end{eqnarray}\n",
    "$$"
   ]
  },
  {
   "cell_type": "markdown",
   "metadata": {},
   "source": [
    "For Bernoulli\n",
    "\n",
    "$$\n",
    "\\begin{eqnarray}\n",
    "    p(x|\\mu) &=& \\mu^x (1 - \\mu)^{1 - x}  = \\left( \\frac{\\mu}{1 - \\mu} \\right)^x \\left( 1 - \\mu \\right)\n",
    "\\\\\n",
    "    &=& g(\\eta) \\exp \\eta x\n",
    "\\\\\n",
    "    \\eta &=& \\log \\frac{\\mu}{1 - \\mu} \n",
    "\\\\\n",
    "    g(\\eta) &=& \\sigma(-\\eta)\n",
    "\\\\\n",
    "    -\\frac{\\partial}{\\partial \\eta} \\log g(\\eta) \n",
    "        &=& \\frac{1}{\\sigma(-\\eta)} \\sigma(\\eta) \\sigma(-\\eta) = \\sigma(\\eta) = \\mu\n",
    "\\end{eqnarray}\n",
    "$$"
   ]
  },
  {
   "cell_type": "code",
   "execution_count": null,
   "metadata": {},
   "outputs": [],
   "source": []
  }
 ],
 "metadata": {
  "hide_input": false,
  "kernelspec": {
   "display_name": "Python 3",
   "language": "python",
   "name": "python3"
  },
  "language_info": {
   "codemirror_mode": {
    "name": "ipython",
    "version": 3
   },
   "file_extension": ".py",
   "mimetype": "text/x-python",
   "name": "python",
   "nbconvert_exporter": "python",
   "pygments_lexer": "ipython3",
   "version": "3.6.3"
  },
  "toc": {
   "nav_menu": {},
   "number_sections": true,
   "sideBar": true,
   "skip_h1_title": false,
   "toc_cell": false,
   "toc_position": {},
   "toc_section_display": "block",
   "toc_window_display": false
  }
 },
 "nbformat": 4,
 "nbformat_minor": 2
}
