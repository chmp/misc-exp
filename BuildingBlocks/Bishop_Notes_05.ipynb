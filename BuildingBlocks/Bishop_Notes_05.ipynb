{
 "cells": [
  {
   "cell_type": "code",
   "execution_count": 1,
   "metadata": {
    "ExecuteTime": {
     "end_time": "2018-02-13T14:46:43.365815Z",
     "start_time": "2018-02-13T14:46:41.835210Z"
    }
   },
   "outputs": [],
   "source": [
    "%matplotlib inline\n",
    "\n",
    "import numpy as np"
   ]
  },
  {
   "cell_type": "code",
   "execution_count": 2,
   "metadata": {
    "ExecuteTime": {
     "end_time": "2018-02-13T14:46:43.419362Z",
     "start_time": "2018-02-13T14:46:43.380049Z"
    }
   },
   "outputs": [],
   "source": [
    "# helper for gradient checking\n",
    "def approximate_gradient(x, func, eps=1e-5):\n",
    "    res = np.zeros(x.size)\n",
    "    \n",
    "    for i in range(x.size):\n",
    "        d = np.zeros(x.size)\n",
    "        d[i] = eps\n",
    "        \n",
    "        res[i] = (func(x + d) - func(x - d)) / (2 * eps)\n",
    "    \n",
    "    return res"
   ]
  },
  {
   "cell_type": "markdown",
   "metadata": {
    "ExecuteTime": {
     "end_time": "2018-02-05T21:07:55.238203Z",
     "start_time": "2018-02-05T21:07:55.233230Z"
    }
   },
   "source": [
    "# Neural Networks"
   ]
  },
  {
   "cell_type": "markdown",
   "metadata": {},
   "source": [
    "## Feed-Forward Network Functions"
   ]
  },
  {
   "cell_type": "markdown",
   "metadata": {},
   "source": [
    "## Network Training"
   ]
  },
  {
   "cell_type": "markdown",
   "metadata": {},
   "source": [
    "## Error Backpropagation"
   ]
  },
  {
   "cell_type": "code",
   "execution_count": 163,
   "metadata": {
    "ExecuteTime": {
     "end_time": "2018-02-13T16:32:29.481389Z",
     "start_time": "2018-02-13T16:32:28.288113Z"
    }
   },
   "outputs": [],
   "source": [
    "def ensure_node(obj):\n",
    "    return obj if isinstance(obj, Node) else Constant(obj) \n",
    "\n",
    "\n",
    "class Node:\n",
    "    def __add__(self, b):\n",
    "        return Addition(self, ensure_node(b))\n",
    "    \n",
    "    def __radd__(self, b):\n",
    "        return Addition(ensure_node(b), self)\n",
    "    \n",
    "    def __sub__(self, b):\n",
    "        return Subtraction(self, ensure_node(b))\n",
    "\n",
    "    def __rsub__(self, b):\n",
    "        return Subtraction(ensure_node(b), self)\n",
    "\n",
    "    def __mul__(self, b):\n",
    "        return Multiplication(self, ensure_node(b))\n",
    "    \n",
    "    def __rmul__(self, b):\n",
    "        return Multiplication(ensure_node(b), self)\n",
    "    \n",
    "    def __truediv__(self, b):\n",
    "        return Division(self, ensure_node(b))\n",
    "    \n",
    "    def __rtruediv__(self, b):\n",
    "        return Division(ensure_node(b), self)\n",
    "    \n",
    "    def __eq__(self, other):\n",
    "        return (type(self) == type(other)) and self._key() == other._key()\n",
    "    \n",
    "    def __hash__(self):\n",
    "        return hash((type(self),) + self._key())\n",
    "\n",
    "    \n",
    "class IdentityNode(Node):\n",
    "    def __eq__(self, other):\n",
    "        return id(self) == id(other)\n",
    "    \n",
    "    def __hash__(self):\n",
    "        return hash(id(self))\n",
    "    \n",
    "    \n",
    "class Placeholder(IdentityNode):\n",
    "    def __init__(self, name=None):\n",
    "        self.name = name\n",
    "        \n",
    "    def forward(self, graph):\n",
    "        raise ValueError(f'unbound placeholder {self.name}')\n",
    "    \n",
    "    def backward(self, what):\n",
    "        PlaceholderBackward(self)\n",
    "    \n",
    "        \n",
    "class PlaceholderBackward(IdentityNode):\n",
    "    def __init__(self, placeholder):\n",
    "        self.placeholder = placeholder\n",
    "    \n",
    "    def forward(self, graph):\n",
    "        np.zeros_like(_forward(self.placeholder, graph))\n",
    "    \n",
    "    def backward(self, what):\n",
    "        return self\n",
    "        \n",
    "    \n",
    "class Constant(IdentityNode):\n",
    "    def __init__(self, value, name=None):\n",
    "        self.value = np.asarray(value)\n",
    "        self.name = name\n",
    "    \n",
    "    def forward(self, graph):\n",
    "        return self.value\n",
    "    \n",
    "    def backward(self, what):\n",
    "        if self.matches(what):\n",
    "            return Constant(np.ones_like(self.value))\n",
    "        else:\n",
    "            return Constant(np.zeros_like(self.value))\n",
    "\n",
    "    def matches(self, what):\n",
    "        if isinstance(what, Constant):\n",
    "            return self.name == what.name\n",
    "        \n",
    "        return self.name == what\n",
    "\n",
    "class BinaryNode(Node):\n",
    "    def __init__(self, a, b):\n",
    "        self.a = a\n",
    "        self.b = b\n",
    "    \n",
    "    def _key(self):\n",
    "        return self.a, self.b\n",
    "\n",
    "    \n",
    "class Addition(BinaryNode):\n",
    "    def forward(self, graph):\n",
    "        return _forward(self.a, graph) + _forward(self.b, graph)\n",
    "        \n",
    "    def backward(self, what):\n",
    "        return self.a.backward(what) + self.b.backward(what)\n",
    "\n",
    "    \n",
    "class Subtraction(BinaryNode):\n",
    "    def forward(self, graph):\n",
    "        return _forward(self.a, graph) - _forward(self.b, graph)\n",
    "        \n",
    "    def backward(self, what):\n",
    "        return self.a.backward(what) - self.b.backward(what)\n",
    "\n",
    "        \n",
    "class Multiplication(BinaryNode):\n",
    "    def forward(self, graph):\n",
    "        return _forward(self.a, graph) * _forward(self.b, graph)\n",
    "    \n",
    "    def backward(self, what):\n",
    "        return self.a * self.b.backward(what) + self.a.backward(what) * self.b\n",
    "\n",
    "    \n",
    "class Division(BinaryNode):\n",
    "    def forward(self, graph):\n",
    "        return _forward(self.a, graph) / _forward(self.b, graph)\n",
    "    \n",
    "    def backward(self, what):\n",
    "        return (self.a.backward(what) * self.b - self.a * self.b.backward(what)) / (self.b * self.b)\n",
    "    \n",
    "def _forward(obj, graph):\n",
    "    if obj in graph:\n",
    "        return graph[obj]\n",
    "    \n",
    "    return obj.forward(graph)\n",
    "\n",
    "\n",
    "def forward(obj, graph=None):\n",
    "    if graph is None:\n",
    "        graph = {}\n",
    "    \n",
    "    if isinstance(obj, (list, tuple)):\n",
    "        return type(obj)(forward(item, graph) for item in obj)\n",
    "    \n",
    "    elif isinstance(obj, dict):\n",
    "        return type(obj)(\n",
    "            (k, forward(v, graph))\n",
    "            for k, v in obj.items()\n",
    "        )\n",
    "    \n",
    "    else:\n",
    "        return _forward(obj, graph)"
   ]
  },
  {
   "cell_type": "code",
   "execution_count": 203,
   "metadata": {
    "ExecuteTime": {
     "end_time": "2018-02-13T17:08:23.362981Z",
     "start_time": "2018-02-13T17:08:23.349124Z"
    }
   },
   "outputs": [
    {
     "name": "stdout",
     "output_type": "stream",
     "text": [
      "[0.66666666666666663, 0.33333333333333331, -0.22222222222222221, 0.14814814814814814]\n"
     ]
    }
   ],
   "source": [
    "x = Constant(2, name='x')\n",
    "y = Constant(3, name='y')\n",
    "\n",
    "g = x / y\n",
    "\n",
    "print(forward([g, g.backward(x), g.backward(y), g.backward(y).backward(y)]))"
   ]
  },
  {
   "cell_type": "markdown",
   "metadata": {},
   "source": [
    "## The Hessian Matrix"
   ]
  },
  {
   "cell_type": "code",
   "execution_count": 205,
   "metadata": {
    "ExecuteTime": {
     "end_time": "2018-02-13T17:15:37.492596Z",
     "start_time": "2018-02-13T17:15:37.489074Z"
    }
   },
   "outputs": [],
   "source": [
    "# TODO: implement Hessian computation"
   ]
  },
  {
   "cell_type": "markdown",
   "metadata": {},
   "source": [
    "## Regularization in Neural Networks"
   ]
  },
  {
   "cell_type": "markdown",
   "metadata": {},
   "source": [
    "## Mixture Density Networks"
   ]
  },
  {
   "cell_type": "markdown",
   "metadata": {},
   "source": [
    "## Bayesian Neural Networks"
   ]
  },
  {
   "cell_type": "code",
   "execution_count": null,
   "metadata": {},
   "outputs": [],
   "source": []
  }
 ],
 "metadata": {
  "hide_input": false,
  "kernelspec": {
   "display_name": "Python 3",
   "language": "python",
   "name": "python3"
  },
  "language_info": {
   "codemirror_mode": {
    "name": "ipython",
    "version": 3
   },
   "file_extension": ".py",
   "mimetype": "text/x-python",
   "name": "python",
   "nbconvert_exporter": "python",
   "pygments_lexer": "ipython3",
   "version": "3.6.4"
  },
  "toc": {
   "nav_menu": {},
   "number_sections": true,
   "sideBar": true,
   "skip_h1_title": false,
   "toc_cell": false,
   "toc_position": {},
   "toc_section_display": "block",
   "toc_window_display": false
  }
 },
 "nbformat": 4,
 "nbformat_minor": 2
}
