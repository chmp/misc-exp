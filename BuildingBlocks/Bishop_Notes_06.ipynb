{
 "cells": [
  {
   "cell_type": "code",
   "execution_count": 3,
   "metadata": {
    "ExecuteTime": {
     "end_time": "2018-02-24T23:06:49.327609Z",
     "start_time": "2018-02-24T23:06:46.248228Z"
    }
   },
   "outputs": [],
   "source": [
    "%matplotlib inline\n",
    "\n",
    "import numpy as np\n",
    "import matplotlib.pyplot as plt\n",
    "import pandas as pd\n",
    "import scipy.special\n",
    "import scipy.ndimage\n",
    "import scipy.optimize\n",
    "import sklearn.datasets\n",
    "\n",
    "from chmp.ds import mpl_set, get_color_cycle, Loop"
   ]
  },
  {
   "cell_type": "code",
   "execution_count": 4,
   "metadata": {
    "ExecuteTime": {
     "end_time": "2018-02-24T23:06:49.353899Z",
     "start_time": "2018-02-24T23:06:49.332343Z"
    }
   },
   "outputs": [],
   "source": [
    "# helper for gradient checking\n",
    "def approximate_gradient(x, func, eps=1e-5):\n",
    "    res = np.zeros(x.size)\n",
    "    \n",
    "    for i in range(x.size):\n",
    "        d = np.zeros(x.size)\n",
    "        d[i] = eps\n",
    "        \n",
    "        res[i] = (func(x + d) - func(x - d)) / (2 * eps)\n",
    "    \n",
    "    return res"
   ]
  },
  {
   "cell_type": "markdown",
   "metadata": {
    "ExecuteTime": {
     "end_time": "2018-02-05T21:07:55.238203Z",
     "start_time": "2018-02-05T21:07:55.233230Z"
    }
   },
   "source": [
    "# Kernel Methods"
   ]
  },
  {
   "cell_type": "markdown",
   "metadata": {},
   "source": [
    "## Dual Representations\n",
    "\n",
    "$$\n",
    "\\begin{align}\n",
    "    J \n",
    "    &= \\frac{1}{2} \\sum_n \\left( w^T \\phi(x_n) - t_n \\right)^2 + \\frac{\\lambda}{2} w^T w\n",
    "\\\\\n",
    "    &= \\frac{1}{2} \\left( \\Phi w - t  \\right)^T \\left( \\Phi w - t \\right) + \\frac{\\lambda}{2} w^T w\n",
    "\\end{align}\n",
    "$$\n",
    "\n",
    "with $\\Phi_{ni} = \\phi_i(x_n)$. Further define $w = \\Phi^T a$. That this is always possible can be shown, by differentiating $J$ with respect to $w$. At optimality one finds:\n",
    "\n",
    "$$\n",
    "\\begin{align}\n",
    "    0 &= \\left( w^T \\Phi^T - t^T \\right) \\Phi + \\lambda w \\\\\n",
    "    w &= -\\frac{1}{\\lambda} \\left( w^T \\Phi^T - t^T \\right) \\Phi \\\\\n",
    "    w &= -\\frac{1}{\\lambda} \\Phi^T \\left( \\Phi w - t \\right) \\\\\n",
    "    w &= \\Phi^T a\n",
    "\\end{align}\n",
    "$$\n",
    "\n",
    "Inserting $w = \\Phi^T a$ into the objective function results in:\n",
    "\n",
    "$$\n",
    "\\begin{align}\n",
    "    J \n",
    "    &= \n",
    "        \\frac{1}{2} \\left( \\Phi \\Phi^T a - t  \\right)^T \\left( \\Phi \\Phi^T a - t \\right) + \n",
    "        \\frac{\\lambda}{2} a^T \\Phi \\Phi^T a\n",
    "\\\\\n",
    "    &= \n",
    "        \\frac{1}{2} a^T \\Phi \\Phi^T \\Phi \\Phi^T  a -\n",
    "        a^T \\Phi \\Phi^T t +\n",
    "        \\frac{1}{2} t^T t +\n",
    "        \\frac{\\lambda}{2} a^T \\Phi \\Phi^T a\n",
    "\\\\\n",
    "    &= \n",
    "        \\frac{1}{2} a^T K K  a - a^T K t + \\frac{1}{2} t^T t + \\frac{\\lambda}{2} a^T K a\n",
    "\\end{align}\n",
    "$$\n",
    "\n",
    "with $K = \\Phi \\Phi^T$. Searching for the optimal $a$ yields\n",
    "\n",
    "$$\n",
    "\\begin{align}\n",
    "    0 &= K K  a - K t + \\lambda K a \\\\\n",
    "    0 &= K ((K + \\lambda) a - t) \\\\\n",
    "    a &= (K + \\lambda)^{-1} t\n",
    "\\end{align}\n",
    "$$\n",
    "\n",
    "Note, that $K$ has the form:\n",
    "\n",
    "$$\n",
    "    K_{mn} = \\sum_i \\phi_i(x_m) \\phi_i(x_n) = k(x_m, x_n).\n",
    "$$\n",
    "\n",
    "Now, the number size of the problem depends only on the number of training examples, not the number of features. This allows to introduce abitrary many features, even infinitely many via kernels.\n",
    "\n",
    "The predicted values are given by\n",
    "\n",
    "$$\n",
    "\\begin{align}\n",
    "    \\hat{t} &= w^T \\phi(x) \\\\\n",
    "        &= a^T \\Phi \\phi(x) \\\\\n",
    "        &= \\sum_{ni} a_n \\phi_i(x_n) \\phi_i(x) \\\\\n",
    "        &= \\sum_n a_n k(x_n, x)\n",
    "\\end{align}\n",
    "$$"
   ]
  },
  {
   "cell_type": "code",
   "execution_count": 5,
   "metadata": {
    "ExecuteTime": {
     "end_time": "2018-02-24T23:06:49.482179Z",
     "start_time": "2018-02-24T23:06:49.357998Z"
    }
   },
   "outputs": [
    {
     "name": "stdout",
     "output_type": "stream",
     "text": [
      "(100, 100) (100,) (10,)\n",
      "mean squared error: 2.701454169929355e-26\n"
     ]
    }
   ],
   "source": [
    "x, y = sklearn.datasets.make_regression(n_features=10)\n",
    "\n",
    "K = x @ x.T\n",
    "a = np.linalg.pinv(K + 1e-2) @ y\n",
    "w_opt = x.T @ a\n",
    "\n",
    "print(K.shape, a.shape, w_opt.shape)\n",
    "print('mean squared error:', np.mean((y - x @ w_opt) ** 2.0))"
   ]
  },
  {
   "cell_type": "markdown",
   "metadata": {},
   "source": [
    "## Constructing Kernels"
   ]
  },
  {
   "cell_type": "markdown",
   "metadata": {},
   "source": [
    "**TODO: summarize examples mentioned**"
   ]
  },
  {
   "cell_type": "markdown",
   "metadata": {
    "ExecuteTime": {
     "end_time": "2018-02-14T18:43:56.717601Z",
     "start_time": "2018-02-14T18:43:56.714157Z"
    }
   },
   "source": [
    "## Radial Basis Function networks"
   ]
  },
  {
   "cell_type": "code",
   "execution_count": 6,
   "metadata": {
    "ExecuteTime": {
     "end_time": "2018-02-24T23:06:51.592980Z",
     "start_time": "2018-02-24T23:06:51.522089Z"
    }
   },
   "outputs": [],
   "source": [
    "np.random.seed(13)\n",
    "x = np.random.uniform(low=0, high=2 * np.pi, size=50)\n",
    "x = np.sort(x)\n",
    "y = np.random.normal(np.cos(x), scale=0.1)\n",
    "\n",
    "u = np.linspace(0, 2 * np.pi, 100)\n",
    "\n",
    "# build the kernel\n",
    "w = np.exp(-0.5 * (u[:, None] - x[None, :]) ** 2 / (0.25))\n",
    "w = w / w.sum(axis=1, keepdims=True)"
   ]
  },
  {
   "cell_type": "code",
   "execution_count": 7,
   "metadata": {
    "ExecuteTime": {
     "end_time": "2018-02-24T23:06:53.141635Z",
     "start_time": "2018-02-24T23:06:52.189136Z"
    }
   },
   "outputs": [
    {
     "data": {
      "image/png": "[encoded data removed]",
      "text/plain": [
       "<matplotlib.figure.Figure at 0x1090f29e8>"
      ]
     },
     "metadata": {},
     "output_type": "display_data"
    }
   ],
   "source": [
    "plt.figure(figsize=(8, 3))\n",
    "plt.subplot(1, 2, 1)\n",
    "plt.plot(x, y, '.')\n",
    "plt.plot(u, w @ y)\n",
    "\n",
    "plt.subplot(1, 2, 2)\n",
    "plt.pcolor(x, u, w)\n",
    "mpl_set(colorbar=True, xlabel='Data position', ylabel='Interpolated position', title='Weight')"
   ]
  },
  {
   "cell_type": "markdown",
   "metadata": {},
   "source": [
    "## Gaussian processes"
   ]
  },
  {
   "cell_type": "markdown",
   "metadata": {
    "ExecuteTime": {
     "end_time": "2018-02-24T22:50:29.854194Z",
     "start_time": "2018-02-24T22:50:29.848165Z"
    }
   },
   "source": [
    "### Regression"
   ]
  },
  {
   "cell_type": "markdown",
   "metadata": {},
   "source": [
    "Basic idea: postulate covraiance structure between data points via:\n",
    "\n",
    "$$\n",
    "    p(t|\\{x\\}) = \\mathcal{N}(t|0, C)\n",
    "$$\n",
    "\n",
    "with $C_{ij} = \\beta^{-1} \\delta_{ij} + k(x_i, x_j)$ with the inverse observation noise variance $\\beta$.\n",
    "\n",
    "For prediction, use the same structure for the joint $p(t_{n+1}, \\{t\\}|x_{n+1}, \\{x\\}) = \\mathcal{N}(t| 0, C) $ and compute the conditional:\n",
    "\n",
    "$$\n",
    "\\begin{align}\n",
    "    p(t_{n+1}|\\{t\\}, \\{x\\}) &= \\mathcal{N}(t_{n+1}|m_{n+1}, \\sigma_{n+1}), \\\\\n",
    "    m_{n+1} &= k^T C_N^{-1} t, \\\\\n",
    "    \\sigma_{n+1} &= c - k^T C_N^{-1} k,\n",
    "\\end{align}\n",
    "$$\n",
    "\n",
    "where $C_N, k, c$ form the full covariance matrix as in\n",
    "\n",
    "$$\n",
    "C = \\begin{pmatrix}\n",
    "    C_N & k^T \\\\\n",
    "    k & c\n",
    "\\end{pmatrix}.\n",
    "$$\n"
   ]
  },
  {
   "cell_type": "code",
   "execution_count": 8,
   "metadata": {
    "ExecuteTime": {
     "end_time": "2018-02-24T23:06:55.189692Z",
     "start_time": "2018-02-24T23:06:55.184848Z"
    }
   },
   "outputs": [],
   "source": [
    "k = np.exp(-1 * abs(x[:, None] - x[None, :]))"
   ]
  },
  {
   "cell_type": "code",
   "execution_count": 9,
   "metadata": {
    "ExecuteTime": {
     "end_time": "2018-02-24T23:06:55.829553Z",
     "start_time": "2018-02-24T23:06:55.775151Z"
    }
   },
   "outputs": [],
   "source": [
    "s = np.real(scipy.linalg.sqrtm(k))"
   ]
  },
  {
   "cell_type": "code",
   "execution_count": 10,
   "metadata": {
    "ExecuteTime": {
     "end_time": "2018-02-24T23:06:56.948980Z",
     "start_time": "2018-02-24T23:06:56.364430Z"
    }
   },
   "outputs": [
    {
     "data": {
      "text/plain": [
       "<matplotlib.collections.PolyCollection at 0x10f0244e0>"
      ]
     },
     "execution_count": 10,
     "metadata": {},
     "output_type": "execute_result"
    },
    {
     "data": {
      "image/png": "[encoded data removed]",
      "text/plain": [
       "<matplotlib.figure.Figure at 0x1090f27f0>"
      ]
     },
     "metadata": {},
     "output_type": "display_data"
    }
   ],
   "source": [
    "plt.figure(figsize=(8, 4))\n",
    "plt.subplot(1, 2, 1)\n",
    "for _ in range(5):\n",
    "    plt.plot(x, s @ np.random.normal(size=s.shape[0]))\n",
    "\n",
    "plt.subplot(1, 2, 2)\n",
    "plt.pcolor(x, x, k)"
   ]
  },
  {
   "cell_type": "code",
   "execution_count": 249,
   "metadata": {
    "ExecuteTime": {
     "end_time": "2018-02-25T08:17:52.549179Z",
     "start_time": "2018-02-25T08:17:52.540826Z"
    }
   },
   "outputs": [],
   "source": [
    "np.random.seed(13)\n",
    "x = np.random.uniform(low=0, high=2 * np.pi, size=50)\n",
    "x = np.sort(x)\n",
    "y = np.random.normal(np.cos(x), scale=0.1)"
   ]
  },
  {
   "cell_type": "code",
   "execution_count": 250,
   "metadata": {
    "ExecuteTime": {
     "end_time": "2018-02-25T08:17:52.750822Z",
     "start_time": "2018-02-25T08:17:52.745882Z"
    }
   },
   "outputs": [],
   "source": [
    "xi = np.linspace(0, 2 * np.pi, 100)"
   ]
  },
  {
   "cell_type": "code",
   "execution_count": 251,
   "metadata": {
    "ExecuteTime": {
     "end_time": "2018-02-25T08:17:52.931917Z",
     "start_time": "2018-02-25T08:17:52.926765Z"
    }
   },
   "outputs": [],
   "source": [
    "alpha = 0.25\n",
    "beta = 10."
   ]
  },
  {
   "cell_type": "code",
   "execution_count": 261,
   "metadata": {
    "ExecuteTime": {
     "end_time": "2018-02-25T08:23:18.615611Z",
     "start_time": "2018-02-25T08:23:18.605459Z"
    }
   },
   "outputs": [],
   "source": [
    "c_N = (1.0 / beta) * np.eye(x.size) + np.exp(-alpha * abs(x[:, None] - x[None, :]) ** 2.0) \n",
    "k = np.exp(-alpha * abs(x[:, None] - xi[None, :]) ** 2.0)\n",
    "c = (1.0 / beta) + np.diag(np.exp(-alpha * abs(xi[:, None] - xi[None, :]) ** 2.0))"
   ]
  },
  {
   "cell_type": "code",
   "execution_count": 262,
   "metadata": {
    "ExecuteTime": {
     "end_time": "2018-02-25T08:23:18.963000Z",
     "start_time": "2018-02-25T08:23:18.954229Z"
    }
   },
   "outputs": [],
   "source": [
    "m = k.T @ np.linalg.pinv(c_N) @ y\n",
    "s = c - np.diag(k.T @ np.linalg.pinv(c_N) @ k)"
   ]
  },
  {
   "cell_type": "code",
   "execution_count": 263,
   "metadata": {
    "ExecuteTime": {
     "end_time": "2018-02-25T08:23:19.612274Z",
     "start_time": "2018-02-25T08:23:19.340444Z"
    }
   },
   "outputs": [
    {
     "data": {
      "text/plain": [
       "[<matplotlib.lines.Line2D at 0x11228b5c0>]"
      ]
     },
     "execution_count": 263,
     "metadata": {},
     "output_type": "execute_result"
    },
    {
     "data": {
      "image/png": "[encoded data removed]",
      "text/plain": [
       "<matplotlib.figure.Figure at 0x11220dc18>"
      ]
     },
     "metadata": {},
     "output_type": "display_data"
    }
   ],
   "source": [
    "plt.plot(xi, m)\n",
    "plt.fill_between(xi, m - np.sqrt(s), m + np.sqrt(s), alpha=0.2)\n",
    "plt.plot(x, y, 'o')"
   ]
  },
  {
   "cell_type": "markdown",
   "metadata": {},
   "source": [
    "The hyperparameters (here, $\\alpha, \\beta$) can for example be optimized by maximum likelihood. The log likelihood of the data is given by\n",
    "\n",
    "$$\n",
    "    \\mathcal{L} = \\log p(\\{t\\}| \\{x\\}) = -\\frac{1}{2} |C_N| - \\frac{1}{2} t^T C_N^{-1} t - \\frac{N}{2} \\log 2 \\pi\n",
    "$$\n",
    "\n",
    "By using different lengthscales for different dimensions of $x$, automatic relevance determination can be implemented."
   ]
  },
  {
   "cell_type": "code",
   "execution_count": 259,
   "metadata": {
    "ExecuteTime": {
     "end_time": "2018-02-25T08:23:14.036230Z",
     "start_time": "2018-02-25T08:23:14.002586Z"
    }
   },
   "outputs": [],
   "source": [
    "def loglikelihood(params):\n",
    "    alpha, beta = params\n",
    "    alpha = np.log(1 + np.exp(alpha))\n",
    "    beta = np.log(1 + np.exp(beta))\n",
    "    c_N = (1.0 / beta) * np.eye(x.size) + np.exp(-alpha * abs(x[:, None] - x[None, :]) ** 2.0) \n",
    "    return (y.T @ np.linalg.pinv(c_N) @ y + np.linalg.det(c_N)) / x.size\n",
    "\n",
    "\n",
    "def fit_gp_params():\n",
    "    res = scipy.optimize.minimize(loglikelihood, [0, 0])\n",
    "    if not res.success:\n",
    "        raise RuntimeError(res.message)\n",
    "    return np.log(1 + np.exp(res.x))\n",
    "    "
   ]
  },
  {
   "cell_type": "code",
   "execution_count": 260,
   "metadata": {
    "ExecuteTime": {
     "end_time": "2018-02-25T08:23:14.563135Z",
     "start_time": "2018-02-25T08:23:14.311706Z"
    }
   },
   "outputs": [
    {
     "name": "stdout",
     "output_type": "stream",
     "text": [
      "0.5649704149113319 1.4485272009115577\n"
     ]
    }
   ],
   "source": [
    "alpha, beta = fit_gp_params()\n",
    "print(alpha, beta)"
   ]
  },
  {
   "cell_type": "markdown",
   "metadata": {},
   "source": [
    "### Classification"
   ]
  },
  {
   "cell_type": "markdown",
   "metadata": {},
   "source": [
    "Define probability of target in terms of logits $a$:\n",
    "\n",
    "$$\n",
    "    p(t|a) = \\sigma(a)^t (1 - \\sigma)^{(1 - t)}\n",
    "$$\n",
    "\n",
    "Assume the logits are distributed according to a Gaussian process:\n",
    "\n",
    "$$\n",
    "\\begin{align}\n",
    "    a &\\sim \\mathcal{GP} \\\\\n",
    "    p(a) &= \\mathcal{N}(a|0, C)\n",
    "\\end{align}\n",
    "$$\n",
    "\n",
    "Divide the covariance matrix into:\n",
    "\n",
    "$$\n",
    "    C_{m,n} = k(x_m, x_n) + \\nu \\delta_{mn}\n",
    "$$\n",
    "\n",
    "Now introduce a fully observed set $\\{x, t\\}$ and make a prediction for a new point $x_{N + 1}$\n",
    "\n",
    "The new logits are distributed according to:\n",
    "\n",
    "$$\n",
    "    p(a_{N+1}|\\{x, t\\}) = \\int \\mathrm{d}a_N\\; p(a_{N+1}|a_N) p(a_N|\\{x, t\\})\n",
    "$$\n",
    "\n",
    "Further:\n",
    "\n",
    "$$\n",
    "\\begin{align}\n",
    "    \\log p(a_N|\\{x, t\\}) \n",
    "    &= \\log p(\\{t\\}|a_N) + \\log p(a_N|\\{x\\}) + \\mathrm{const}\n",
    "\\\\\n",
    "    &= \n",
    "        -\\frac{1}{2} a_N^T C_N^{-1} a_N + \n",
    "        \\sum_n t_n \\log \\sigma(a_n) +\n",
    "        \\sum_n (1 - t_n) \\log (1 - \\sigma(a_n))\n",
    "\\end{align}\n",
    "$$\n",
    "\n",
    "This density is intractable to compute. Use Laplace approximation:\n",
    "\n",
    "$$\n",
    "\\begin{align}\n",
    "    \\frac{\\partial}{\\partial a_{Ni}} \\log p(a_N|\\{x, t\\}) \n",
    "    &= - \\sum_j C_{Nij}^{-1} a_j + t_i (1 - \\sigma(a_i)) - (1 - t_i) \\sigma(a_i)\n",
    "\\\\\n",
    "    &= - \\sum_j C_{Nij}^{-1} a_j + t_i - \\sigma(a_i)\n",
    "\\\\\n",
    "    \\frac{\\partial^2}{\\partial a_{Ni} \\partial a_{Nj}} \\log p(a_N|\\{x, t\\}) \n",
    "    &= - C_{Nij}^{-1} - \\sigma(a_i) (1 - \\sigma(a_i)) \\delta_{ij}\n",
    "\\end{align}\n",
    "$$\n",
    "\n",
    "Given the Laplace approximation $p(a_{N+1}|\\{x, t\\})$ can be evaluated."
   ]
  },
  {
   "cell_type": "code",
   "execution_count": 243,
   "metadata": {
    "ExecuteTime": {
     "end_time": "2018-02-24T23:32:37.382397Z",
     "start_time": "2018-02-24T23:32:37.378603Z"
    }
   },
   "outputs": [],
   "source": [
    "# TODO: implement"
   ]
  },
  {
   "cell_type": "code",
   "execution_count": null,
   "metadata": {},
   "outputs": [],
   "source": []
  }
 ],
 "metadata": {
  "hide_input": false,
  "kernelspec": {
   "display_name": "Python 3",
   "language": "python",
   "name": "python3"
  },
  "language_info": {
   "codemirror_mode": {
    "name": "ipython",
    "version": 3
   },
   "file_extension": ".py",
   "mimetype": "text/x-python",
   "name": "python",
   "nbconvert_exporter": "python",
   "pygments_lexer": "ipython3",
   "version": "3.6.4"
  },
  "toc": {
   "nav_menu": {},
   "number_sections": true,
   "sideBar": true,
   "skip_h1_title": false,
   "toc_cell": false,
   "toc_position": {},
   "toc_section_display": "block",
   "toc_window_display": false
  }
 },
 "nbformat": 4,
 "nbformat_minor": 2
}
