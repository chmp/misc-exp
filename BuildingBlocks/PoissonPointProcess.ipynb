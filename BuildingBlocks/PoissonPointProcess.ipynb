{
 "cells": [
  {
   "cell_type": "markdown",
   "metadata": {},
   "source": [
    "# Hakwes Process w/ tensorflow\n",
    "\n",
    "See [`arxiv:1507.02822`](https://arxiv.org/pdf/1507.02822.pdf).\n",
    "\n",
    "The conditional intensity function is parametrized as: $\\mu(t) = \\mu_0 + \\alpha \\sum_{t_i < t} e^{-\\beta(t - t_i)}$"
   ]
  },
  {
   "cell_type": "code",
   "execution_count": 1,
   "metadata": {
    "collapsed": true
   },
   "outputs": [],
   "source": [
    "%matplotlib inline"
   ]
  },
  {
   "cell_type": "code",
   "execution_count": 2,
   "metadata": {
    "collapsed": true
   },
   "outputs": [],
   "source": [
    "import numpy as np\n",
    "import matplotlib.pyplot as plt\n",
    "import tensorflow as tf\n",
    "\n",
    "from tqdm import tqdm_notebook as tqdm"
   ]
  },
  {
   "cell_type": "code",
   "execution_count": 3,
   "metadata": {
    "collapsed": true
   },
   "outputs": [],
   "source": [
    "def simulate(mu0, alpha, beta, tmax):\n",
    "    \"\"\"Simulate the Hawkes process by thinning.\"\"\"\n",
    "    epsilon = 1e-6\n",
    "    \n",
    "    events = [np.random.exponential(1.0 / mu0)]\n",
    "    \n",
    "    # TODO: reuse the sum when simulating\n",
    "    while events[-1] < tmax:\n",
    "        bound = intensity(mu0, alpha, beta, events, events[-1] + epsilon)\n",
    "        tnew = events[-1] + np.random.exponential(1.0 / bound)\n",
    "        u = np.random.uniform(0.0, bound)\n",
    "        mu = intensity(mu0, alpha, beta, events, tnew)\n",
    "        \n",
    "        if u < mu and tnew > tmax:\n",
    "            break\n",
    "            \n",
    "        elif u < mu:\n",
    "            events += [tnew]\n",
    "        \n",
    "    return np.asarray(events)\n",
    "        \n",
    "    \n",
    "def intensity(mu0, alpha, beta, events, t):\n",
    "    events = np.asarray(events).reshape(-1)\n",
    "    t = np.asarray(t).reshape(-1)\n",
    "    delta = t[:, None] - events[None, :]\n",
    "    return mu0 + alpha * np.sum((delta > 0) * np.exp(-beta * delta), axis=1)"
   ]
  },
  {
   "cell_type": "code",
   "execution_count": 4,
   "metadata": {
    "collapsed": true,
    "scrolled": false
   },
   "outputs": [],
   "source": [
    "mu0 = 10\n",
    "alpha = 0.5\n",
    "beta = 2\n",
    "\n",
    "traces = [\n",
    "    simulate(mu0, alpha, beta, 40)\n",
    "    for _ in range(100)\n",
    "]"
   ]
  },
  {
   "cell_type": "code",
   "execution_count": 5,
   "metadata": {
    "collapsed": true
   },
   "outputs": [],
   "source": [
    "min_len = min(len(t) for t in traces)\n",
    "max_len = max(len(t) for t in traces)\n",
    "#traces = [t[:min_len] for t in traces]"
   ]
  },
  {
   "cell_type": "code",
   "execution_count": 6,
   "metadata": {
    "collapsed": true
   },
   "outputs": [],
   "source": [
    "padded = np.zeros((len(traces), max_len), dtype=np.float32)\n",
    "masks = np.ones((len(traces), max_len), dtype=np.float32)\n",
    "\n",
    "for idx, t in enumerate(traces):\n",
    "    padded[idx, :len(t)] = t\n",
    "    masks[idx, len(t):] = 0"
   ]
  },
  {
   "cell_type": "code",
   "execution_count": 7,
   "metadata": {},
   "outputs": [
    {
     "data": {
      "text/plain": [
       "[<matplotlib.lines.Line2D at 0x117c15ac8>]"
      ]
     },
     "execution_count": 7,
     "metadata": {},
     "output_type": "execute_result"
    },
    {
     "data": {
      "image/png": "[encoded data removed]",
      "text/plain": [
       "<matplotlib.figure.Figure at 0x117c15a58>"
      ]
     },
     "metadata": {},
     "output_type": "display_data"
    }
   ],
   "source": [
    "time = np.linspace(0, 1.1 * traces[0].max(), 100)\n",
    "\n",
    "plt.eventplot(traces[0], lineoffsets=0, color='k', alpha=0.2)\n",
    "plt.plot(time, intensity(mu0, alpha, beta, traces[0], time) - mu0)"
   ]
  },
  {
   "cell_type": "markdown",
   "metadata": {},
   "source": [
    "## tensorflow "
   ]
  },
  {
   "cell_type": "code",
   "execution_count": 8,
   "metadata": {
    "collapsed": true
   },
   "outputs": [],
   "source": [
    "def unpacked(f):\n",
    "    return lambda *ps: f(*[i for p in ps for i in p])"
   ]
  },
  {
   "cell_type": "code",
   "execution_count": 9,
   "metadata": {
    "collapsed": true
   },
   "outputs": [],
   "source": [
    "tf.reset_default_graph()\n",
    "\n",
    "events_ = tf.placeholder(tf.float32, shape=[None, None])\n",
    "mask_ = tf.placeholder(tf.float32, shape=[None, None])\n",
    "\n",
    "mu0_ = tf.Variable(np.random.uniform(0.5, 10.0), dtype=tf.float32)\n",
    "mu0_ = tf.nn.softplus(mu0_)\n",
    "\n",
    "alpha_ = tf.Variable(0.0, dtype=tf.float32)\n",
    "alpha_ = tf.nn.softplus(alpha_)\n",
    "\n",
    "beta_ = tf.Variable(np.random.uniform(1.0, 10.0), dtype=tf.float32)\n",
    "beta_ = tf.nn.softplus(beta_)\n",
    "\n",
    "# build loglikelihood\n",
    "tmax_ = tf.reduce_max(mask_ * events_, axis=1)\n",
    "\n",
    "# Notes:\n",
    "# use initial value prev_a to ensure A(0) = 0\n",
    "# prevent overflows in scan, due to 0 in padding\n",
    "scan_events_ = mask_ * events_ + (1.0 - mask_) * tf.expand_dims(tmax_, axis=1)\n",
    "a_, _ = tf.scan(\n",
    "    unpacked(lambda prev_a, prev_event, current_event: [\n",
    "        tf.exp(-beta_ * (current_event - prev_event)) * (1 + prev_a),\n",
    "        current_event,\n",
    "    ]),\n",
    "    [tf.transpose(scan_events_)],\n",
    "    [-tf.ones_like(tmax_), tf.zeros_like(tmax_)],\n",
    ")\n",
    "\n",
    "a_ = tf.transpose(a_)\n",
    "\n",
    "ll_ = tf.reduce_mean(\n",
    "    tf.reduce_sum(mask_ * tf.log(mu0_ + alpha_ * a_), axis=1) +\n",
    "    -mu0_ * tmax_ +\n",
    "    alpha_ / beta_ * tf.reduce_sum(mask_ * (tf.exp(-beta_ * (tf.expand_dims(tmax_, axis=1) - events_)) - 1), axis=1)\n",
    ")\n",
    "\n",
    "optimizer_ = tf.train.RMSPropOptimizer(0.1)\n",
    "train_ = optimizer_.minimize(-ll_)"
   ]
  },
  {
   "cell_type": "code",
   "execution_count": 10,
   "metadata": {
    "scrolled": false
   },
   "outputs": [
    {
     "name": "stdout",
     "output_type": "stream",
     "text": [
      "INFO:tensorflow:Optimization terminated with:\n",
      "  Message: b'CONVERGENCE: REL_REDUCTION_OF_F_<=_FACTR*EPSMCH'\n",
      "  Objective function value: -977.540161\n",
      "  Number of iterations: 18\n",
      "  Number of functions evaluations: 38\n",
      "CPU times: user 23.8 s, sys: 17.9 s, total: 41.7 s\n",
      "Wall time: 21 s\n"
     ]
    }
   ],
   "source": [
    "%%time\n",
    "with tf.Session() as sess:\n",
    "    sess.run(tf.global_variables_initializer())\n",
    "    \n",
    "    optimizer_ = tf.contrib.opt.ScipyOptimizerInterface(-ll_)\n",
    "    optimizer_.minimize(sess, {events_: padded, mask_: masks})\n",
    "    \n",
    "    lbfgs_params = sess.run([mu0_, alpha_, beta_])\n",
    "    lbfgs_params = dict(zip(['mu0', 'alpha', 'beta'], lbfgs_params))"
   ]
  },
  {
   "cell_type": "code",
   "execution_count": 11,
   "metadata": {
    "scrolled": false
   },
   "outputs": [
    {
     "data": {
      "application/vnd.jupyter.widget-view+json": {
       "model_id": "80ba9e9b8d0e490e9ed78dd47d06ab5b"
      }
     },
     "metadata": {},
     "output_type": "display_data"
    },
    {
     "name": "stdout",
     "output_type": "stream",
     "text": [
      "ll: 928.3585815429688 mu0: 3.0 alpha: 0.9 beta: 1.2\n",
      "ll: 974.2868041992188 mu0: 5.5 alpha: 0.7 beta: 1.1\n",
      "ll: 976.4176025390625 mu0: 7.7 alpha: 0.6 beta: 1.2\n",
      "\n",
      "CPU times: user 1min 13s, sys: 1min 11s, total: 2min 24s\n",
      "Wall time: 1min 11s\n"
     ]
    }
   ],
   "source": [
    "%%time\n",
    "with tf.Session() as sess:\n",
    "    sess.run(tf.global_variables_initializer())\n",
    "    \n",
    "    status = tqdm(range(101))\n",
    "    for idx in status:\n",
    "        _, ll = sess.run([train_, ll_], {events_: padded, mask_: masks})\n",
    "        \n",
    "        rmsp_params = sess.run([mu0_, alpha_, beta_])\n",
    "        rmsp_params = dict(zip(['mu0', 'alpha', 'beta'], rmsp_params))\n",
    "        \n",
    "        if idx % 50 == 0:\n",
    "            status.write('ll: {ll} mu0: {mu0:.1f} alpha: {alpha:.1f} beta: {beta:.1f}'.format(ll=ll, **rmsp_params))"
   ]
  },
  {
   "cell_type": "code",
   "execution_count": null,
   "metadata": {
    "collapsed": true
   },
   "outputs": [],
   "source": []
  }
 ],
 "metadata": {
  "kernelspec": {
   "display_name": "py3-data-science",
   "language": "python",
   "name": "py3-data-science"
  },
  "language_info": {
   "codemirror_mode": {
    "name": "ipython",
    "version": 3
   },
   "file_extension": ".py",
   "mimetype": "text/x-python",
   "name": "python",
   "nbconvert_exporter": "python",
   "pygments_lexer": "ipython3",
   "version": "3.6.1"
  }
 },
 "nbformat": 4,
 "nbformat_minor": 2
}
