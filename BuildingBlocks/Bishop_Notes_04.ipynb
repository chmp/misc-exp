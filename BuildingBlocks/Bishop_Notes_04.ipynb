{
 "cells": [
  {
   "cell_type": "code",
   "execution_count": 60,
   "metadata": {
    "ExecuteTime": {
     "end_time": "2018-02-13T15:06:14.882493Z",
     "start_time": "2018-02-13T15:06:14.864103Z"
    }
   },
   "outputs": [],
   "source": [
    "%matplotlib inline\n",
    "\n",
    "from typing import List\n",
    "\n",
    "import numpy as np\n",
    "import matplotlib.pyplot as plt\n",
    "import pandas as pd\n",
    "import scipy.linalg\n",
    "import scipy.ndimage\n",
    "import scipy.optimize\n",
    "import scipy.special\n",
    "import sklearn.datasets\n",
    "\n",
    "from chmp.ds import mpl_set, get_color_cycle, Loop"
   ]
  },
  {
   "cell_type": "code",
   "execution_count": 2,
   "metadata": {
    "ExecuteTime": {
     "end_time": "2018-02-13T14:48:58.234545Z",
     "start_time": "2018-02-13T14:48:58.215147Z"
    }
   },
   "outputs": [],
   "source": [
    "# helper for gradient checking\n",
    "def approximate_gradient(x, func, eps=1e-5):\n",
    "    res = np.zeros(x.size)\n",
    "    \n",
    "    for i in range(x.size):\n",
    "        d = np.zeros(x.size)\n",
    "        d[i] = eps\n",
    "        \n",
    "        res[i] = (func(x + d) - func(x - d)) / (2 * eps)\n",
    "    \n",
    "    return res"
   ]
  },
  {
   "cell_type": "markdown",
   "metadata": {
    "ExecuteTime": {
     "end_time": "2018-02-05T21:07:55.238203Z",
     "start_time": "2018-02-05T21:07:55.233230Z"
    }
   },
   "source": [
    "# Linear Models for classification"
   ]
  },
  {
   "cell_type": "markdown",
   "metadata": {},
   "source": [
    "## Discriminant Functions"
   ]
  },
  {
   "cell_type": "markdown",
   "metadata": {},
   "source": [
    "### Fischer's Linear Discriminant"
   ]
  },
  {
   "cell_type": "code",
   "execution_count": 3,
   "metadata": {
    "ExecuteTime": {
     "end_time": "2018-02-13T14:48:58.301582Z",
     "start_time": "2018-02-13T14:48:58.238331Z"
    }
   },
   "outputs": [],
   "source": [
    "n_samples = 200 \n",
    "\n",
    "y = np.random.binomial(1, p=0.5, size=n_samples)\n",
    "mu = np.asarray([[-1, 0.5], [1, 0]])\n",
    "sigma = np.asarray([\n",
    "    [[+0.65, +0.35],\n",
    "     [+0.35, +0.65]],\n",
    "    [[+0.75, +0.35],\n",
    "     [+0.35, +0.75]],\n",
    "])\n",
    "\n",
    "x = mu[y] + np.einsum('ij...,ij...->i...', sigma[y], np.random.normal(size=(n_samples, 2)))\n",
    "\n",
    "simple_w = np.mean(x[y == 0], axis=0) - np.mean(x[y == 1], axis=0)\n",
    "simple_w = simple_w / (simple_w @ simple_w) ** 0.5\n",
    "\n",
    "delta_0 = x[y == 0] - np.mean(x[y == 0], axis=0, keepdims=True)\n",
    "delta_1 = x[y == 1] - np.mean(x[y == 1], axis=0, keepdims=True)\n",
    "S_w = delta_0.T @ delta_0 + delta_1.T @ delta_1\n",
    "\n",
    "fischer_w = np.linalg.pinv(S_w) @ simple_w\n",
    "fischer_w = fischer_w / (fischer_w @ fischer_w) ** 0.5"
   ]
  },
  {
   "cell_type": "code",
   "execution_count": 4,
   "metadata": {
    "ExecuteTime": {
     "end_time": "2018-02-13T14:48:59.300540Z",
     "start_time": "2018-02-13T14:48:58.304866Z"
    }
   },
   "outputs": [
    {
     "data": {
      "image/png": "[encoded data removed]",
      "text/plain": [
       "<matplotlib.figure.Figure at 0x10edda710>"
      ]
     },
     "metadata": {},
     "output_type": "display_data"
    }
   ],
   "source": [
    "c0, c1 = get_color_cycle(2)\n",
    "\n",
    "plt.figure(figsize=(12, 4))\n",
    "plt.subplot(1, 3, 1)\n",
    "plt.scatter(x[y == 0, 0], x[y == 0, 1], color=c0, alpha=0.4, marker='.')\n",
    "plt.scatter(x[y == 1, 0], x[y == 1, 1], color=c1, alpha=0.4, marker='.')\n",
    "\n",
    "plt.subplot(1, 3, 2)\n",
    "plt.hist(x[y == 0] @ simple_w, alpha=0.4, range=(-3, +3), bins=21, color=c0)\n",
    "plt.hist(x[y == 1] @ simple_w, alpha=0.4, range=(-3, +3), bins=21, color=c1)\n",
    "\n",
    "plt.subplot(1, 3, 3)\n",
    "plt.hist(x[y == 0] @ fischer_w, alpha=0.4, range=(-3, +3), bins=21, color=c0)\n",
    "plt.hist(x[y == 1] @ fischer_w, alpha=0.4, range=(-3, +3), bins=21, color=c1)\n",
    "pass"
   ]
  },
  {
   "cell_type": "markdown",
   "metadata": {},
   "source": [
    "### Perceptron Algorithm"
   ]
  },
  {
   "cell_type": "code",
   "execution_count": 5,
   "metadata": {
    "ExecuteTime": {
     "end_time": "2018-02-13T14:48:59.333920Z",
     "start_time": "2018-02-13T14:48:59.306596Z"
    }
   },
   "outputs": [],
   "source": [
    "n_samples = 200 \n",
    "\n",
    "y = np.random.binomial(1, p=0.5, size=n_samples)\n",
    "mu = np.asarray([[-1, 0.5], [1, 0]])\n",
    "sigma = np.asarray([\n",
    "    [[+0.65, +0.35],\n",
    "     [+0.35, +0.65]],\n",
    "    [[+0.75, +0.35],\n",
    "     [+0.35, +0.75]],\n",
    "])\n",
    "\n",
    "x = mu[y] + np.einsum('ij...,ij...->i...', sigma[y], np.random.normal(size=(n_samples, 2)))\n",
    "x = np.concatenate([np.ones(n_samples)[:, None], x], axis=1)\n",
    "\n",
    "y = 2 * y - 1"
   ]
  },
  {
   "cell_type": "code",
   "execution_count": 6,
   "metadata": {
    "ExecuteTime": {
     "end_time": "2018-02-13T14:48:59.560626Z",
     "start_time": "2018-02-13T14:48:59.339651Z"
    }
   },
   "outputs": [
    {
     "name": "stdout",
     "output_type": "stream",
     "text": [
      "[⣿▫▫▫▫▫▫▫▫▫ 0.03s / 0.27s]\r",
      "[⣿⣿▫▫▫▫▫▫▫▫ 0.06s / 0.27s]\r",
      "[⣿⣿⣿▫▫▫▫▫▫▫ 0.08s / 0.32s]\r",
      "[⣿⣿⣿⣿▫▫▫▫▫▫ 0.10s / 0.28s]\r",
      "[⣿⣿⣿⣿⣿▫▫▫▫▫ 0.11s / 0.24s]\r",
      "[⣿⣿⣿⣿⣿⣿▫▫▫▫ 0.12s / 0.22s]\r",
      "[⣿⣿⣿⣿⣿⣿⣿▫▫▫ 0.14s / 0.21s]\r",
      "[⣿⣿⣿⣿⣿⣿⣿⣿▫▫ 0.16s / 0.20s]\r",
      "[⣿⣿⣿⣿⣿⣿⣿⣿⣿▫ 0.18s / 0.20s]\r",
      "[⣿⣿⣿⣿⣿⣿⣿⣿⣿⣿ 0.20s / 0.20s]\r"
     ]
    }
   ],
   "source": [
    "w = np.random.normal(loc=1e-2, size=3)\n",
    "errors: List[float] = []\n",
    "\n",
    "for loop, _ in Loop.over(range(10)):\n",
    "    idx = np.arange(n_samples)\n",
    "    np.random.shuffle(idx)\n",
    "    for i in idx:\n",
    "        if y[i] * np.sign(x[i, :] @ w):\n",
    "            w += y[i] * x[i, :]\n",
    "    \n",
    "        errors += [np.mean(y * np.sign(x @ w) + 1) / 2]\n",
    "    print(f'{loop}'.ljust(20), end='\\r')"
   ]
  },
  {
   "cell_type": "code",
   "execution_count": 7,
   "metadata": {
    "ExecuteTime": {
     "end_time": "2018-02-13T14:48:59.881664Z",
     "start_time": "2018-02-13T14:48:59.566064Z"
    }
   },
   "outputs": [
    {
     "data": {
      "image/png": "[encoded data removed]",
      "text/plain": [
       "<matplotlib.figure.Figure at 0x10edda2b0>"
      ]
     },
     "metadata": {},
     "output_type": "display_data"
    }
   ],
   "source": [
    "plt.plot(errors, '.', alpha=0.1)\n",
    "plt.plot(scipy.ndimage.gaussian_filter(errors, 20), '-')\n",
    "mpl_set(ylabel='Accuracy', xlabel='Iteration')"
   ]
  },
  {
   "cell_type": "markdown",
   "metadata": {
    "ExecuteTime": {
     "end_time": "2018-02-09T14:44:33.214345Z",
     "start_time": "2018-02-09T14:44:33.210486Z"
    }
   },
   "source": [
    "## Probabilistic Generative Models"
   ]
  },
  {
   "cell_type": "markdown",
   "metadata": {},
   "source": [
    "Assume probability of data given class $p(x|C_k)$. This results in the posterior:\n",
    "\n",
    "$$\n",
    "\\begin{align}\n",
    "    p(C_k|x) \n",
    "        &= \\frac{p(x|C_k) p(C_k)}{\\sum_k p(x|C_k) p(C_k)} \\\\\n",
    "        &= \\frac{e^{a_k(x)}}{\\sum_k e^{a_k(x)}}\n",
    "\\end{align}\n",
    "$$\n",
    "\n",
    "with $a_k(x) = \\log p(x|C_k)  + \\log p(C_k)$. For two classes this can be written as:\n",
    "\n",
    "$$\n",
    "\\begin{align}\n",
    "    p(C_1|x) &= \\sigma(a(x)) \\\\\n",
    "    a(x) &= c_1(x) - c_0(x)\n",
    "\\end{align}\n",
    "$$"
   ]
  },
  {
   "cell_type": "markdown",
   "metadata": {},
   "source": [
    "For example for continuous features $p(x|C_k)$ could be modeled as a Gaussian:\n",
    "\n",
    "$$\n",
    "    a(x) = \n",
    "        -\\frac{1}{2} (x - \\mu_1)^T \\Sigma_1 (x - \\mu_1) + \n",
    "        \\frac{1}{2} (x - \\mu_2)^T \\Sigma_2 (x - \\mu_2) +\n",
    "        \\frac{1}{2} \\log \\frac{|\\Sigma_1|}{|\\Sigma_2|} +\n",
    "        \\log \\frac{p(C_1)}{p(C_0)}\n",
    "$$\n",
    "\n",
    "To fit, parametrize $p(C_1) = \\pi, p(C_0) = 1 - \\pi$ and optimize the joint loglikelihood $p(x|C_k)p(C_k)$. Then use Bayes theorem to obtain class probabilities."
   ]
  },
  {
   "cell_type": "markdown",
   "metadata": {},
   "source": [
    "To reduce the number of parameters for discrete features use Naive Bayes approximation:\n",
    "\n",
    "$$\n",
    "\\begin{align}\n",
    "    p(\\{x\\}|C_k) \n",
    "        &= \\sum_i p(x_i|C_k) &\\; \\\\\n",
    "        &= \\sum_i \\mu_{ik}^{x_i} (1 - \\mu_{ik})^{1 - x_i} &&\\text{for binary $x_i$}\n",
    "\\end{align}\n",
    "$$\n",
    "\n",
    "This results in\n",
    "\n",
    "$$\n",
    "\\begin{align}\n",
    "    a(\\{ x \\}) &= \n",
    "        \\sum_i x_i \\log \\frac{\\mu_{i1} (1 - \\mu_{i0})}{\\mu_{i0} (1 - \\mu_{i1})} +\n",
    "        \\sum_i \\log \\frac{1 - \\mu_{i0}}{1 - \\mu_{i1}} +\n",
    "        \\log \\frac{p(C_1)}{p(C_0)}\n",
    "\\end{align}\n",
    "$$"
   ]
  },
  {
   "cell_type": "markdown",
   "metadata": {},
   "source": [
    "## Probabilistic Discriminative Models\n",
    "\n",
    "Instead of modelling the data and using Bayes theorem. Approximate the class probabilities directly by using the functional form. "
   ]
  },
  {
   "cell_type": "markdown",
   "metadata": {
    "ExecuteTime": {
     "end_time": "2018-02-12T23:20:22.495974Z",
     "start_time": "2018-02-12T23:20:22.492935Z"
    }
   },
   "source": [
    "### Logistic Regression"
   ]
  },
  {
   "cell_type": "markdown",
   "metadata": {},
   "source": [
    "Take $y \\in \\{-1, +1\\}$. Then, the negative loglikelihood is given by:\n",
    "\n",
    "$$\n",
    "\\begin{align}\n",
    "    NLL \n",
    "        &= -\\sum_n \\log \\sigma(y_n x_n^T w) + \\frac{1}{2} \\lambda w^T w \n",
    "\\\\\n",
    "    \\frac{\\partial}{\\partial w_\\alpha} NLL \n",
    "        &= -\\sum_n \\sigma(-y_n x_n^T w) y_n x_{n\\alpha} + \\lambda w_\\alpha\n",
    "\\\\\n",
    "    \\frac{\\partial^2}{\\partial w_\\alpha \\partial w_\\beta} NLL \n",
    "        &= \\sum_n \\sigma(y_n x_n^T w) \\sigma(-y_n x_n^T w) x_{n\\alpha} x_{n\\beta} + \\lambda\n",
    "\\end{align}\n",
    "$$"
   ]
  },
  {
   "cell_type": "code",
   "execution_count": 34,
   "metadata": {
    "ExecuteTime": {
     "end_time": "2018-02-13T14:59:30.199116Z",
     "start_time": "2018-02-13T14:59:30.137379Z"
    }
   },
   "outputs": [],
   "source": [
    "def fit_logistic_regression(x, y, reg=0.0):\n",
    "    N, M = x.shape\n",
    "    y = 2 * y - 1\n",
    "    \n",
    "    w0 = np.random.uniform(low=-1e-2, high=+1e-2, size=M)\n",
    "    \n",
    "    def loss(w):\n",
    "        return -np.mean(np.log(sigmoid(y * (x @ w)))) + (0.5 * reg / N) * (w @ w)\n",
    "    \n",
    "    def grad(w):\n",
    "        return (\n",
    "            -np.mean(sigmoid(-y * (x @ w))[:, None] * y[:, None] * x, axis=0) +\n",
    "            reg / N * w\n",
    "        )\n",
    "    \n",
    "    res = scipy.optimize.minimize(loss, w0, jac=grad, method='BFGS')\n",
    "    if not res.success:\n",
    "        raise ValueError(f'could not fit: {res.message}')\n",
    "    \n",
    "    return res.x\n",
    "\n",
    "\n",
    "def sigmoid(x):\n",
    "        p = x > 0\n",
    "        s = 1.0 / (1.0 + np.exp(-np.abs(x)))\n",
    "        return p * s + (1 - p) * (1 - s)"
   ]
  },
  {
   "cell_type": "code",
   "execution_count": 83,
   "metadata": {
    "ExecuteTime": {
     "end_time": "2018-02-13T15:09:42.963492Z",
     "start_time": "2018-02-13T15:09:42.881847Z"
    },
    "scrolled": false
   },
   "outputs": [
    {
     "name": "stdout",
     "output_type": "stream",
     "text": [
      "likelihood (no reg) 0.999652286703\n",
      "likelihood (w/ reg) 0.979098237265\n"
     ]
    }
   ],
   "source": [
    "# do not shuffle to see posterior structure more clearly\n",
    "x, y = sklearn.datasets.make_classification(random_state=42, shuffle=False)\n",
    "w_logit = fit_logistic_regression(x, y)\n",
    "w_logit_reg = fit_logistic_regression(x, y, reg=1e-3)\n",
    "\n",
    "print('likelihood (no reg)', np.prod(sigmoid((2 * y - 1) * (x @ w_logit))))\n",
    "print('likelihood (w/ reg)', np.prod(sigmoid((2 * y - 1) * (x @ w_logit_reg))))"
   ]
  },
  {
   "cell_type": "markdown",
   "metadata": {},
   "source": [
    "### Probit regression\n",
    "\n",
    "Assume noisy threshold model\n",
    "\n",
    "$$\n",
    "\\begin{align}\n",
    "    p(t = 1 | x) \n",
    "        &= \\mathbb{E}_\\theta \\left[ w^T x > \\theta \\right] \\\\\n",
    "        &= \\int_{-\\infty}^{+\\infty}\\mathrm{d}\\theta\\; p(\\theta) \\mathbb{1}\\left[ w^T x > \\theta \\right] \\\\\n",
    "        &= \\int_{-\\infty}^{+w^T x}\\mathrm{d}\\theta\\; p(\\theta)\n",
    "\\end{align}\n",
    "$$\n",
    "\n",
    "This model is called probit regression for $\\theta \\sim \\mathcal{N}(0, 1)$."
   ]
  },
  {
   "cell_type": "code",
   "execution_count": 10,
   "metadata": {
    "ExecuteTime": {
     "end_time": "2018-02-13T14:49:00.219998Z",
     "start_time": "2018-02-13T14:49:00.150896Z"
    }
   },
   "outputs": [],
   "source": [
    "def fit_probit_regression(x, y):\n",
    "    N, M = x.shape\n",
    "    y = 2 * y - 1\n",
    "    \n",
    "    w0 = np.random.uniform(low=-1e-2, high=+1e-2, size=M)\n",
    "    \n",
    "    def loss(w):\n",
    "        return -np.mean(np.log(probit(y * (x @ w))))\n",
    "    \n",
    "    def grad(w):\n",
    "        arg = y * (x @ w)\n",
    "        scalar = probit_grad(arg) / probit(arg) * y\n",
    "        return -np.mean(scalar[:, None] * x, axis=0)\n",
    "    \n",
    "    res = scipy.optimize.minimize(loss, w0, jac=grad, method='BFGS')\n",
    "    if not res.success:\n",
    "        raise ValueError(f'could not fit: {res.message}')\n",
    "    \n",
    "    return res.x\n",
    "\n",
    "\n",
    "def probit(u):\n",
    "    # NOTE the definition of the error function between Bishop and scipy differ\n",
    "    return 0.5 * (1 + scipy.special.erf(u / np.sqrt(2)))\n",
    "\n",
    "\n",
    "def probit_grad(u):\n",
    "    return np.exp(-u ** 2.0 / 2) / (np.sqrt(2 * np.pi))"
   ]
  },
  {
   "cell_type": "code",
   "execution_count": 11,
   "metadata": {
    "ExecuteTime": {
     "end_time": "2018-02-13T14:49:01.057570Z",
     "start_time": "2018-02-13T14:49:00.401112Z"
    }
   },
   "outputs": [
    {
     "data": {
      "image/png": "[encoded data removed]",
      "text/plain": [
       "<matplotlib.figure.Figure at 0x10f126cf8>"
      ]
     },
     "metadata": {},
     "output_type": "display_data"
    }
   ],
   "source": [
    "u = np.linspace(-5, +5, 100)\n",
    "\n",
    "plt.figure(figsize=(8, 4))\n",
    "plt.subplot(1, 2, 1)\n",
    "plt.plot(u, probit(u), label='probit function')\n",
    "plt.plot(u, sigmoid(u), label='sigmoid function')\n",
    "plt.legend(loc='best')\n",
    "\n",
    "plt.subplot(1, 2, 2)\n",
    "plt.plot(u, np.asarray([approximate_gradient(np.asarray([x]), probit) for x in u]), label='probit deriv.')\n",
    "plt.plot(u, probit_grad(u), ls='--', c='k')\n",
    "\n",
    "plt.plot(u, np.asarray([approximate_gradient(np.asarray([x]), sigmoid) for x in u]), label='sigmoid deriv.')\n",
    "plt.plot(u, sigmoid(u) * (1 - sigmoid(u)), ls='--', c='k')\n",
    "\n",
    "plt.legend(loc='best')\n",
    "pass"
   ]
  },
  {
   "cell_type": "code",
   "execution_count": 12,
   "metadata": {
    "ExecuteTime": {
     "end_time": "2018-02-13T14:49:01.079424Z",
     "start_time": "2018-02-13T14:49:01.060832Z"
    }
   },
   "outputs": [
    {
     "name": "stdout",
     "output_type": "stream",
     "text": [
      "probit likelihood 0.999933414634\n"
     ]
    }
   ],
   "source": [
    "w_probit = fit_probit_regression(x, y)\n",
    "print('probit likelihood', np.prod(probit((2 * y - 1) * (x @ w_probit))))"
   ]
  },
  {
   "cell_type": "code",
   "execution_count": 13,
   "metadata": {
    "ExecuteTime": {
     "end_time": "2018-02-13T14:49:01.711367Z",
     "start_time": "2018-02-13T14:49:01.083321Z"
    },
    "scrolled": true
   },
   "outputs": [
    {
     "data": {
      "image/png": "[encoded data removed]",
      "text/plain": [
       "<matplotlib.figure.Figure at 0x10edda358>"
      ]
     },
     "metadata": {},
     "output_type": "display_data"
    }
   ],
   "source": [
    "pd.DataFrame({'probit': w_probit, 'logit': w_logit}).plot.bar()\n",
    "plt.title('Comparision Probit / Logistic regression coefficients')\n",
    "pass"
   ]
  },
  {
   "cell_type": "markdown",
   "metadata": {},
   "source": [
    "## Laplace Approximation"
   ]
  },
  {
   "cell_type": "markdown",
   "metadata": {},
   "source": [
    "Talyor expand the log probability $p(z)$ around its maximum $\\partial_{z} \\log p(z) \\big|_{z_0} = 0$. \n",
    "This results in:\n",
    "\n",
    "$$\n",
    "\\begin{align}\n",
    "    \\log p(z) \n",
    "    &\\approx \n",
    "        \\log p(z_0) + \n",
    "        \\frac{1}{2} (z - z_0)_\\alpha (z - z_0)_\\beta \\; \n",
    "        \\left[ \\frac{\\partial^2}{\\partial z_\\alpha \\partial z_\\beta} \\log p(z) \\right]_{z=z_0}\n",
    "\\\\\n",
    "    &= \n",
    "        \\log p(z_0) - \\frac{1}{2} (z - z_0)^T A (z - z_0)\n",
    "\\\\\n",
    "    &\\approx \n",
    "        \\mathcal{N}(z|z_0, A^{-1})\n",
    "\\\\\n",
    "    A_{\\alpha\\beta} &= -\\left[ \\frac{\\partial^2}{\\partial z_\\alpha \\partial z_\\beta} \\log p(z) \\right]_{z=z_0}\n",
    "\\end{align}\n",
    "$$\n",
    "\n",
    "Note: As a result of the central limit theorem, the posterior distribution for a model is expected to become increasingly better approximated by a Gaussian as the number of observed data points is increased, and so we would expect the Laplace approximation to be most useful in situations where the number of data points is relatively large. (p. 216).\n",
    "\n",
    "The same approach can be used to estimate the normalization constant of the data likelihood:\n",
    "\n",
    "$$\n",
    "\\begin{align}\n",
    "    \\log p(\\mathcal{D}) \n",
    "    &= \n",
    "        \\log p(\\mathcal{D}|\\theta) + \\log p(\\theta) - \n",
    "        \\log \\int \\mathrm{d}\\theta\\;  p(\\mathcal{D}|\\theta) p(\\theta)\n",
    "\\\\\n",
    "    &\\approx\n",
    "        \\log p(\\mathcal{D}|\\theta_\\mathrm{MAP}) + \\log p(\\theta_\\mathrm{MAP}) + \n",
    "        \\frac{M}{2} \\log 2\\pi - \\frac{1}{2} \\log |A|\n",
    "\\\\\n",
    "    A_{\\alpha\\beta} &= \n",
    "        -\\left[ \n",
    "            \\frac{\\partial^2}{\\partial \\theta_\\alpha \\partial \\theta_\\beta} \n",
    "                \\log p(\\mathcal{D}|\\theta) p(\\theta)\n",
    "        \\right]_{\\theta = \\theta_\\mathrm{MAP}}\n",
    "\\end{align}\n",
    "$$"
   ]
  },
  {
   "cell_type": "markdown",
   "metadata": {},
   "source": [
    "## Bayesian Logistic Regression"
   ]
  },
  {
   "cell_type": "markdown",
   "metadata": {},
   "source": [
    "$$\n",
    "\\begin{align}\n",
    "    p(w) &= \\mathcal{N}(w|0, \\sigma_0^2)\n",
    "\\\\\n",
    "    p(y|w, x) &= \\sigma(y w^T x)\n",
    "\\\\\n",
    "    \\log p(w|\\left\\{y, x \\right\\}) \n",
    "    &= \n",
    "        \\sum_n \\log \\sigma (y_n w^T x_n) -\n",
    "        \\frac{1}{2} \\sigma_0^{-2} w^T w +\n",
    "        \\mathrm{const}\n",
    "\\\\\n",
    "    &\\approx \n",
    "        \\mathcal{N}(w|w_\\mathrm{map}, A^{-1})\n",
    "\\end{align}\n",
    "$$\n",
    "\n",
    "Identify $\\sigma_0^{-2} = \\lambda$"
   ]
  },
  {
   "cell_type": "code",
   "execution_count": 88,
   "metadata": {
    "ExecuteTime": {
     "end_time": "2018-02-13T15:10:39.397573Z",
     "start_time": "2018-02-13T15:10:39.393751Z"
    }
   },
   "outputs": [],
   "source": [
    "N, M = x.shape"
   ]
  },
  {
   "cell_type": "code",
   "execution_count": 84,
   "metadata": {
    "ExecuteTime": {
     "end_time": "2018-02-13T15:09:49.229268Z",
     "start_time": "2018-02-13T15:09:49.174670Z"
    }
   },
   "outputs": [],
   "source": [
    "prior_var = 100\n",
    "w_map = fit_logistic_regression(x, y, reg=1.0 / prior_var)"
   ]
  },
  {
   "cell_type": "code",
   "execution_count": 85,
   "metadata": {
    "ExecuteTime": {
     "end_time": "2018-02-13T15:09:49.646057Z",
     "start_time": "2018-02-13T15:09:49.636753Z"
    }
   },
   "outputs": [],
   "source": [
    "arg = (2 * y - 1) * (x @ w_map)\n",
    "hessian = 1 / prior_var + np.sum(\n",
    "    (sigmoid(arg) * sigmoid(-arg))[:, None, None] * x[:, None, :] * x[:, :, None],\n",
    "    axis=0\n",
    ")"
   ]
  },
  {
   "cell_type": "code",
   "execution_count": 92,
   "metadata": {
    "ExecuteTime": {
     "end_time": "2018-02-13T15:11:24.082691Z",
     "start_time": "2018-02-13T15:11:24.069455Z"
    }
   },
   "outputs": [],
   "source": [
    "posterior_var = np.linalg.pinv(hessian)\n",
    "\n",
    "# NOTE: imaginary values can appear to due to numerical inaccuracies\n",
    "posterior_std = np.real(scipy.linalg.sqrtm(posterior_var))\n",
    "\n",
    "# draw 10 posterior samples\n",
    "posterior_sample = w_map[None, :] + np.random.normal(size=[10, M]) @ posterior_std"
   ]
  },
  {
   "cell_type": "code",
   "execution_count": 87,
   "metadata": {
    "ExecuteTime": {
     "end_time": "2018-02-13T15:09:51.643966Z",
     "start_time": "2018-02-13T15:09:51.340266Z"
    }
   },
   "outputs": [
    {
     "data": {
      "image/png": "[encoded data removed]",
      "text/plain": [
       "<matplotlib.figure.Figure at 0x1100ff5c0>"
      ]
     },
     "metadata": {},
     "output_type": "display_data"
    }
   ],
   "source": [
    "plt.imshow(posterior_var, origin='lower')\n",
    "plt.xticks(range(0, 20, 2))\n",
    "plt.yticks(range(0, 20, 2))\n",
    "plt.title('posterior variance')\n",
    "pass"
   ]
  },
  {
   "cell_type": "code",
   "execution_count": 90,
   "metadata": {
    "ExecuteTime": {
     "end_time": "2018-02-13T15:11:13.776467Z",
     "start_time": "2018-02-13T15:11:13.769649Z"
    }
   },
   "outputs": [],
   "source": []
  },
  {
   "cell_type": "code",
   "execution_count": null,
   "metadata": {},
   "outputs": [],
   "source": []
  }
 ],
 "metadata": {
  "hide_input": false,
  "kernelspec": {
   "display_name": "Python 3",
   "language": "python",
   "name": "python3"
  },
  "language_info": {
   "codemirror_mode": {
    "name": "ipython",
    "version": 3
   },
   "file_extension": ".py",
   "mimetype": "text/x-python",
   "name": "python",
   "nbconvert_exporter": "python",
   "pygments_lexer": "ipython3",
   "version": "3.6.4"
  },
  "toc": {
   "nav_menu": {},
   "number_sections": true,
   "sideBar": true,
   "skip_h1_title": false,
   "toc_cell": false,
   "toc_position": {},
   "toc_section_display": "block",
   "toc_window_display": false
  }
 },
 "nbformat": 4,
 "nbformat_minor": 2
}
