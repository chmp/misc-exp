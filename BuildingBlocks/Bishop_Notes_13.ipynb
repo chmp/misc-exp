{
 "cells": [
  {
   "cell_type": "code",
   "execution_count": 193,
   "metadata": {
    "ExecuteTime": {
     "end_time": "2018-05-21T17:15:30.493022Z",
     "start_time": "2018-05-21T17:15:30.470134Z"
    }
   },
   "outputs": [],
   "source": [
    "%matplotlib inline\n",
    "import numpy as np\n",
    "import matplotlib.pyplot as plt\n",
    "import scipy.stats\n",
    "\n",
    "from chmp.ds import mpl_set\n",
    "\n",
    "\n",
    "def softmax(logits):\n",
    "    logits = logits - np.max(logits)\n",
    "    p = np.exp(logits)\n",
    "    return p / p.sum()"
   ]
  },
  {
   "cell_type": "markdown",
   "metadata": {},
   "source": [
    "# Sequential Data"
   ]
  },
  {
   "cell_type": "markdown",
   "metadata": {},
   "source": [
    "$$\n",
    "\\begin{aligned}\n",
    "    p(x_{1:N}, z_{1:N}) &= \n",
    "        p(z_1) \n",
    "        \\prod_{n=2}^N p(z_n|z_{n-1}) \n",
    "        \\prod_{n=1}^N p(x_n|z_n)\n",
    "\\end{aligned}\n",
    "$$\n",
    "\n",
    "$$\n",
    "\\begin{aligned}\n",
    "    \\alpha(z_n) &= p(x_{1:n}, z_n)\n",
    "    \\beta(z_n) &= p(x_{n+1:N} | z_n)\n",
    "\\end{aligned}\n",
    "$$\n",
    "\n",
    "Boundary conditions:\n",
    "\n",
    "$$\n",
    "\\begin{aligned}\n",
    "    \\alpha(z_1) &= p(z_1) p(x_1|z_1) \\\\\n",
    "    \\beta(z_N) &= 1 \n",
    "\\end{aligned}\n",
    "$$\n",
    "\n",
    "$$\n",
    "\\begin{aligned}\n",
    "    p(x_{1:N}, z_n) &= \\alpha(z_n) \\beta(z_n) \\\\\n",
    "    p(x_{1:N}) &= \\sum_{z_n} \\alpha(z_n) \\beta(z_n) \\\\\n",
    "        &= \\sum_{z_N} \\alpha(z_N)\n",
    "\\end{aligned}\n",
    "$$"
   ]
  },
  {
   "cell_type": "markdown",
   "metadata": {},
   "source": [
    "Strategy:\n",
    "\n",
    "- use $\\alpha$, $\\beta$ to fit the model\n",
    "- use $\\alpha$ to predict"
   ]
  },
  {
   "cell_type": "markdown",
   "metadata": {},
   "source": [
    "## Hidden Markov Models"
   ]
  },
  {
   "cell_type": "markdown",
   "metadata": {},
   "source": [
    "Hidden Markov Models has discrete latent variables $z_{nk}$.\n",
    "\n",
    "$$\n",
    "    A_{jk} = p(z_{nk} = 1 | z_{n-1,j} = 1)\n",
    "$$\n",
    "\n",
    "$$\n",
    "\\begin{aligned}\n",
    "    p(z_1) &= \\prod_k \\pi_k^{z_{1k}} \\\\\n",
    "    p(z_n|z_{n-1}) &= \\prod_k \\prod_j A_{jk}^{z_{n-1,j} z_{nk}} \\\\\n",
    "    p(x_n|z_n) &= p(x_n|z_n, \\phi)\n",
    "\\end{aligned}\n",
    "$$"
   ]
  },
  {
   "cell_type": "code",
   "execution_count": 100,
   "metadata": {
    "ExecuteTime": {
     "end_time": "2018-05-21T15:06:14.760990Z",
     "start_time": "2018-05-21T15:06:14.693840Z"
    }
   },
   "outputs": [],
   "source": [
    "K = 3\n",
    "N = 10\n",
    "P = 5\n",
    "\n",
    "A = np.random.dirichlet((1.0,) * K, size=K)\n",
    "pi = np.random.dirichlet((1.0,) * K)\n",
    "mu = np.sort(np.random.normal(size=K))\n",
    "\n",
    "z = np.zeros((N, P, K), dtype=np.int64)\n",
    "\n",
    "idx = np.random.choice(np.arange(K), p=pi, size=P)\n",
    "z[0, ...] = np.eye(K)[idx]\n",
    "\n",
    "for n in range(1, N):\n",
    "    for k in range(K):\n",
    "        sel = z[n - 1, :, k] == 1\n",
    "        idx = np.random.choice(np.arange(K), p=A[k], size=sel.sum())\n",
    "        z[n, sel, :] = np.eye(K)[idx]\n",
    "        \n",
    "        \n",
    "idx_n, idx_p, idx_k = np.nonzero(z)\n",
    "x = np.zeros((N, P), dtype=np.float64)\n",
    "\n",
    "x[idx_n, idx_p] = np.random.normal(mu[idx_k], scale=0.25)"
   ]
  },
  {
   "cell_type": "code",
   "execution_count": 102,
   "metadata": {
    "ExecuteTime": {
     "end_time": "2018-05-21T15:06:57.178279Z",
     "start_time": "2018-05-21T15:06:56.630222Z"
    }
   },
   "outputs": [
    {
     "data": {
      "text/plain": [
       "[<matplotlib.lines.Line2D at 0x1108f7358>]"
      ]
     },
     "execution_count": 102,
     "metadata": {},
     "output_type": "execute_result"
    },
    {
     "data": {
      "image/png": "[encoded data removed]",
      "text/plain": [
       "<matplotlib.figure.Figure at 0x1108ed5c0>"
      ]
     },
     "metadata": {},
     "output_type": "display_data"
    }
   ],
   "source": [
    "_, (ax1, ax2) = plt.subplots(1, 2, figsize=(12, 4))\n",
    "\n",
    "plt.subplot(ax1)\n",
    "plt.imshow(z[:, 1, :].T, origin='lower', aspect='auto')\n",
    "\n",
    "plt.subplot(ax2)\n",
    "plt.plot(x[:, 1])"
   ]
  },
  {
   "cell_type": "markdown",
   "metadata": {},
   "source": [
    "$$\n",
    "\\begin{aligned}\n",
    "    Q(\\theta|\\theta^\\mathrm{old}) &= \\sum_z p(z|X, \\theta^\\mathrm{old}) \\ln p(z|X, \\theta)\n",
    "\\end{aligned}\n",
    "$$\n",
    "\n",
    "Introduce:\n",
    "\n",
    "$$\n",
    "\\begin{aligned}\n",
    "    \\gamma(z) &= p(z|x,\\theta) \\\\\n",
    "    \\xi(z_{n-1},z_n) &= p(z_{n-1}, z_n, x, \\theta)\n",
    "\\end{aligned}\n",
    "$$"
   ]
  },
  {
   "cell_type": "markdown",
   "metadata": {},
   "source": [
    "## Linear Dynamic Systems"
   ]
  },
  {
   "cell_type": "markdown",
   "metadata": {},
   "source": [
    "- $\\alpha$ recursion: Kalman filter\n",
    "- $\\beta$ recursion: Kalman smoothing"
   ]
  },
  {
   "cell_type": "markdown",
   "metadata": {},
   "source": [
    "## Particle Filter"
   ]
  },
  {
   "cell_type": "markdown",
   "metadata": {},
   "source": [
    "$$\n",
    "\\begin{aligned}\n",
    "    \\mathbb{E} \\left[ f(z_n) \\right] &\\approx \\sum_l w^{(l)}_n f(z^{(l)}_n) \n",
    "\\\\\n",
    "    z^{(l)}_n &\\sim p(z^{(l)}_n | x_{1:n-1})\n",
    "\\end{aligned}\n",
    "$$\n",
    "\n",
    "First sample a proposal for the latent state:\n",
    "\n",
    "$$\n",
    "\\begin{aligned}\n",
    "    z^{(l)}_1 &\\sim p(z_1)\n",
    "\\\\\n",
    "    p(z^{(l)}_{n + 1} | x_{1:n}) &= \n",
    "        \\sum_l w^{(l)}_n p(z_{n + 1}|z^{(l)}_n)\n",
    "\\end{aligned}\n",
    "$$\n",
    "\n",
    "Then, update the weight\n",
    "$$\n",
    "\\begin{aligned}\n",
    "    w^{(l)}_n &= \\frac{\n",
    "        p(x_n|z_n^{(l)}) \n",
    "    }{\n",
    "        \\sum_l p(x_n|z_n^{(l)}) \n",
    "    }\n",
    "\\end{aligned}\n",
    "$$"
   ]
  },
  {
   "cell_type": "code",
   "execution_count": 198,
   "metadata": {
    "ExecuteTime": {
     "end_time": "2018-05-21T17:37:00.522802Z",
     "start_time": "2018-05-21T17:37:00.331516Z"
    }
   },
   "outputs": [],
   "source": [
    "N = 60\n",
    "D = 2\n",
    "P = 10\n",
    "\n",
    "standard_normal = scipy.stats.norm(0, 1)\n",
    "\n",
    "# simulate random data\n",
    "v = np.asarray([0.5, 0.5])\n",
    "z = np.zeros((N, D)) \n",
    "\n",
    "z[0, :] = np.random.normal(0, 1, size=D)\n",
    "for n in range(1, N):\n",
    "    z[n, :] = z[n -1, :] + v + np.random.normal(0, 1, size=D)\n",
    "\n",
    "x = z + np.random.normal(0, 1, size=(N, D))\n",
    "\n",
    "# compute particle filter\n",
    "particle_z = np.zeros((N, P, D))\n",
    "particle_w = np.zeros((N, P))\n",
    "particle_c = np.zeros((N, P), dtype=np.int64)\n",
    "\n",
    "particle_z[0, ...] = standard_normal.rvs(size=(P, D))\n",
    "\n",
    "particle_w[0, :] = standard_normal.logpdf(x[0, None, :] - particle_z[0, ...]).sum(axis=1)\n",
    "particle_w[0, :] = softmax(particle_w[0, :])\n",
    "\n",
    "for n in range(1, N):\n",
    "\n",
    "    particle_c[n, :] = np.random.choice(np.arange(P), size=P, p=particle_w[n - 1, :])\n",
    "    particle_z[n, ...] = particle_z[n - 1, particle_c[n, :]] + v + standard_normal.rvs(size=(P, D))\n",
    "    \n",
    "    particle_w[n, :] = standard_normal.logpdf(x[n, None, :] - particle_z[n, ...]).sum(axis=1)\n",
    "    particle_w[n, :] = softmax(particle_w[n, :])\n",
    "\n",
    "\n",
    "# determine the mean\n",
    "filtered_z = np.sum(particle_w[..., None] * particle_z, axis=1)"
   ]
  },
  {
   "cell_type": "code",
   "execution_count": 199,
   "metadata": {
    "ExecuteTime": {
     "end_time": "2018-05-21T17:37:01.242826Z",
     "start_time": "2018-05-21T17:37:00.690870Z"
    }
   },
   "outputs": [
    {
     "data": {
      "image/png": "[encoded data removed]",
      "text/plain": [
       "<matplotlib.figure.Figure at 0x114722160>"
      ]
     },
     "metadata": {},
     "output_type": "display_data"
    }
   ],
   "source": [
    "_, (ax1, ax2) = plt.subplots(1, 2, figsize=(12, 4))\n",
    "\n",
    "plt.subplot(ax1)\n",
    "plt.plot(z[:, 0], z[:, 1], '.-', label='Latent')\n",
    "plt.plot(x[:, 0], x[:, 1], '.-', label='Observed')\n",
    "mpl_set(xlabel='x', ylabel='y', legend=True)\n",
    "\n",
    "plt.subplot(ax2)\n",
    "plt.plot(z[:, 0], z[:, 1], '.-', label='truth')\n",
    "plt.plot(filtered_z[:, 0], filtered_z[:, 1], '.-', label='filtered')\n",
    "mpl_set(xlabel='x', ylabel='y', legend=True)"
   ]
  },
  {
   "cell_type": "code",
   "execution_count": null,
   "metadata": {},
   "outputs": [],
   "source": []
  }
 ],
 "metadata": {
  "hide_input": false,
  "kernelspec": {
   "display_name": "Python 3",
   "language": "python",
   "name": "python3"
  },
  "language_info": {
   "codemirror_mode": {
    "name": "ipython",
    "version": 3
   },
   "file_extension": ".py",
   "mimetype": "text/x-python",
   "name": "python",
   "nbconvert_exporter": "python",
   "pygments_lexer": "ipython3",
   "version": "3.6.4"
  },
  "toc": {
   "nav_menu": {},
   "number_sections": true,
   "sideBar": true,
   "skip_h1_title": false,
   "toc_cell": false,
   "toc_position": {},
   "toc_section_display": "block",
   "toc_window_display": false
  }
 },
 "nbformat": 4,
 "nbformat_minor": 2
}
