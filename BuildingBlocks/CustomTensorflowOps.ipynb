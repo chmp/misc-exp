{
 "cells": [
  {
   "cell_type": "code",
   "execution_count": 19,
   "metadata": {
    "ExecuteTime": {
     "end_time": "2018-03-11T09:15:19.648039Z",
     "start_time": "2018-03-11T09:15:19.583814Z"
    }
   },
   "outputs": [],
   "source": [
    "%matplotlib inline\n",
    "\n",
    "import contextlib\n",
    "import time\n",
    "\n",
    "import ipytest\n",
    "import matplotlib.pyplot as plt\n",
    "import numpy as np\n",
    "import pandas as pd\n",
    "import tensorflow as tf\n",
    "\n",
    "from tensorflow.python.framework import function"
   ]
  },
  {
   "cell_type": "code",
   "execution_count": 5,
   "metadata": {
    "ExecuteTime": {
     "end_time": "2018-03-11T09:13:01.261362Z",
     "start_time": "2018-03-11T09:13:01.251776Z"
    }
   },
   "outputs": [],
   "source": [
    "def defun(func, grad_func=None, *, types):\n",
    "    return function.Defun(*types, python_grad_func=grad_func)(func)"
   ]
  },
  {
   "cell_type": "code",
   "execution_count": 6,
   "metadata": {
    "ExecuteTime": {
     "end_time": "2018-03-11T09:13:02.719192Z",
     "start_time": "2018-03-11T09:13:02.562898Z"
    }
   },
   "outputs": [],
   "source": [
    "def my_op(a, b):\n",
    "    return a * b\n",
    "\n",
    "\n",
    "def my_op_grad(op, grad):\n",
    "    return op.inputs[1] * grad, op.inputs[0] * grad\n",
    "\n",
    "\n",
    "my_op = defun(my_op, my_op_grad, types=(tf.float32, tf.float32))\n",
    "\n",
    "\n",
    "def my_py_op(a, b):\n",
    "    return tf.py_func(my_py_op_, [a, b], tf.float32, stateful=False)\n",
    "\n",
    "\n",
    "def my_py_op_(a, b):\n",
    "    # force numpy\n",
    "    return np.multiply(a, b)\n",
    "\n",
    "\n",
    "def my_py_op_grad(op, grad):\n",
    "    return tf.py_func(\n",
    "        my_py_op_grad_, \n",
    "        [grad, op.inputs[0], op.inputs[1]], \n",
    "        \n",
    "        # NOTE: the multiple output arguments\n",
    "        (tf.float32, tf.float32), \n",
    "        stateful=False,\n",
    "    )\n",
    "\n",
    "\n",
    "def my_py_op_grad_(grad, a, b):\n",
    "    return [np.multiply(grad, b), np.multiply(grad, a)]\n",
    "\n",
    "\n",
    "my_py_op = defun(my_py_op, my_py_op_grad, types=(tf.float32, tf.float32))"
   ]
  },
  {
   "cell_type": "code",
   "execution_count": 7,
   "metadata": {
    "ExecuteTime": {
     "end_time": "2018-03-11T09:13:06.116035Z",
     "start_time": "2018-03-11T09:13:04.071287Z"
    }
   },
   "outputs": [
    {
     "name": "stderr",
     "output_type": "stream",
     "text": [
      "unittest.case.FunctionTestCase (test_my_op) ... ok\n",
      "unittest.case.FunctionTestCase (test_my_py_op) ... ok\n",
      "\n",
      "----------------------------------------------------------------------\n",
      "Ran 2 tests in 0.484s\n",
      "\n",
      "OK\n"
     ]
    }
   ],
   "source": [
    "def _test_custom_ops(my_op):\n",
    "    g = tf.Graph()\n",
    "    \n",
    "    with g.as_default():\n",
    "        a_ = tf.Variable(tf.constant([-5., 4., -3., 2., 1.], dtype=tf.float32))\n",
    "        b_ = tf.Variable(tf.constant([1., 2., 3., 4., 5.], dtype=tf.float32))\n",
    "        \n",
    "        # workaround for bug github.com/tensorflow/tensorflow/issues/3710\n",
    "        a_ = tf.identity(a_)\n",
    "        b_ = tf.identity(b_)\n",
    "        \n",
    "        c_actual_ = my_op(a_, b_)\n",
    "        c_actual_ = c_actual_ ** 2.0\n",
    "        a_grad_actual_, b_grad_actual_ = tf.gradients(c_actual_, [a_, b_])\n",
    "        \n",
    "        c_expected_ = a_ * b_\n",
    "        c_expected_ = c_expected_ ** 2.0\n",
    "        a_grad_expected_, b_grad_expected_ = tf.gradients(c_expected_, [a_, b_])\n",
    "        \n",
    "        # NOTE: the ops need to be created in the graph\n",
    "        init_op_ = tf.global_variables_initializer()\n",
    "            \n",
    "    with tf.Session(graph=g) as sess:\n",
    "        sess.run(init_op_)\n",
    "        c_actual, a_grad_actual, b_grad_actual = sess.run([\n",
    "            c_actual_, a_grad_actual_, b_grad_actual_\n",
    "        ])\n",
    "        c_expected, a_grad_expected, b_grad_expected = sess.run([\n",
    "            c_expected_, a_grad_expected_, b_grad_expected_\n",
    "        ])\n",
    "\n",
    "    np.testing.assert_almost_equal(c_actual, c_expected)\n",
    "    np.testing.assert_almost_equal(a_grad_actual, a_grad_expected)\n",
    "    np.testing.assert_almost_equal(b_grad_actual, b_grad_expected)\n",
    "    \n",
    "    \n",
    "def test_my_op():\n",
    "    _test_custom_ops(my_op)\n",
    "    \n",
    "    \n",
    "def test_my_py_op():\n",
    "    _test_custom_ops(my_py_op)\n",
    "    \n",
    "    \n",
    "ipytest.run_tests()"
   ]
  },
  {
   "cell_type": "code",
   "execution_count": 8,
   "metadata": {
    "ExecuteTime": {
     "end_time": "2018-03-11T09:13:08.064574Z",
     "start_time": "2018-03-11T09:13:07.614391Z"
    }
   },
   "outputs": [],
   "source": [
    "def time_ops(size=10):\n",
    "    g = tf.Graph()\n",
    "    \n",
    "    with g.as_default():\n",
    "        a_ = tf.Variable(tf.constant(size * [-5., 4., -3., 2., 1.], dtype=tf.float32))\n",
    "        b_ = tf.Variable(tf.constant(size * [1., 2., 3., 4., 5.], dtype=tf.float32))\n",
    "        \n",
    "        # workaround for bug github.com/tensorflow/tensorflow/issues/3710\n",
    "        a_ = tf.identity(a_)\n",
    "        b_ = tf.identity(b_)\n",
    "        \n",
    "        c_tf_ = my_op(a_, b_)\n",
    "        a_grad_tf_, b_grad_tf_ = tf.gradients(c_tf_, [a_, b_])\n",
    "        \n",
    "        c_py_ = my_py_op(a_, b_)\n",
    "        a_grad_py_, b_grad_py_ = tf.gradients(c_py_, [a_, b_])\n",
    "        \n",
    "        # NOTE: the ops need to be created in the graph\n",
    "        init_op_ = tf.global_variables_initializer()\n",
    "    \n",
    "    result = {'iterations': 500, 'size': size}\n",
    "    with tf.Session(graph=g) as sess:\n",
    "        sess.run(init_op_)\n",
    "        \n",
    "        with time_context(result, 'c_tf'):\n",
    "            for _ in range(result['iterations']):\n",
    "                sess.run(c_tf_)\n",
    "        \n",
    "        with time_context(result, 'c_py'):\n",
    "            for _ in range(result['iterations']):\n",
    "                sess.run(c_py_)\n",
    "                \n",
    "        with time_context(result, 'grad_tf'):\n",
    "            for _ in range(result['iterations']):\n",
    "                sess.run([a_grad_tf_, b_grad_tf_])\n",
    "        \n",
    "        with time_context(result, 'grad_py'):\n",
    "            for _ in range(result['iterations']):\n",
    "                sess.run([a_grad_py_, b_grad_py_])\n",
    "    \n",
    "    return result\n",
    "    \n",
    "    \n",
    "@contextlib.contextmanager\n",
    "def time_context(target, key):\n",
    "    start = time.clock_gettime(time.CLOCK_REALTIME)\n",
    "    yield\n",
    "    end = time.clock_gettime(time.CLOCK_REALTIME)\n",
    "    \n",
    "    target[key] = end - start"
   ]
  },
  {
   "cell_type": "code",
   "execution_count": 9,
   "metadata": {
    "ExecuteTime": {
     "end_time": "2018-03-11T09:13:17.938699Z",
     "start_time": "2018-03-11T09:13:08.601327Z"
    }
   },
   "outputs": [],
   "source": [
    "times_ = [\n",
    "    time_ops(size=1),\n",
    "    time_ops(size=10),\n",
    "    time_ops(size=100),\n",
    "    time_ops(size=1_000),\n",
    "    time_ops(size=10_000),\n",
    "]"
   ]
  },
  {
   "cell_type": "code",
   "execution_count": 14,
   "metadata": {
    "ExecuteTime": {
     "end_time": "2018-03-11T09:14:24.740374Z",
     "start_time": "2018-03-11T09:14:24.715455Z"
    }
   },
   "outputs": [],
   "source": [
    "times = pd.DataFrame(times_).set_index('size')\n",
    "times = times.assign(\n",
    "    c_rel=lambda df: df['c_py'] / df['c_tf'] - 1, \n",
    "    grad_rel=lambda df: df['grad_py'] / df['grad_tf'] - 1,\n",
    ")"
   ]
  },
  {
   "cell_type": "code",
   "execution_count": 21,
   "metadata": {
    "ExecuteTime": {
     "end_time": "2018-03-11T09:17:18.442104Z",
     "start_time": "2018-03-11T09:17:16.325621Z"
    },
    "scrolled": true
   },
   "outputs": [
    {
     "data": {
      "text/plain": [
       "<matplotlib.axes._subplots.AxesSubplot at 0x119443470>"
      ]
     },
     "execution_count": 21,
     "metadata": {},
     "output_type": "execute_result"
    },
    {
     "data": {
      "image/png": "[encoded data removed]",
      "text/plain": [
       "<matplotlib.figure.Figure at 0x119938ac8>"
      ]
     },
     "metadata": {},
     "output_type": "display_data"
    }
   ],
   "source": [
    "_, (ax1, ax2) = plt.subplots(1, 2, figsize=(8, 4))\n",
    "\n",
    "times[['c_tf', 'c_py', 'grad_py', 'grad_tf']].plot.bar(ax=ax1)\n",
    "times[['c_rel', 'grad_rel']].plot.bar(ax=ax2)\n",
    "\n",
    "# TODO: run timing when computer is not under load\n",
    "# TODO: find another function to implement with more work"
   ]
  },
  {
   "cell_type": "code",
   "execution_count": null,
   "metadata": {},
   "outputs": [],
   "source": []
  }
 ],
 "metadata": {
  "hide_input": false,
  "kernelspec": {
   "display_name": "py3",
   "language": "python",
   "name": "py3"
  },
  "language_info": {
   "codemirror_mode": {
    "name": "ipython",
    "version": 3
   },
   "file_extension": ".py",
   "mimetype": "text/x-python",
   "name": "python",
   "nbconvert_exporter": "python",
   "pygments_lexer": "ipython3",
   "version": "3.6.3"
  },
  "toc": {
   "nav_menu": {},
   "number_sections": true,
   "sideBar": true,
   "skip_h1_title": false,
   "toc_cell": false,
   "toc_position": {},
   "toc_section_display": "block",
   "toc_window_display": false
  }
 },
 "nbformat": 4,
 "nbformat_minor": 2
}
