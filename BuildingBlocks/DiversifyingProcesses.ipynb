{
 "cells": [
  {
   "cell_type": "markdown",
   "metadata": {},
   "source": [
    "# Diversity inducing distributions\n",
    "\n",
    "To approaches to select $k$ diverse elements from a larger set, we look into two approaches:\n",
    "\n",
    "- [MRFs](#Repulsive-Markov-Random-Fields)\n",
    "- [DPPs](#Determinantal-Point-Processes)\n"
   ]
  },
  {
   "cell_type": "code",
   "execution_count": null,
   "metadata": {
    "collapsed": true
   },
   "outputs": [],
   "source": [
    "# from chmp.ipynb import notebook_preamble; notebook_preamble()\n",
    "%matplotlib inline\n",
    "# disable rescaling the figure, to gain tighter control over the result\n",
    "%config InlineBackend.print_figure_kwargs = {'bbox_inches':None}"
   ]
  },
  {
   "cell_type": "code",
   "execution_count": null,
   "metadata": {
    "collapsed": true
   },
   "outputs": [],
   "source": [
    "import collections\n",
    "import itertools as it\n",
    "import math\n",
    "import random\n",
    "\n",
    "import matplotlib.pyplot as plt\n",
    "import numba\n",
    "import numpy as np\n",
    "import pandas as pd\n",
    "\n",
    "from chmp.ds import mpl_set"
   ]
  },
  {
   "cell_type": "code",
   "execution_count": null,
   "metadata": {
    "collapsed": true
   },
   "outputs": [],
   "source": [
    "def random_nonzero_choice(a, n_nonzero=-1):\n",
    "    if n_nonzero <= 0:\n",
    "        n_nonzero = np.sum(a)\n",
    "    \n",
    "    return _random_nonzero_choice(np.asarray(a, bool), np.int64(n_nonzero))\n",
    "    \n",
    "    \n",
    "@numba.jit('int64(boolean[:], int64)', nopython=True, nogil=True)\n",
    "def _random_nonzero_choice(a, n_nonzero):\n",
    "    j = random.randrange(0, n_nonzero)\n",
    "    i_max = -1\n",
    "    \n",
    "    for i, v in enumerate(a):\n",
    "        if v:\n",
    "            j -= 1\n",
    "            i_max = i\n",
    "        \n",
    "        if j < 0:\n",
    "            return i\n",
    "    \n",
    "    return i_max\n",
    "\n",
    "\n",
    "def random_weighted_zero_choice(a, p):\n",
    "    return _random_weighted_zero_choice(np.asarray(a, np.bool), np.asarray(p, np.float64))\n",
    "\n",
    "\n",
    "@numba.jit('int64(boolean[:], float64[:])', nopython=True, nogil=True)\n",
    "def _random_weighted_zero_choice(a, p):\n",
    "    threshold = 0.0\n",
    "    for q in p:\n",
    "        threshold += q\n",
    "    \n",
    "    threshold = threshold * random.random()\n",
    "    \n",
    "    pi = 0\n",
    "    \n",
    "    i_max = -1\n",
    "    \n",
    "    for i, v in enumerate(a):\n",
    "        if v:\n",
    "            continue\n",
    "        \n",
    "        i_max = i\n",
    "        threshold -= p[pi]\n",
    "        pi += 1\n",
    "        \n",
    "        if threshold <= 0:\n",
    "            return i\n",
    "    \n",
    "    return i_max\n",
    "\n",
    "\n",
    "def det_change(D, B, L_sub_inv, p_out=None):\n",
    "    if p_out is None:\n",
    "        p_out = np.zeros_like(D, dtype=np.float64)\n",
    "        \n",
    "    else:\n",
    "        p_out = np.asarray(p_out, np.float64)\n",
    "    \n",
    "    _det_change(\n",
    "        np.asarray(D, np.float64), \n",
    "        np.asarray(B, np.float64), \n",
    "        np.asarray(L_sub_inv, np.float64), \n",
    "        p_out,\n",
    "    )\n",
    "    \n",
    "    return p_out\n",
    "\n",
    "\n",
    "@numba.jit('void(float64[:], float64[:, :], float64[:, :], float64[:])', nogil=True, nopython=True)\n",
    "def _det_change(D, B, L_sub_inv, p_out):\n",
    "    # p = D - np.diag(B.T @ L_sub_inv @ B)\n",
    "    for k in range(len(p_out)):\n",
    "        tmp = 0.0\n",
    "        \n",
    "        for i in range(L_sub_inv.shape[0]):\n",
    "            for j in range(L_sub_inv.shape[1]):\n",
    "                tmp += L_sub_inv[i, j] * B[i, k] * B[j, k]\n",
    "        \n",
    "        p_out[k] = D[k] - tmp"
   ]
  },
  {
   "cell_type": "code",
   "execution_count": null,
   "metadata": {
    "collapsed": true
   },
   "outputs": [],
   "source": [
    "param_n = 6\n",
    "param_k = 3\n",
    "phi = np.linspace(0, 2 * np.pi, param_n + 1)[:param_n]\n",
    "\n",
    "states = [\n",
    "    [int(i in active) for i in range(param_n)] \n",
    "    for active in it.combinations(range(param_n), param_k)\n",
    "]\n",
    "\n",
    "euclidean_distance = 2 * (1 - np.cos(phi[:, None] - phi[None, :]))"
   ]
  },
  {
   "cell_type": "code",
   "execution_count": null,
   "metadata": {},
   "outputs": [
    {
     "data": {
      "text/plain": [
       "[[1, 1, 1, 0, 0, 0],\n",
       " [1, 1, 0, 1, 0, 0],\n",
       " [1, 1, 0, 0, 1, 0],\n",
       " [1, 1, 0, 0, 0, 1],\n",
       " [1, 0, 1, 1, 0, 0],\n",
       " [1, 0, 1, 0, 1, 0],\n",
       " [1, 0, 1, 0, 0, 1],\n",
       " [1, 0, 0, 1, 1, 0],\n",
       " [1, 0, 0, 1, 0, 1],\n",
       " [1, 0, 0, 0, 1, 1]]"
      ]
     },
     "execution_count": 335,
     "metadata": {},
     "output_type": "execute_result"
    }
   ],
   "source": [
    "states[:10]"
   ]
  },
  {
   "cell_type": "code",
   "execution_count": null,
   "metadata": {},
   "outputs": [
    {
     "data": {
      "text/plain": [
       "array([[ 0.,  1.,  3.,  4.,  3.,  1.],\n",
       "       [ 1.,  0.,  1.,  3.,  4.,  3.],\n",
       "       [ 3.,  1.,  0.,  1.,  3.,  4.],\n",
       "       [ 4.,  3.,  1.,  0.,  1.,  3.],\n",
       "       [ 3.,  4.,  3.,  1.,  0.,  1.],\n",
       "       [ 1.,  3.,  4.,  3.,  1.,  0.]])"
      ]
     },
     "execution_count": 336,
     "metadata": {},
     "output_type": "execute_result"
    }
   ],
   "source": [
    "euclidean_distance"
   ]
  },
  {
   "cell_type": "markdown",
   "metadata": {},
   "source": [
    "## Repulsive Markov Random Fields"
   ]
  },
  {
   "cell_type": "markdown",
   "metadata": {},
   "source": [
    "The inclusion of item $i$ is encoded by the binary indicator variable $s_i \\in \\{0, 1\\}$. We assume the distribution of the $s_i$ varibales is given by\n",
    "\n",
    "$$\n",
    "\\begin{align}\n",
    "    p(\\{s_i\\}) \n",
    "    &= \\frac{1}{Z} \\exp\\left[ - E(\\{s_i\\}) \\right]\n",
    "\\\\\n",
    "    &= \\frac{1}{Z} \\exp\\left[ - \\sum_{ij} s_i w_{ij} s_j \\right],\n",
    "\\end{align}\n",
    "$$\n",
    "\n",
    "with an interaction energy $w_{ij}$. Higher values of $w_{ij}$ lead to repulsion between items $i$ and $j$. The diagonal $w_{ii}$ encodes the prevalance of each item without interactions, since the variables are assumed to be binary.\n",
    "\n",
    "Use Gibbs sampling to draw samples from this distribution. Change in energy, when adding item $k$, is given by\n",
    "\n",
    "$$\n",
    "\\begin{align}\n",
    "    E_{+k} \n",
    "        &= w_{kk} + \\sum_{i  \\in \\mathrm{active}} (w_{ik} + w_{ki})\n",
    "\\\\\n",
    "        &= w_{kk} + 2 \\sum_{i \\in \\mathrm{active}} w_{ik}\n",
    "\\end{align}\n",
    "$$"
   ]
  },
  {
   "cell_type": "code",
   "execution_count": null,
   "metadata": {
    "collapsed": true
   },
   "outputs": [],
   "source": [
    "pairwise_interaction = -euclidean_distance"
   ]
  },
  {
   "cell_type": "code",
   "execution_count": null,
   "metadata": {},
   "outputs": [],
   "source": [
    "mrf_expected_energy = np.asarray([s @ pairwise_interaction @ s for s in states])\n",
    "mrf_expected_energy = mrf_expected_energy - np.min(mrf_expected_energy)"
   ]
  },
  {
   "cell_type": "code",
   "execution_count": null,
   "metadata": {
    "collapsed": true
   },
   "outputs": [],
   "source": [
    "mrf_expected_p = np.exp(-mrf_expected_energy)\n",
    "mrf_expected_p = mrf_expected_p / np.sum(mrf_expected_p)\n",
    "mrf_expected_p = {tuple(s): p for s, p in zip(states, mrf_expected_p)}"
   ]
  },
  {
   "cell_type": "code",
   "execution_count": null,
   "metadata": {
    "scrolled": true
   },
   "outputs": [],
   "source": [
    "stats = collections.Counter()\n",
    "active = np.asarray(states[0], dtype=bool)\n",
    "\n",
    "idx = np.arange(len(active))\n",
    "for iteration in range(10000):\n",
    "    # remove one active state\n",
    "    i = random_nonzero_choice(active)\n",
    "    active[i] = False\n",
    "    inactive = ~active\n",
    "    \n",
    "    delta_e = (\n",
    "        # \\Delta E_k = w_{kk}\n",
    "        pairwise_interaction[inactive, inactive] +\n",
    "        \n",
    "        # \\Delta E_k = 2 \\sum_{j \\in \\mathrm{active}} w_{ik}\n",
    "        2 * pairwise_interaction[inactive, :] @ active\n",
    "    )\n",
    "    delta_e = delta_e - np.min(delta_e)\n",
    "    \n",
    "    p = np.exp(-delta_e)\n",
    "    p = p / np.sum(p)\n",
    "    \n",
    "    j = random_weighted_zero_choice(active, p)\n",
    "    active[j] = True\n",
    "    \n",
    "    if iteration > 100:\n",
    "        stats[tuple(int(i) for i in active)] += 1"
   ]
  },
  {
   "cell_type": "code",
   "execution_count": null,
   "metadata": {},
   "outputs": [],
   "source": [
    "mrf_actual_Z = sum(stats.values())\n",
    "mrf_actual_p = {k: p / mrf_actual_Z for k, p in stats.items()}"
   ]
  },
  {
   "cell_type": "code",
   "execution_count": null,
   "metadata": {
    "collapsed": true
   },
   "outputs": [],
   "source": [
    "def plot_actual_and_expected(actual_p, expected_p, title=None):\n",
    "    df = pd.DataFrame({\n",
    "        'actual': pd.Series(actual_p), \n",
    "        'expected': pd.Series(expected_p),\n",
    "    })\n",
    "    df['cluster_id'] = (100_000 * df['expected']).astype(int)\n",
    "    df = df.sort_values('expected')\n",
    "    df['pos'] = np.arange(len(df))\n",
    "\n",
    "    plt.figure(figsize=(8, 4))\n",
    "    df[['actual', 'expected']].plot.bar(rot=60, ax=plt.gca())\n",
    "    mpl_set(\n",
    "        bottom=0.275, left=0.1, right=0.9,\n",
    "        xticks=[], xlim=(-0.5, len(df) - 0.5),\n",
    "        title=title,\n",
    "    )\n",
    "\n",
    "    for _, pos, state in df_illustration.itertuples():\n",
    "        plt.axes([0.1 + (pos + 0.5) / len(df)  * (0.9 - 0.1) - 0.05, 0.05, 0.1, 0.2])\n",
    "        state = np.asarray(state, dtype=bool)\n",
    "        plt.plot(np.cos(phi[~state]), np.sin(phi[~state]), '.b')\n",
    "        plt.plot(np.cos(phi[state]), np.sin(phi[state]), '.r')\n",
    "        mpl_set(xticks=[], yticks=[], ylim=(-1.1, 1.1), xlim=(-1.1, 1.1))\n",
    "        plt.box(False)"
   ]
  },
  {
   "cell_type": "code",
   "execution_count": null,
   "metadata": {},
   "outputs": [
    {
     "data": {
      "image/png": "[encoded data removed]",
      "text/plain": [
       "<matplotlib.figure.Figure at 0x11bc92ef0>"
      ]
     },
     "metadata": {},
     "output_type": "display_data"
    }
   ],
   "source": [
    "plot_actual_and_expected(mrf_actual_p, mrf_expected_p, title='MRF: actual vs. expected')"
   ]
  },
  {
   "cell_type": "markdown",
   "metadata": {},
   "source": [
    "## Determinantal Point Processes\n",
    "\n",
    "The probability of chosing set $Y$ is given by\n",
    "\n",
    "$$\n",
    "    P(Y) = \\det(L_Y),\n",
    "$$\n",
    "\n",
    "where the kernel matrix $L_{Y,ij}$ is specified in terms of the kernel $L(x_i, x_j) = q(x_i) k(x_i, x_j) q(x_j)$. When $q$ is chosen as $q(x) = \\sqrt{p(x)}$, the determinant can be interpreted as\n",
    "\n",
    "$$\n",
    "\\begin{align}\n",
    "    P(Y) \\propto \\det(L_Y) = \\det(K_Y) \\prod_{i \\in Y} p(x_i)\n",
    "\\end{align}\n",
    "$$\n",
    "\n",
    "The interactions between items, is encoded by the kernel $k$. For $P$ to be a valid probability distribution, $k$ must be [positive-definite kernel](https://en.wikipedia.org/wiki/Positive-definite_kernel). Examples, according to wikipedia, are:\n",
    "\n",
    "- linear kernel: $k(x, y) = x \\cdot y$\n",
    "- polynomial kernel $k(x, y) = (x \\cdot y + r)^n$\n",
    "- gaussian kernel: $k(x, y) = \\exp [-(x - y)^2 / 2 \\sigma^2 ]$\n",
    "- laplacian kernel: $k(x, y) = \\exp [-\\alpha (x - y) ]$\n",
    "\n",
    "Here, we are looking at $k-DPPs$ with a fixed number of items. To draw samples, we use Gibbs sampling. With active \n",
    "elements $Y$, the probability to add candidate element $i$ to the set of active elements is determined by\n",
    "\n",
    "$$\n",
    "\\begin{align}\n",
    "    P(Y \\cup \\{ i \\}) &= \\det(L_Y) \\det(L_{ii} - L_{iY} L_Y^{-1} L_{Yi}),\n",
    "\\end{align}\n",
    "$$\n",
    "\n",
    "with $L_{ii} = e_i^T L\\,e_i$, $L_{iY} = e_i\\,L\\,P_Y$, $L_{iY}^T = L_{Yi}$, and $L_Y = P_Y\\,L\\,P_Y$. Here we used the unit vectors $e_i$ and the projectors $P_Y$ onto the $Y$-subspace."
   ]
  },
  {
   "cell_type": "code",
   "execution_count": null,
   "metadata": {
    "collapsed": true
   },
   "outputs": [],
   "source": [
    "# gaussian kernel\n",
    "L = np.exp(-euclidean_distance / 10)\n",
    "\n",
    "# laplace kernel\n",
    "#L = np.exp(-np.sqrt(euclidean_distance) / 1e3)\n",
    "\n",
    "dpp_expected_p = {\n",
    "    tuple(s): np.linalg.det(L[s, :][:, s]) \n",
    "    for s in states\n",
    "    for s in [np.asarray(s, bool)]\n",
    "}\n",
    "dpp_expected_z = sum(dpp_expected_p.values())\n",
    "dpp_expected_p = {k: p / dpp_expected_z for k, p in dpp_expected_p.items()}"
   ]
  },
  {
   "cell_type": "code",
   "execution_count": null,
   "metadata": {},
   "outputs": [],
   "source": [
    "stats = collections.Counter()\n",
    "\n",
    "state = np.asarray(states[0], dtype=np.bool)\n",
    "inv_state = ~state\n",
    "\n",
    "for iteration in range(10000):\n",
    "    # remove point\n",
    "    i = random_nonzero_choice(state)\n",
    "    state[i] = False\n",
    "    inv_state[i] = True\n",
    "    \n",
    "    # decompose the matrix\n",
    "    L_sub = L[state, :][:, state]\n",
    "    B = L[state, :][:, inv_state]\n",
    "    D = L[inv_state, inv_state]\n",
    "    \n",
    "    # invert the sub matrix\n",
    "    L_sub_inv = np.linalg.inv(L_sub)\n",
    "    \n",
    "    # calculate the determinant changes\n",
    "    p = det_change(D, B, L_sub_inv)\n",
    "    \n",
    "    j = random_weighted_zero_choice(state, p=p)\n",
    "    state[j] = True\n",
    "    inv_state[j] = False\n",
    "    \n",
    "    if iteration > 100:\n",
    "        stats[tuple(state.astype(int))] += 1"
   ]
  },
  {
   "cell_type": "code",
   "execution_count": null,
   "metadata": {
    "collapsed": true
   },
   "outputs": [],
   "source": [
    "dpp_actual_Z = sum(stats.values())\n",
    "dpp_actual_p = {k: p / dpp_actual_Z for k, p in stats.items()}"
   ]
  },
  {
   "cell_type": "code",
   "execution_count": null,
   "metadata": {},
   "outputs": [
    {
     "data": {
      "image/png": "[encoded data removed]",
      "text/plain": [
       "<matplotlib.figure.Figure at 0x11b60de48>"
      ]
     },
     "metadata": {},
     "output_type": "display_data"
    }
   ],
   "source": [
    "plot_actual_and_expected(dpp_actual_p, dpp_expected_p, title='DPP: actual vs. expected')"
   ]
  },
  {
   "cell_type": "code",
   "execution_count": null,
   "metadata": {
    "collapsed": true
   },
   "outputs": [],
   "source": []
  }
 ],
 "metadata": {
  "kernelspec": {
   "display_name": "py3-data-science",
   "language": "python",
   "name": "py3-data-science"
  },
  "language_info": {
   "codemirror_mode": {
    "name": "ipython",
    "version": 3
   },
   "file_extension": ".py",
   "mimetype": "text/x-python",
   "name": "python",
   "nbconvert_exporter": "python",
   "pygments_lexer": "ipython3",
   "version": "3.6.1"
  }
 },
 "nbformat": 4,
 "nbformat_minor": 2
}
