{
 "cells": [
  {
   "cell_type": "code",
   "execution_count": 1,
   "metadata": {
    "ExecuteTime": {
     "end_time": "2018-02-13T14:45:23.948644Z",
     "start_time": "2018-02-13T14:45:22.374782Z"
    }
   },
   "outputs": [],
   "source": [
    "%matplotlib inline\n",
    "\n",
    "import numpy as np\n",
    "import matplotlib.pyplot as plt\n",
    "import pandas as pd\n",
    "import scipy.special\n",
    "import scipy.ndimage\n",
    "import scipy.optimize\n",
    "import sklearn.datasets\n",
    "\n",
    "from chmp.ds import mpl_set, get_color_cycle\n",
    "from chmp.experiment import Loop"
   ]
  },
  {
   "cell_type": "code",
   "execution_count": 2,
   "metadata": {
    "ExecuteTime": {
     "end_time": "2018-02-13T14:45:23.969900Z",
     "start_time": "2018-02-13T14:45:23.953170Z"
    }
   },
   "outputs": [],
   "source": [
    "# helper for gradient checking\n",
    "def approximate_gradient(x, func, eps=1e-5):\n",
    "    res = np.zeros(x.size)\n",
    "    \n",
    "    for i in range(x.size):\n",
    "        d = np.zeros(x.size)\n",
    "        d[i] = eps\n",
    "        \n",
    "        res[i] = (func(x + d) - func(x - d)) / (2 * eps)\n",
    "    \n",
    "    return res"
   ]
  },
  {
   "cell_type": "markdown",
   "metadata": {},
   "source": [
    "# Linear models for regression"
   ]
  },
  {
   "cell_type": "markdown",
   "metadata": {
    "ExecuteTime": {
     "end_time": "2018-02-05T19:21:36.810945Z",
     "start_time": "2018-02-05T19:21:36.807289Z"
    }
   },
   "source": [
    "## Linear Basis Function Models"
   ]
  },
  {
   "cell_type": "markdown",
   "metadata": {},
   "source": [
    "### The Bias Variance Decomposition"
   ]
  },
  {
   "cell_type": "markdown",
   "metadata": {},
   "source": [
    "## Bayesian linear regression\n",
    "\n",
    "Prior for $L_q$ regularization in 1 dimension (p. 156):\n",
    "\n",
    "$$\n",
    "    p(w|\\alpha) = \n",
    "        \\frac{q}{2} \\left( \\frac{\\alpha}{2} \\right)^{1/q} \\frac{1}{\\Gamma(1/q)}\n",
    "        \\exp \\left( -\\frac{\\alpha}{2} |w|^q \\right)\n",
    "$$\n"
   ]
  },
  {
   "cell_type": "markdown",
   "metadata": {},
   "source": [
    "### Gaussian likelihood + known variance\n",
    "\n",
    "$$\n",
    "\\begin{align}\n",
    "    &\\text{likelihood} &\\;\n",
    "    &p(t|\\phi, w, \\beta) = \\mathcal{N}(t|w^T \\phi, \\beta^{-1})\n",
    "\\\\\n",
    "    &\\text{prior} &\\;\n",
    "    &p(w|m_0, \\alpha) = \\mathcal{N}(w|m_0, \\alpha^{-1})\n",
    "\\\\\n",
    "    &\\text{posterior} &\\;\n",
    "    &p(w|\\{t, \\phi\\}) = \\mathcal{N}(w|m_N, S_N)\n",
    "\\\\\n",
    "    &\\; &\\;\n",
    "    &m_N = S_N \\left( \\alpha m_0 + \\beta \\Phi^t T \\right)\n",
    "\\\\\n",
    "    &\\; &\\;\n",
    "    &S_N^{-1} = \\alpha + \\beta \\Phi^T \\Phi\n",
    "\\\\\n",
    "    &\\text{predictive} &\\;\n",
    "    &p(t|\\phi, \\{y, \\phi\\}) = \\mathcal{N}(t|m_N^T \\phi, \\sigma_N^2)\n",
    "\\\\\n",
    "    &\\; &\\;\n",
    "    &\\sigma_N^2 = \\beta^{-1} + \\phi^T S_N \\phi\n",
    "\\end{align}\n",
    "$$\n",
    "\n",
    "Note, these equations are also valid if $\\alpha$ is a matrix.\n",
    "\n",
    "Note, notation is unified with Sec. 3.5 ($S_0^{-1} \\rightarrow \\alpha$)."
   ]
  },
  {
   "cell_type": "code",
   "execution_count": 3,
   "metadata": {
    "ExecuteTime": {
     "end_time": "2018-02-13T14:45:25.732808Z",
     "start_time": "2018-02-13T14:45:25.545075Z"
    }
   },
   "outputs": [],
   "source": [
    "# TODO: check for inverse of alpha? does the definition match up?\n",
    "def update_posterior(params, observed, beta):\n",
    "    m, s = params\n",
    "    x, y = observed\n",
    "    \n",
    "    s_new = np.linalg.inv(np.linalg.inv(s) + beta * x @ x.T)\n",
    "    m_new = s_new @ (np.linalg.inv(s) @ m + beta * x @ y)\n",
    "    \n",
    "    return m_new, s_new\n",
    "\n",
    "\n",
    "def eval_predictive(x, params, beta):\n",
    "    m, s = params\n",
    "    return (\n",
    "        m.T @ x, \n",
    "        # TODO: optimize the diag part\n",
    "        1.0 / beta + np.diag(x.T @ s_N @ x)\n",
    "    )\n",
    "\n",
    "\n",
    "def empirical_bayes(observed, alpha, beta):\n",
    "    x, y = observed\n",
    "    N, M = x.shape\n",
    "    lam = np.linalg.eigvals(x_eval @ x_eval.T) \n",
    "    \n",
    "    for _ in range(10):\n",
    "        m_0, s_0 = np.zeros(M), np.diag([1 / alpha] * M)\n",
    "        m_N, s_N = update_posterior(params_0, observed, beta)\n",
    "    \n",
    "        gamma = np.sum(lam / (lam + alpha))\n",
    "        alpha = gamma / (m_N.T @ m_N)\n",
    "        beta = np.sum((y - m_N.T @ x) ** 2.0) / (N - gamma)\n",
    "    \n",
    "    return (m_N, s_N), alpha, beta\n",
    "    \n",
    "    \n",
    "def plot_gaussian2d(m, s, extent, bins=(10, 10)):\n",
    "    # TODO: normalize s\n",
    "    x = np.linspace(extent[0][0], extent[0][1], bins[0])\n",
    "    y = np.linspace(extent[1][0], extent[1][1], bins[1])\n",
    "    x, y = np.meshgrid(x, y)\n",
    "    \n",
    "    m_x, m_y = m\n",
    "    (t_xx, t_xy), (t_yx, t_yy) = np.linalg.inv(s_N)\n",
    "    \n",
    "    norm = 1 / (2.0 * np.pi * np.linalg.det(s) ** 0.5)\n",
    "    \n",
    "    p = norm * np.exp(-0.5 * (\n",
    "        t_xx * (x - m_x) * (x - m_x) + \n",
    "        t_xy * (x - m_x) * (y - m_y) + \n",
    "        t_yx * (y - m_y) * (x - m_x) + \n",
    "        t_yy * (y - m_y) * (y - m_y)\n",
    "    ))\n",
    "    \n",
    "    plt.imshow(\n",
    "        p,\n",
    "        extent=[extent[0][0], extent[0][1], extent[1][0], extent[1][1]], \n",
    "        origin='lower',\n",
    "        aspect='auto',\n",
    "    )"
   ]
  },
  {
   "cell_type": "code",
   "execution_count": 4,
   "metadata": {
    "ExecuteTime": {
     "end_time": "2018-02-13T14:45:26.232152Z",
     "start_time": "2018-02-13T14:45:26.215728Z"
    }
   },
   "outputs": [],
   "source": [
    "# Example (see fig. 3.7)\n",
    "# beta = 25, alpha = 1 / 2.0\n",
    "\n",
    "w_true = np.asarray([-0.3, 0.5])\n",
    "\n",
    "np.random.seed(241)\n",
    "\n",
    "n_samples = 20\n",
    "x_obs = np.stack([np.ones(n_samples), np.random.uniform(low=-1, high=+1, size=n_samples)])\n",
    "y_obs = np.random.normal(w_true.T @ x_obs, scale=0.2)\n",
    "\n",
    "x_eval = np.stack([np.ones(100), np.linspace(-1, 1, 100)])"
   ]
  },
  {
   "cell_type": "code",
   "execution_count": 5,
   "metadata": {
    "ExecuteTime": {
     "end_time": "2018-02-13T14:45:26.653476Z",
     "start_time": "2018-02-13T14:45:26.637726Z"
    }
   },
   "outputs": [],
   "source": [
    "beta = 25\n",
    "alpha = 1 / 2.0\n",
    "params_0 = np.zeros(2), np.diag([1 / alpha, 1 / alpha])\n",
    "m_N, s_N = update_posterior(params_0, (x_obs, y_obs), beta)\n",
    "p_m, p_s = eval_predictive(x_eval, (m_N, s_N), beta)\n",
    "\n",
    "(m_emp, s_emp), alpha_emp, beta_emp = empirical_bayes((x_obs, y_obs), alpha, beta)"
   ]
  },
  {
   "cell_type": "code",
   "execution_count": 6,
   "metadata": {
    "ExecuteTime": {
     "end_time": "2018-02-13T14:45:28.244936Z",
     "start_time": "2018-02-13T14:45:27.088331Z"
    }
   },
   "outputs": [
    {
     "data": {
      "image/png": "[encoded data removed]",
      "text/plain": [
       "<matplotlib.figure.Figure at 0x10fdee630>"
      ]
     },
     "metadata": {},
     "output_type": "display_data"
    }
   ],
   "source": [
    "c0, c1, c2 = get_color_cycle(3)\n",
    "\n",
    "plt.figure(figsize=(16, 4))\n",
    "\n",
    "plt.subplot(1, 3, 1)\n",
    "plot_gaussian2d(m_N, s_N, extent=[[-0.75, +0.25], [-0.25, +0.75]], bins=(50, 50))\n",
    "plt.plot([w_true[0]], [w_true[1]], 'wo')\n",
    "mpl_set(xlabel='w_0', ylabel='w_1', colorbar=True, title='Posterior fixed hyperparameters')\n",
    "\n",
    "plt.subplot(1, 3, 2)\n",
    "plot_gaussian2d(m_emp, s_emp, extent=[[-0.75, +0.25], [-0.25, +0.75]], bins=(50, 50))\n",
    "plt.plot([w_true[0]], [w_true[1]], 'wo')\n",
    "mpl_set(xlabel='w_0', ylabel='w_1', colorbar=True, title='Posterior empirical Bayes')\n",
    "\n",
    "plt.subplot(1, 3, 3)\n",
    "plt.scatter(x_obs[1, :], y_obs, color=c0, label='data')\n",
    "plt.plot(x_eval[1, :], w_true.T @ x_eval, color=c1, label='truth')\n",
    "plt.plot(x_eval[1, :], p_m, label='predictive', color=c2)\n",
    "plt.fill_between(x_eval[1, :], p_m - p_s ** 0.5, p_m + p_s ** 0.5, color=c2, alpha=0.2)\n",
    "\n",
    "mpl_set(xlabel='x', ylabel='y', legend=True)\n",
    "pass"
   ]
  },
  {
   "cell_type": "markdown",
   "metadata": {},
   "source": [
    "## Bayesian model comparison"
   ]
  },
  {
   "cell_type": "markdown",
   "metadata": {},
   "source": [
    "Assume mutliple models $\\mathcal{M}_i$ under investigation. The posterior for the model is given by\n",
    "\n",
    "$$\n",
    "\\begin{align}\n",
    "    \\color{red}{p(\\mathcal{M}_i|\\mathcal{D})} &= \n",
    "        \\frac{P(\\mathcal{M}_i) \\color{blue}{p(\\mathcal{D}|\\mathcal{M}_i)}}{p(\\mathcal{D})}\n",
    "    &\\; &\\;\n",
    "\\\\\n",
    "    p(t|x, \\mathcal{D}) &= \\sum_i p(t|x, \\mathcal{M}_i, \\mathcal{D}) \\color{red}{p(\\mathcal{M}_i|\\mathcal{D})}\n",
    "    &\\; &\\;\n",
    "\\\\\n",
    "    \\log \\color{blue}{p(\\mathcal{D}|\\mathcal{M}_i)} &= \n",
    "        \\log \\int \\mathrm{d}w\\; p(\\mathcal{D}|w, \\mathcal{M}_i) p(w|\\mathcal{M}_i) \n",
    "    &\\; &\\;\n",
    "\\\\\n",
    "    &\\approx \\log  \\Delta w_\\mathrm{posterior} \\log  p(\\mathcal{D}|w_\\mathrm{MAP}, \\mathcal{M}_i)  \n",
    "    p(w_\\mathrm{MAP}|\\mathcal{M}_i)\n",
    "    &\\; &\\text{strongly peaked posterior}\n",
    "\\\\\n",
    "    &\\approx \\log  p(\\mathcal{D}|w_\\mathrm{MAP}, \\mathcal{M}_i) +\n",
    "        \\log \\frac{\\Delta w_\\mathrm{posterior} }{\\Delta w_\\mathrm{prior}}\n",
    "    &\\; &\\text{flat prior}\n",
    "\\\\\n",
    "    &\\approx \\log p(\\mathcal{D}|w_\\mathrm{MAP}, \\mathcal{M}_i) +\n",
    "        M \\log \\frac{\\Delta w_\\mathrm{posterior} }{\\Delta w_\\mathrm{prior}}\n",
    "    &\\; &\\text{for M parameters}\n",
    "\\end{align}\n",
    "$$\n",
    "\n",
    "For flat model prior $p(\\mathcal{M}_i) = \\mathrm{const}$ the relevant quantity is only the model evidence (or marginal likelihood) $\\color{blue}{p(\\mathcal{D}|\\mathcal{M}_i)}$ is relevant.  \n",
    "\n",
    "Note that, in the approximation above, the model evidence is the sum between a likelihood term (how good the data is fitted) and a complexity term (how many parameters are included). This form favors a model that is complex enough to fit the data, but not too complex.\n",
    "\n",
    "When approximating the predictive distribution by the most likely model, on selects on average the correct model, as can be seen as follows: Assume the correct model is $\\mathcal{M}^\\star$, then the average of the log model evidence is equal to\n",
    "\n",
    "$$\n",
    "    \\mathbb{E}_\\mathcal{D} \\log p(\\mathcal{D}|\\mathcal{M}_i) =\n",
    "    \\int \\mathrm{d} \\mathcal{D}\\; p(\\mathcal{D}|\\mathcal{M}^\\star) \n",
    "        \\log \\frac{p(\\mathcal{D}|\\mathcal{M}^\\star)}{p(\\mathcal{D}|\\mathcal{M}_i)} + \\mathrm{const}\n",
    "$$\n",
    "\n",
    "I.e., it is equal to the KL divergence to the correct model, which is minimized for the correct model choice."
   ]
  },
  {
   "cell_type": "markdown",
   "metadata": {},
   "source": [
    "## The Evidence Approximation\n",
    "\n",
    "Marginalize over some parameters and choose the maximum likelihood value for the other paramters. Also called Empircal Bayes. For example: marginalize over the weights, but determie the scale parameters by maximizing the marginal likelihood.\n",
    "\n",
    "$$\n",
    "    p(\\alpha, \\beta|\\mathcal{D}) \\propto p(\\mathcal{D}| \\alpha, \\beta) p(\\alpha, \\beta)\n",
    "$$\n",
    "\n",
    "Assume flat prior and search for $\\alpha, \\beta$ that maximize the marginal data likelihood\n",
    "\n",
    "$$\n",
    "    p(\\mathcal{D}| \\alpha, \\beta) = \n",
    "        \\int\\mathrm{d}w\\; p(\\mathcal{D}| \\mathcal{w}, \\beta)p(\\mathcal{w}|\\alpha)\n",
    "$$\n",
    "\n",
    "Note, that both $\\alpha$ and $\\beta$ are scalar here.\n",
    "\n",
    "The maximum is given by\n",
    "\n",
    "$$\n",
    "\\begin{align}\n",
    "    \\gamma &= \\sum_i \\frac{\\lambda_i}{\\lambda_i + \\alpha} \\\\\n",
    "    \\alpha &= \\frac{\\gamma}{m_N^T m_N} \\\\\n",
    "    \\beta^{-1} &= \\frac{1}{N - \\gamma} \\sum_n \\left( t_n - m_N^T \\phi_n \\right)^2\n",
    "\\end{align}\n",
    "$$\n",
    "\n",
    "In principle it would also be possible to first margininalize out the scale parameters and the approximate in the weight variables. However, empirically this leads to poorer results."
   ]
  },
  {
   "cell_type": "markdown",
   "metadata": {},
   "source": [
    "## Limitations of Fixed Basis Functions"
   ]
  },
  {
   "cell_type": "code",
   "execution_count": null,
   "metadata": {},
   "outputs": [],
   "source": []
  },
  {
   "cell_type": "code",
   "execution_count": null,
   "metadata": {},
   "outputs": [],
   "source": []
  }
 ],
 "metadata": {
  "hide_input": false,
  "kernelspec": {
   "display_name": "Python 3",
   "language": "python",
   "name": "python3"
  },
  "language_info": {
   "codemirror_mode": {
    "name": "ipython",
    "version": 3
   },
   "file_extension": ".py",
   "mimetype": "text/x-python",
   "name": "python",
   "nbconvert_exporter": "python",
   "pygments_lexer": "ipython3",
   "version": "3.6.3"
  },
  "toc": {
   "nav_menu": {},
   "number_sections": true,
   "sideBar": true,
   "skip_h1_title": false,
   "toc_cell": false,
   "toc_position": {},
   "toc_section_display": "block",
   "toc_window_display": false
  }
 },
 "nbformat": 4,
 "nbformat_minor": 2
}
