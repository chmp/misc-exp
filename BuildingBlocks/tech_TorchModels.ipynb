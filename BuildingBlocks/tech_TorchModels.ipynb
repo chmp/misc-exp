{
 "cells": [
  {
   "cell_type": "markdown",
   "metadata": {},
   "source": [
    "# Prototyping Models w/ PyTorch"
   ]
  },
  {
   "cell_type": "markdown",
   "metadata": {},
   "source": [
    "## Setup"
   ]
  },
  {
   "cell_type": "code",
   "execution_count": 1,
   "metadata": {},
   "outputs": [],
   "source": [
    "%matplotlib inline\n",
    "import matplotlib.pyplot as plt\n",
    "import numpy as np\n",
    "import seaborn as sns\n",
    "import sklearn.datasets\n",
    "import sklearn.linear_model\n",
    "import torch\n",
    "from torch.nn import Sequential, Linear, ReLU, MSELoss\n",
    "\n",
    "import pytest\n",
    "import ipytest\n",
    "import ipytest.magics\n",
    "\n",
    "from chmp.torch_util import (\n",
    "    TorchModel, \n",
    "    linear, \n",
    "    WeightsHS,\n",
    "    LossHistory,\n",
    "    NllLoss,\n",
    "    NormalModelConstantScale, \n",
    "    KLDivergence,\n",
    "    Transformer,\n",
    "    SimpleBayesTorchModel,\n",
    "    iter_batch_indices,\n",
    ")\n",
    "\n",
    "ipytest.config.rewrite_asserts = True\n",
    "__file__ = 'tech_TorchModels.ipynb'"
   ]
  },
  {
   "cell_type": "code",
   "execution_count": 2,
   "metadata": {},
   "outputs": [],
   "source": [
    "# create a regression data set\n",
    "x, y = sklearn.datasets.make_regression(\n",
    "    n_samples=1_000, \n",
    "    n_features=10, \n",
    "    n_informative=2, \n",
    "    shuffle=False, \n",
    "    random_state=42_42_42,\n",
    ")\n",
    "\n",
    "# with redudant features\n",
    "x = np.concatenate([x, x], axis=1)\n",
    "\n",
    "# and redudant samples\n",
    "x = np.concatenate([x, x], axis=0)\n",
    "y = np.concatenate([y, y], axis=0)"
   ]
  },
  {
   "cell_type": "code",
   "execution_count": 3,
   "metadata": {},
   "outputs": [
    {
     "name": "stdout",
     "output_type": "stream",
     "text": [
      "(2000, 20)\n"
     ]
    }
   ],
   "source": [
    "print(x.shape)"
   ]
  },
  {
   "cell_type": "code",
   "execution_count": 4,
   "metadata": {},
   "outputs": [],
   "source": [
    "class LinearHS(NormalModelConstantScale):\n",
    "    def __init__(self, in_features, out_features, tau_0, bias=True):\n",
    "        super().__init__()\n",
    "        \n",
    "        self.weights = WeightsHS((in_features, out_features), tau_0=tau_0)\n",
    "        self.bias = torch.nn.Parameter(torch.zeros(1)) if bias else 0\n",
    "        \n",
    "    def transform(self, x):\n",
    "        return self.bias + linear(x, self.weights())\n",
    "    \n",
    "    def kl_divergence(self):\n",
    "        return self.weights.kl_divergence()"
   ]
  },
  {
   "cell_type": "code",
   "execution_count": 5,
   "metadata": {},
   "outputs": [],
   "source": [
    "n_samples, n_features = x.shape"
   ]
  },
  {
   "cell_type": "markdown",
   "metadata": {},
   "source": [
    "## Linear regression model with horeshoe prior"
   ]
  },
  {
   "cell_type": "markdown",
   "metadata": {},
   "source": [
    "See C. Louizos, K. Ullrich, and M. Welling, \"[Bayesian Compression for Deep Learning](https://arxiv.org/abs/1705.08665)\" (2017).\n",
    "\n",
    "Use Horseshoe prior on the weights:\n",
    "\n",
    "$$\n",
    "\\begin{align}\n",
    "    s_a \\sim &\\mathcal{G}(0, \\tau_0^2) \\\\\n",
    "    s_b^{-1} &\\sim \\mathcal{G}(0, 1/2) \\\\\n",
    "    \\alpha_{ij} &\\sim \\mathcal{G}(0, 1/2) \\\\\n",
    "    \\beta^{-1}_{ij} &\\sim \\mathcal{G}(0, 1/2) \\\\\n",
    "    \\tilde{w}_{ij} &\\sim \\mathcal{N}(0, 1) \\\\\n",
    "    w_{ij} &= \\tilde{w}_{ij} \\sqrt{s_a / s_b} \\sqrt{\\alpha / \\beta}\n",
    "\\end{align}\n",
    "$$\n",
    "\n",
    "Use the variational approximation:\n",
    "$$\n",
    "\\begin{align}\n",
    "    q(s_a) &= \\mathcal{LN}(\\dots) \\\\\n",
    "    q(s_b^{-1}) &= \\mathcal{LN}(\\dots) \\\\\n",
    "    q(\\alpha_{ij}) &= \\mathcal{LN}(\\dots) \\\\\n",
    "    q(\\beta_{ij}^-{1}) &= \\mathcal{LN}(\\dots) \\\\\n",
    "    q(\\tilde{w}_{ij}) &= \\mathcal{N}(\\dots) \\\\\n",
    "\\end{align}\n",
    "$$"
   ]
  },
  {
   "cell_type": "code",
   "execution_count": 6,
   "metadata": {},
   "outputs": [
    {
     "name": "stdout",
     "output_type": "stream",
     "text": [
      "[done. took 4m 39s] 1.27 (epoch 999 / 1,000)                                                                            \n",
      "\n"
     ]
    },
    {
     "data": {
      "text/plain": [
       "<chmp.torch_util._model.History at 0x11a20d5c0>"
      ]
     },
     "execution_count": 6,
     "metadata": {},
     "output_type": "execute_result"
    }
   ],
   "source": [
    "model = SimpleBayesTorchModel(\n",
    "    module=LinearHS(n_features, 1, tau_0=1e-5),\n",
    "    n_observations=n_samples,\n",
    "    optimizer_kwargs=dict(lr=1e-2),\n",
    ")\n",
    "\n",
    "loss_history = LossHistory()\n",
    "model.fit(x, y, epochs=1_000, verbose=True, callbacks=[loss_history])"
   ]
  },
  {
   "cell_type": "code",
   "execution_count": 7,
   "metadata": {
    "scrolled": false
   },
   "outputs": [
    {
     "data": {
      "text/plain": [
       "<matplotlib.collections.PathCollection at 0x11a07cd68>"
      ]
     },
     "execution_count": 7,
     "metadata": {},
     "output_type": "execute_result"
    },
    {
     "data": {
      "image/png": "[encoded data removed]",
      "text/plain": [
       "<Figure size 432x288 with 1 Axes>"
      ]
     },
     "metadata": {
      "needs_background": "light"
     },
     "output_type": "display_data"
    }
   ],
   "source": [
    "y_pred_loc, y_pred_scale = model.predict(x.astype('float32'))\n",
    "plt.scatter(y, y_pred_loc)"
   ]
  },
  {
   "cell_type": "code",
   "execution_count": 8,
   "metadata": {
    "scrolled": false
   },
   "outputs": [
    {
     "name": "stderr",
     "output_type": "stream",
     "text": [
      "/Volumes/Home/.local/share/virtualenvs/misc-exp-8XcdncOT/lib/python3.6/site-packages/sklearn/linear_model/base.py:485: RuntimeWarning: internal gelsd driver lwork query error, required iwork dimension not returned. This is likely the result of LAPACK bug 0038, fixed in LAPACK 3.2.2 (released July 21, 2010). Falling back to 'gelss' driver.\n",
      "  linalg.lstsq(X, y)\n",
      "/Volumes/Home/.local/share/virtualenvs/misc-exp-8XcdncOT/lib/python3.6/site-packages/scipy/stats/stats.py:1713: FutureWarning: Using a non-tuple sequence for multidimensional indexing is deprecated; use `arr[tuple(seq)]` instead of `arr[seq]`. In the future this will be interpreted as an array index, `arr[np.array(seq)]`, which will result either in an error or a different result.\n",
      "  return np.add.reduce(sorted[indexer] * weights, axis=axis) / sumval\n"
     ]
    },
    {
     "data": {
      "text/plain": [
       "[<matplotlib.lines.Line2D at 0x11a11d208>]"
      ]
     },
     "execution_count": 8,
     "metadata": {},
     "output_type": "execute_result"
    },
    {
     "data": {
      "image/png": "[encoded data removed]",
      "text/plain": [
       "<Figure size 432x288 with 1 Axes>"
      ]
     },
     "metadata": {
      "needs_background": "light"
     },
     "output_type": "display_data"
    }
   ],
   "source": [
    "linear_coefs = sklearn.linear_model.LinearRegression().fit(x, y).coef_\n",
    "weights = np.concatenate([model.module.weights().detach().numpy() for _ in range(100)], axis=1)\n",
    "\n",
    "sns.violinplot(data=weights.T)\n",
    "plt.plot(linear_coefs, 's', markeredgecolor='r', markerfacecolor='none')"
   ]
  },
  {
   "cell_type": "markdown",
   "metadata": {},
   "source": [
    "## Attention"
   ]
  },
  {
   "cell_type": "markdown",
   "metadata": {},
   "source": [
    "Use an attention model of the form\n",
    "\n",
    "$$\n",
    "\\begin{align}\n",
    "    \\alpha_{ij} &= q(x_i)^T k(x_j) \\\\\n",
    "    p_{ij} &= \\mathrm{softmax}(\\alpha_{ij}, \\mathrm{mask}) \\\\\n",
    "    \\hat{y}_i &= \\sum_j p_{ij} v(x_j, y_j)\n",
    "\\end{align}\n",
    "$$"
   ]
  },
  {
   "cell_type": "code",
   "execution_count": 9,
   "metadata": {},
   "outputs": [
    {
     "name": "stdout",
     "output_type": "stream",
     "text": [
      "[done. took 2m 53s] 10.3 (epoch 99 / 100)                                                                               \n",
      "\n"
     ]
    },
    {
     "data": {
      "text/plain": [
       "<chmp.torch_util._model.History at 0x11a20d828>"
      ]
     },
     "execution_count": 9,
     "metadata": {},
     "output_type": "execute_result"
    }
   ],
   "source": [
    "batch_size = 20\n",
    "\n",
    "def transformer_fit_data():\n",
    "    for _ in range(100):\n",
    "        yield from transformer_batch_data(include_target=True, shuffle=True)\n",
    "            \n",
    "            \n",
    "def transformer_batch_data(include_target=True, shuffle=True):\n",
    "    for batch_indices in iter_batch_indices(len(x), batch_size=batch_size, shuffle=shuffle):\n",
    "        mask = np.ones((len(batch_indices), len(x)))\n",
    "        mask[np.arange(len(batch_indices)), batch_indices] = 0\n",
    "\n",
    "        np.testing.assert_allclose(np.sum(mask, axis=1), (len(x) - 1))\n",
    "\n",
    "        batch_x = {\n",
    "            'search_x': x.astype('float32'),\n",
    "            'search_y': y.astype('float32'),\n",
    "            'query_x': x[batch_indices].astype('float32'),\n",
    "            'mask': mask\n",
    "        }\n",
    "        \n",
    "        if include_target:\n",
    "            batch_y = y[batch_indices].astype('float32')\n",
    "            yield batch_x, batch_y\n",
    "        \n",
    "        else:\n",
    "            yield batch_x\n",
    "            \n",
    "            \n",
    "module = Transformer(\n",
    "    key_module=torch.nn.Sequential(\n",
    "        Linear(n_features, 20),\n",
    "        ReLU(),\n",
    "        Linear(20, 20),\n",
    "        ReLU(),\n",
    "    ),\n",
    ")\n",
    "model = TorchModel(\n",
    "    module=module,\n",
    "    loss=MSELoss(),\n",
    "    optimizer=lambda parameters: torch.optim.Adam(parameters, lr=1e-2),\n",
    ")\n",
    "\n",
    "model.fit_generator(transformer_fit_data(), steps_per_epoch=len(x) // batch_size, epochs=100, dtype=None)"
   ]
  },
  {
   "cell_type": "code",
   "execution_count": 10,
   "metadata": {},
   "outputs": [
    {
     "name": "stdout",
     "output_type": "stream",
     "text": [
      "[/ 0.52s / ?] predict                                                                                                   \n",
      "\n"
     ]
    },
    {
     "data": {
      "text/plain": [
       "<matplotlib.collections.PathCollection at 0x11a20d240>"
      ]
     },
     "execution_count": 10,
     "metadata": {},
     "output_type": "execute_result"
    },
    {
     "data": {
      "image/png": "[encoded data removed]",
      "text/plain": [
       "<Figure size 432x288 with 1 Axes>"
      ]
     },
     "metadata": {
      "needs_background": "light"
     },
     "output_type": "display_data"
    }
   ],
   "source": [
    "y_pred = model.predict_generator(transformer_batch_data(include_target=False, shuffle=False), dtype=None)\n",
    "plt.scatter(y_pred, y)"
   ]
  },
  {
   "cell_type": "code",
   "execution_count": null,
   "metadata": {},
   "outputs": [],
   "source": []
  }
 ],
 "metadata": {
  "kernelspec": {
   "display_name": "Python 3",
   "language": "python",
   "name": "python3"
  },
  "language_info": {
   "codemirror_mode": {
    "name": "ipython",
    "version": 3
   },
   "file_extension": ".py",
   "mimetype": "text/x-python",
   "name": "python",
   "nbconvert_exporter": "python",
   "pygments_lexer": "ipython3",
   "version": "3.6.4"
  }
 },
 "nbformat": 4,
 "nbformat_minor": 2
}
