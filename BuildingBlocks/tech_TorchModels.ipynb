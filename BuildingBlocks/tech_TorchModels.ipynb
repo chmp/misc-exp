{
 "cells": [
  {
   "cell_type": "markdown",
   "metadata": {},
   "source": [
    "# Prototyping Models w/ PyTorch"
   ]
  },
  {
   "cell_type": "markdown",
   "metadata": {},
   "source": [
    "## Setup"
   ]
  },
  {
   "cell_type": "code",
   "execution_count": 1,
   "metadata": {},
   "outputs": [],
   "source": [
    "%matplotlib inline\n",
    "import os\n",
    "\n",
    "import matplotlib.pyplot as plt\n",
    "import numpy as np\n",
    "import seaborn as sns\n",
    "import sklearn.datasets\n",
    "import sklearn.linear_model\n",
    "import torch\n",
    "from torch.nn import Linear, ReLU, MSELoss\n",
    "\n",
    "from chmp.ds import mpl_set\n",
    "from chmp.torch_utils.nn import linear\n",
    "from chmp.torch_utils.model import Model\n",
    "\n",
    "RUNNING_AS_TEST = os.environ.get(\"PYTEST_CURRENT_TEST\") is not None"
   ]
  },
  {
   "cell_type": "code",
   "execution_count": 2,
   "metadata": {},
   "outputs": [],
   "source": [
    "# create a regression data set\n",
    "x, y = sklearn.datasets.make_regression(\n",
    "    n_samples=1_000, \n",
    "    n_features=10, \n",
    "    n_informative=2, \n",
    "    shuffle=False, \n",
    "    random_state=42_42_42,\n",
    ")\n",
    "\n",
    "# with redudant features\n",
    "x = np.concatenate([x, x], axis=1)\n",
    "n_samples, n_features = x.shape"
   ]
  },
  {
   "cell_type": "code",
   "execution_count": 3,
   "metadata": {},
   "outputs": [
    {
     "name": "stdout",
     "output_type": "stream",
     "text": [
      "number of samples: 1000\n",
      "number of features 20\n"
     ]
    }
   ],
   "source": [
    "print(f\"number of samples: {n_samples}\")\n",
    "print(f\"number of features {n_features}\")"
   ]
  },
  {
   "cell_type": "markdown",
   "metadata": {},
   "source": [
    "## Linear regression model with horeshoe prior"
   ]
  },
  {
   "cell_type": "markdown",
   "metadata": {},
   "source": [
    "See C. Louizos, K. Ullrich, and M. Welling, \"[Bayesian Compression for Deep Learning](https://arxiv.org/abs/1705.08665)\" (2017).\n",
    "\n",
    "Use Horseshoe prior on the weights:\n",
    "\n",
    "$$\n",
    "\\begin{align}\n",
    "    s_a \\sim &\\mathcal{G}(0, \\tau_0^2) \\\\\n",
    "    s_b^{-1} &\\sim \\mathcal{G}(0, 1/2) \\\\\n",
    "    \\alpha_{ij} &\\sim \\mathcal{G}(0, 1/2) \\\\\n",
    "    \\beta^{-1}_{ij} &\\sim \\mathcal{G}(0, 1/2) \\\\\n",
    "    \\tilde{w}_{ij} &\\sim \\mathcal{N}(0, 1) \\\\\n",
    "    w_{ij} &= \\tilde{w}_{ij} \\sqrt{s_a / s_b} \\sqrt{\\alpha / \\beta}\n",
    "\\end{align}\n",
    "$$\n",
    "\n",
    "Use the variational approximation:\n",
    "$$\n",
    "\\begin{align}\n",
    "    q(s_a) &= \\mathcal{LN}(\\dots) \\\\\n",
    "    q(s_b^{-1}) &= \\mathcal{LN}(\\dots) \\\\\n",
    "    q(\\alpha_{ij}) &= \\mathcal{LN}(\\dots) \\\\\n",
    "    q(\\beta_{ij}^-{1}) &= \\mathcal{LN}(\\dots) \\\\\n",
    "    q(\\tilde{w}_{ij}) &= \\mathcal{N}(\\dots) \\\\\n",
    "\\end{align}\n",
    "$$"
   ]
  },
  {
   "cell_type": "code",
   "execution_count": 4,
   "metadata": {},
   "outputs": [],
   "source": [
    "from chmp.torch_utils.bayes import WeightsHS, NormalModelConstantScale, SimpleBayesModel"
   ]
  },
  {
   "cell_type": "code",
   "execution_count": 5,
   "metadata": {},
   "outputs": [],
   "source": [
    "class LinearHS(NormalModelConstantScale):\n",
    "    def __init__(self, in_features, out_features, tau_0, bias=True):\n",
    "        super().__init__()\n",
    "        \n",
    "        self.weights = WeightsHS((in_features, out_features), tau_0=tau_0)\n",
    "        self.bias = torch.nn.Parameter(torch.zeros(1)) if bias else 0\n",
    "        \n",
    "    def transform(self, x):\n",
    "        return self.bias + linear(x, self.weights())\n",
    "    \n",
    "    def kl_divergence(self):\n",
    "        return self.weights.kl_divergence()\n",
    "    \n",
    "    \n",
    "def mse_loss(pred, y):\n",
    "    loc, _ = pred\n",
    "    return torch.mean((loc - y) ** 2.0)"
   ]
  },
  {
   "cell_type": "code",
   "execution_count": 6,
   "metadata": {},
   "outputs": [
    {
     "name": "stdout",
     "output_type": "stream",
     "text": [
      "[done. took 2m 36s] 128 mse_loss: 2.05 (499 / 500)                                                                      \n",
      "\n"
     ]
    },
    {
     "name": "stderr",
     "output_type": "stream",
     "text": [
      "/Volumes/Home/.local/share/virtualenvs/misc-exp-8XcdncOT/lib/python3.6/site-packages/sklearn/linear_model/base.py:485: RuntimeWarning: internal gelsd driver lwork query error, required iwork dimension not returned. This is likely the result of LAPACK bug 0038, fixed in LAPACK 3.2.2 (released July 21, 2010). Falling back to 'gelss' driver.\n",
      "  linalg.lstsq(X, y)\n"
     ]
    }
   ],
   "source": [
    "model = SimpleBayesModel(\n",
    "    module=LinearHS(n_features, 1, tau_0=1e-5),\n",
    "    n_observations=n_samples,\n",
    "    optimizer_kwargs=dict(lr=1e-2),\n",
    ")\n",
    "\n",
    "history = model.fit(\n",
    "    x, y, \n",
    "    epochs=500 if not RUNNING_AS_TEST else 1, \n",
    "    verbose=True,\n",
    "    metrics=[mse_loss],\n",
    "    validation_data=(x, y),\n",
    ")\n",
    "y_pred_loc, y_pred_scale = model.predict(x.astype('float32'))\n",
    "\n",
    "linear_coefs = sklearn.linear_model.LinearRegression().fit(x, y).coef_\n",
    "weights = np.concatenate([model.module.weights().detach().numpy() for _ in range(100)], axis=1)"
   ]
  },
  {
   "cell_type": "code",
   "execution_count": 7,
   "metadata": {
    "scrolled": false
   },
   "outputs": [
    {
     "name": "stderr",
     "output_type": "stream",
     "text": [
      "/Volumes/Home/.local/share/virtualenvs/misc-exp-8XcdncOT/lib/python3.6/site-packages/scipy/stats/stats.py:1713: FutureWarning: Using a non-tuple sequence for multidimensional indexing is deprecated; use `arr[tuple(seq)]` instead of `arr[seq]`. In the future this will be interpreted as an array index, `arr[np.array(seq)]`, which will result either in an error or a different result.\n",
      "  return np.add.reduce(sorted[indexer] * weights, axis=axis) / sumval\n"
     ]
    },
    {
     "data": {
      "image/png": "[encoded data removed]",
      "text/plain": [
       "<Figure size 1152x288 with 3 Axes>"
      ]
     },
     "metadata": {
      "needs_background": "light"
     },
     "output_type": "display_data"
    }
   ],
   "source": [
    "_, (ax1, ax2, ax3) = plt.subplots(1, 3, figsize=(16, 4))\n",
    "\n",
    "plt.sca(ax1)\n",
    "plt.scatter(y_pred_loc, y)\n",
    "mpl_set(xlabel=\"Prediction\", ylabel=\"Truth\")\n",
    "\n",
    "plt.sca(ax2)\n",
    "\n",
    "sns.violinplot(data=weights.T)\n",
    "plt.plot(linear_coefs, 's', markeredgecolor='r', markerfacecolor='none')\n",
    "mpl_set(xlabel=\"Feature\", ylabel=\"Weight\")\n",
    "\n",
    "plt.sca(ax3)\n",
    "plt.plot(history.get('epoch'), history.get('loss'))\n",
    "mpl_set(xlabel=\"Epoch\", ylabel=\"Loss\")"
   ]
  },
  {
   "cell_type": "markdown",
   "metadata": {},
   "source": [
    "## Attention"
   ]
  },
  {
   "cell_type": "markdown",
   "metadata": {},
   "source": [
    "Use an attention model of the form\n",
    "\n",
    "$$\n",
    "\\begin{align}\n",
    "    \\alpha_{ij} &= q(x_i)^T k(x_j) \\\\\n",
    "    p_{ij} &= \\mathrm{softmax}(\\alpha_{ij}, \\mathrm{mask}) \\\\\n",
    "    \\hat{y}_i &= \\sum_j p_{ij} v(x_j, y_j)\n",
    "\\end{align}\n",
    "$$"
   ]
  },
  {
   "cell_type": "code",
   "execution_count": 8,
   "metadata": {},
   "outputs": [],
   "source": [
    "from chmp.torch_utils.attention import Transformer"
   ]
  },
  {
   "cell_type": "code",
   "execution_count": 9,
   "metadata": {},
   "outputs": [],
   "source": [
    "def transform_x(idx):\n",
    "    mask = np.ones(len(x))\n",
    "    mask[idx] = 0\n",
    "    \n",
    "    return {\n",
    "        'query_x': x[idx].astype('float32'),\n",
    "        'mask': mask\n",
    "    }\n",
    "\n",
    "\n",
    "def transform_xy(idx):\n",
    "    batch_x = transform_x(idx)\n",
    "    batch_y = y[idx].astype('float32') \n",
    "    return batch_x, batch_y"
   ]
  },
  {
   "cell_type": "code",
   "execution_count": 10,
   "metadata": {},
   "outputs": [
    {
     "name": "stdout",
     "output_type": "stream",
     "text": [
      "[done. took 5.51s] 5.56 (9 / 10)                                                                                        \n",
      "\n",
      "[done. took 0.19s] predict                                                                                              \n",
      "\n"
     ]
    }
   ],
   "source": [
    "model = Model(\n",
    "    module=Transformer(\n",
    "        key_module=torch.nn.Sequential(\n",
    "            Linear(n_features, 20),\n",
    "            ReLU(),\n",
    "            Linear(20, 20),\n",
    "            ReLU(),\n",
    "        ),\n",
    "        search_x=x.astype('float32'), \n",
    "        search_y=y.astype('float32'),\n",
    "    ),\n",
    "    loss=MSELoss(),\n",
    "    optimizer='Adam',\n",
    "    optimizer_kwargs=dict(lr=1e-2),\n",
    ")\n",
    "\n",
    "history = model.fit_transformed(\n",
    "    transform_xy, \n",
    "    range(len(x)), \n",
    "    batch_size=20, \n",
    "    dtype=None, \n",
    "    epochs=10 if not RUNNING_AS_TEST else 1, \n",
    "    verbose=True,\n",
    ")\n",
    "y_pred = model.predict_transformed(transform_x, range(len(x)), batch_size=20, dtype=None, verbose=True)"
   ]
  },
  {
   "cell_type": "code",
   "execution_count": 11,
   "metadata": {},
   "outputs": [
    {
     "data": {
      "image/png": "[encoded data removed]",
      "text/plain": [
       "<Figure size 864x288 with 2 Axes>"
      ]
     },
     "metadata": {
      "needs_background": "light"
     },
     "output_type": "display_data"
    }
   ],
   "source": [
    "_, (ax1, ax2) = plt.subplots(1, 2, figsize=(12, 4))\n",
    "\n",
    "plt.sca(ax1)\n",
    "plt.scatter(y_pred, y)\n",
    "mpl_set(xlabel=\"Prediction\", ylabel=\"Truth\")\n",
    "\n",
    "plt.sca(ax2)\n",
    "plt.plot(history.get('epoch'), history.get('loss'))\n",
    "mpl_set(xlabel=\"Epoch\", ylabel=\"Loss\")"
   ]
  },
  {
   "cell_type": "code",
   "execution_count": null,
   "metadata": {},
   "outputs": [],
   "source": []
  }
 ],
 "metadata": {
  "kernelspec": {
   "display_name": "Python 3",
   "language": "python",
   "name": "python3"
  },
  "language_info": {
   "codemirror_mode": {
    "name": "ipython",
    "version": 3
   },
   "file_extension": ".py",
   "mimetype": "text/x-python",
   "name": "python",
   "nbconvert_exporter": "python",
   "pygments_lexer": "ipython3",
   "version": "3.6.4"
  }
 },
 "nbformat": 4,
 "nbformat_minor": 2
}
