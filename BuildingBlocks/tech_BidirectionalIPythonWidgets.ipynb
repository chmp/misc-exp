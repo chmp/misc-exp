{
 "cells": [
  {
   "cell_type": "markdown",
   "metadata": {},
   "source": [
    "# Bi-Directional JavaScript - Python"
   ]
  },
  {
   "cell_type": "markdown",
   "metadata": {},
   "source": [
    "**Note:** This notebook does currently not work in jupyterlab, as [javascript execution is disabled](https://github.com/jupyterlab/jupyterlab/issues/3118) at the moment. Hopefully [this PR](https://github.com/jupyterlab/jupyterlab/pull/4515) will resolve the issue. Once the PR finds it way into a release I will have another look at jupyterlab.\n",
    "\n",
    "Each widget has \"model\" that allwow to exchange messages between the python process and the javascript process."
   ]
  },
  {
   "cell_type": "code",
   "execution_count": 1,
   "metadata": {},
   "outputs": [],
   "source": [
    "import json\n",
    "import random\n",
    "import time\n",
    "\n",
    "import ipywidgets\n",
    "from traitlets import Unicode\n",
    "\n",
    "from IPython.display import display"
   ]
  },
  {
   "cell_type": "markdown",
   "metadata": {},
   "source": [
    "## JavaScript to Python"
   ]
  },
  {
   "cell_type": "markdown",
   "metadata": {},
   "source": [
    "This section summarized essentially how the button is internally implemented. Its implementation can be found\n",
    "\n",
    "- [here](https://github.com/jupyter-widgets/ipywidgets/blob/master/packages/controls/src/widget_button.ts) for its JavaScript part and\n",
    "- [here](https://github.com/jupyter-widgets/ipywidgets/blob/master/ipywidgets/widgets/widget_button.py) for its Python part."
   ]
  },
  {
   "cell_type": "code",
   "execution_count": 2,
   "metadata": {},
   "outputs": [],
   "source": [
    "class JavaScriptToPython(ipywidgets.DOMWidget):\n",
    "    _view_name = Unicode('JavaScriptToPython').tag(sync=True)\n",
    "    _view_module = Unicode('javascript2python').tag(sync=True)\n",
    "    _view_module_version = Unicode('0.1.0').tag(sync=True)"
   ]
  },
  {
   "cell_type": "code",
   "execution_count": 3,
   "metadata": {},
   "outputs": [
    {
     "data": {
      "application/javascript": [
       "require.undef('javascript2python');\n",
       "\n",
       "define('javascript2python', [\"@jupyter-widgets/base\"], function(widgets) {\n",
       "    const JavaScriptToPython = widgets.DOMWidgetView.extend({\n",
       "        render: function() {\n",
       "            const button = document.createElement('button');\n",
       "            button.innerHTML = 'click me';\n",
       "            button.addEventListener('click', () => this.send('clicked at '+ new Date));\n",
       "            \n",
       "            this.el.appendChild(button);\n",
       "        },\n",
       "    });\n",
       "    return {JavaScriptToPython};\n",
       "});"
      ],
      "text/plain": [
       "<IPython.core.display.Javascript object>"
      ]
     },
     "metadata": {},
     "output_type": "display_data"
    }
   ],
   "source": [
    "%%javascript\n",
    "require.undef('javascript2python');\n",
    "\n",
    "define('javascript2python', [\"@jupyter-widgets/base\"], function(widgets) {\n",
    "    const JavaScriptToPython = widgets.DOMWidgetView.extend({\n",
    "        render: function() {\n",
    "            const button = document.createElement('button');\n",
    "            button.innerHTML = 'click me';\n",
    "            button.addEventListener('click', () => this.send('clicked at '+ new Date));\n",
    "            \n",
    "            this.el.appendChild(button);\n",
    "        },\n",
    "    });\n",
    "    return {JavaScriptToPython};\n",
    "});"
   ]
  },
  {
   "cell_type": "code",
   "execution_count": 4,
   "metadata": {},
   "outputs": [
    {
     "data": {
      "application/vnd.jupyter.widget-view+json": {
       "model_id": "810e64bb4ed8421faaa07b3611c8e0c6",
       "version_major": 2,
       "version_minor": 0
      },
      "text/plain": [
       "JavaScriptToPython()"
      ]
     },
     "metadata": {},
     "output_type": "display_data"
    }
   ],
   "source": [
    "widget = JavaScriptToPython()\n",
    "\n",
    "@widget.on_msg\n",
    "def _(widget, content, buffers):\n",
    "    print(content)\n",
    "\n",
    "display(widget)"
   ]
  },
  {
   "cell_type": "markdown",
   "metadata": {},
   "source": [
    "## Python to JavaScript"
   ]
  },
  {
   "cell_type": "markdown",
   "metadata": {},
   "source": [
    "Any message send via `widget.send(...)` from python can be received with `this.model.on('msg:custom', ...)` in JavaScript."
   ]
  },
  {
   "cell_type": "code",
   "execution_count": 5,
   "metadata": {},
   "outputs": [],
   "source": [
    "class PythonToJavaScript(ipywidgets.DOMWidget):\n",
    "    _view_name = Unicode('PythonToJavaScript').tag(sync=True)\n",
    "    _view_module = Unicode('python2javascript').tag(sync=True)\n",
    "    _view_module_version = Unicode('0.1.0').tag(sync=True)"
   ]
  },
  {
   "cell_type": "code",
   "execution_count": 6,
   "metadata": {},
   "outputs": [
    {
     "data": {
      "application/javascript": [
       "require.undef('python2javascript');\n",
       "\n",
       "define('python2javascript', [\"@jupyter-widgets/base\"], function(widgets) {\n",
       "    const PythonToJavaScript = widgets.DOMWidgetView.extend({\n",
       "        render: function() {\n",
       "            this.model.on('msg:custom', data => {    \n",
       "                this.el.innerHTML = JSON.stringify(data);\n",
       "            });\n",
       "        },\n",
       "    });\n",
       "    return {PythonToJavaScript};\n",
       "});"
      ],
      "text/plain": [
       "<IPython.core.display.Javascript object>"
      ]
     },
     "metadata": {},
     "output_type": "display_data"
    }
   ],
   "source": [
    "%%javascript\n",
    "require.undef('python2javascript');\n",
    "\n",
    "define('python2javascript', [\"@jupyter-widgets/base\"], function(widgets) {\n",
    "    const PythonToJavaScript = widgets.DOMWidgetView.extend({\n",
    "        render: function() {\n",
    "            this.model.on('msg:custom', data => {    \n",
    "                this.el.innerHTML = JSON.stringify(data);\n",
    "            });\n",
    "        },\n",
    "    });\n",
    "    return {PythonToJavaScript};\n",
    "});"
   ]
  },
  {
   "cell_type": "code",
   "execution_count": 7,
   "metadata": {},
   "outputs": [
    {
     "data": {
      "application/vnd.jupyter.widget-view+json": {
       "model_id": "95fa690b53284cf7aaf29da31f352fb2",
       "version_major": 2,
       "version_minor": 0
      },
      "text/plain": [
       "PythonToJavaScript()"
      ]
     },
     "metadata": {},
     "output_type": "display_data"
    }
   ],
   "source": [
    "widget = PythonToJavaScript()\n",
    "display(widget)\n",
    "\n",
    "# NOTE: the widget is not yet rendered, event will be 'lost'\n",
    "widget.send({'foo': 'bar'})"
   ]
  },
  {
   "cell_type": "code",
   "execution_count": 8,
   "metadata": {},
   "outputs": [],
   "source": [
    "# NOTE: the widget is already rendered, the event will be received\n",
    "widget.send({'hello': 'world'})"
   ]
  },
  {
   "cell_type": "markdown",
   "metadata": {},
   "source": [
    "Since the widget only starts to listend to events once rendered, the call to `widget.send` has to be in a new cell.\n",
    "\n",
    "An alternative would be to use the widget properties (similar to the [example in the docs](https://ipywidgets.readthedocs.io/en/latest/examples/Widget%20Asynchronous.html#Updating-a-widget-in-the-background)). However, this approach would mean to always keep the full state on both sides. With streaming data, this may inccur high transfer costs."
   ]
  },
  {
   "cell_type": "markdown",
   "metadata": {},
   "source": [
    "## Example live updates for Leaflet maps"
   ]
  },
  {
   "cell_type": "markdown",
   "metadata": {},
   "source": [
    "Implementin a leaflet map that supports liveupdates is a bit more complicated, since it requires using an iframe to embedd the required JavaScript and CSS resources.\n",
    "\n",
    "Luckily, the [`postMessage` API](https://developer.mozilla.org/en-US/docs/Web/API/Window/postMessage) to send messages between the current browser window, the Jupyter frontend, and the embedded iframe, the map."
   ]
  },
  {
   "cell_type": "markdown",
   "metadata": {},
   "source": [
    "To test the API, the following examples sends messages between iframe and its parent whenever one of the buttons is clicked."
   ]
  },
  {
   "cell_type": "code",
   "execution_count": 9,
   "metadata": {},
   "outputs": [
    {
     "data": {
      "application/javascript": [
       "// an example using postMessage to communicate with an iframe\n",
       "\n",
       "(element => {\n",
       "const iframeSource = `\n",
       "<button id=\"my-button\"></button>\n",
       "<script>\n",
       "(() => {\n",
       "    const targetOrigin = \"${window.origin}\";\n",
       "\n",
       "    const button = document.getElementById('my-button');\n",
       "    button.dataset.count = 0;\n",
       "    button.innerHTML = 'Clicks from Jupyter: 0';\n",
       "\n",
       "    button.addEventListener('click', () => {\n",
       "        window.parent.postMessage('increment', targetOrigin);\n",
       "    });\n",
       "\n",
       "    window.addEventListener('message', ev => {\n",
       "        if(ev.origin != targetOrigin) {\n",
       "            return;\n",
       "        }\n",
       "        console.log('foo');\n",
       "        button.dataset.count++;\n",
       "        button.innerHTML = 'Clicks from Jupyter: ' + button.dataset.count;\n",
       "    });\n",
       "})();\n",
       "</script>\n",
       "`;\n",
       "\n",
       "const button = document.createElement('button');\n",
       "button.dataset.count = 0;\n",
       "button.innerHTML = 'Clicks from IFrame: 0';\n",
       "\n",
       "button.addEventListener('click', () => {\n",
       "    // TODO: what is the correct origin of the iframe?\n",
       "    iframe.contentWindow.postMessage('increment', '*');\n",
       "});\n",
       "\n",
       "const iframe = document.createElement('iframe');\n",
       "iframe.width = 200;\n",
       "iframe.height = 50;\n",
       "iframe.src = \"data:text/html;base64,\" + btoa(iframeSource);\n",
       "\n",
       "element[0].appendChild(button);\n",
       "element[0].appendChild(iframe);\n",
       "\n",
       "const messageListener = ev => {\n",
       "    // TODO: is this really the correct origin?\n",
       "    if(ev.origin != \"null\") {\n",
       "        return;\n",
       "    }\n",
       "    button.dataset.count++;\n",
       "    button.innerHTML = 'Clicks from IFrame: ' + button.dataset.count;\n",
       "}\n",
       "\n",
       "// Make sure to remove the listener when the element is removed\n",
       "// For simplicity use the  JQuery remove event\n",
       "element.on(\n",
       "    'remove', \n",
       "    () => window.removeEventListener('message', messageListener),\n",
       ");\n",
       "\n",
       "window.addEventListener(\"message\", messageListener);\n",
       "})(element);"
      ],
      "text/plain": [
       "<IPython.core.display.Javascript object>"
      ]
     },
     "metadata": {},
     "output_type": "display_data"
    }
   ],
   "source": [
    "%%javascript\n",
    "// an example using postMessage to communicate with an iframe\n",
    "\n",
    "(element => {\n",
    "const iframeSource = `\n",
    "<button id=\"my-button\"></button>\n",
    "<script>\n",
    "(() => {\n",
    "    const targetOrigin = \"${window.origin}\";\n",
    "\n",
    "    const button = document.getElementById('my-button');\n",
    "    button.dataset.count = 0;\n",
    "    button.innerHTML = 'Clicks from Jupyter: 0';\n",
    "\n",
    "    button.addEventListener('click', () => {\n",
    "        window.parent.postMessage('increment', targetOrigin);\n",
    "    });\n",
    "\n",
    "    window.addEventListener('message', ev => {\n",
    "        if(ev.origin != targetOrigin) {\n",
    "            return;\n",
    "        }\n",
    "        console.log('foo');\n",
    "        button.dataset.count++;\n",
    "        button.innerHTML = 'Clicks from Jupyter: ' + button.dataset.count;\n",
    "    });\n",
    "})();\n",
    "</script>\n",
    "`;\n",
    "\n",
    "const button = document.createElement('button');\n",
    "button.dataset.count = 0;\n",
    "button.innerHTML = 'Clicks from IFrame: 0';\n",
    "\n",
    "button.addEventListener('click', () => {\n",
    "    // TODO: what is the correct origin of the iframe?\n",
    "    iframe.contentWindow.postMessage('increment', '*');\n",
    "});\n",
    "\n",
    "const iframe = document.createElement('iframe');\n",
    "iframe.width = 200;\n",
    "iframe.height = 50;\n",
    "iframe.src = \"data:text/html;base64,\" + btoa(iframeSource);\n",
    "\n",
    "element[0].appendChild(button);\n",
    "element[0].appendChild(iframe);\n",
    "\n",
    "const messageListener = ev => {\n",
    "    // TODO: is this really the correct origin?\n",
    "    if(ev.origin != \"null\") {\n",
    "        return;\n",
    "    }\n",
    "    button.dataset.count++;\n",
    "    button.innerHTML = 'Clicks from IFrame: ' + button.dataset.count;\n",
    "}\n",
    "\n",
    "// Make sure to remove the listener when the element is removed\n",
    "// For simplicity use the  JQuery remove event\n",
    "element.on(\n",
    "    'remove', \n",
    "    () => window.removeEventListener('message', messageListener),\n",
    ");\n",
    "\n",
    "window.addEventListener(\"message\", messageListener);\n",
    "})(element);"
   ]
  },
  {
   "cell_type": "markdown",
   "metadata": {},
   "source": [
    "The live-updating leaflet map will combine the `postMessage` event systems with jupyter's event system. First the update is send from python to the widget, which will forward the message into the iframe, where the leaflet map is updated."
   ]
  },
  {
   "cell_type": "code",
   "execution_count": 10,
   "metadata": {},
   "outputs": [],
   "source": [
    "class LiveLeaflet(ipywidgets.DOMWidget):\n",
    "    _view_name = Unicode('LiveLeaflet').tag(sync=True)\n",
    "    _view_module = Unicode('liveleaflet').tag(sync=True)\n",
    "    _view_module_version = Unicode('0.1.0').tag(sync=True)"
   ]
  },
  {
   "cell_type": "code",
   "execution_count": 11,
   "metadata": {},
   "outputs": [
    {
     "data": {
      "application/javascript": [
       "\n",
       "(element => {\n",
       "require.undef('liveleaflet');\n",
       "\n",
       "const iframeSource = `\n",
       "<html>\n",
       "<head>\n",
       "<link \n",
       "    rel=\"stylesheet\" \n",
       "    href=\"https://unpkg.com/leaflet@1.3.1/dist/leaflet.css\"\n",
       "    integrity=\"sha512-Rksm5RenBEKSKFjgI3a41vrjkw4EVPlJ3+OiI65vTjIdo9brlAacEuKOiQ5OFh7cOI1bkDwLqdLw3Zg0cRJAAQ==\"\n",
       "    crossorigin=\"\"/>\n",
       "<script \n",
       "    src=\"https://unpkg.com/leaflet@1.3.1/dist/leaflet.js\"\n",
       "    integrity=\"sha512-/Nsx9X4HebavoBvEBuyp3I7od5tA0UzAxs+j83KgC8PU0kgB4XiK4Lfe4y4cgBtaRJQEIFCW+oC506aPT2L1zw==\"\n",
       "    crossorigin=\"\"></script>\n",
       "</head>\n",
       "<body>\n",
       "<div id=\"mapid\" style=\"height: 400px; width: 400px;\"></div>\n",
       "<script>\n",
       "(function() {\n",
       "    var mymap = L.map(\"mapid\").setView([48.14, 11.57], 10);\n",
       "    L.tileLayer(\"http://{s}.tile.openstreetmap.org/{z}/{x}/{y}.png\").addTo(mymap);\n",
       "    \n",
       "    var marker = L.marker([48.14, 11.57]).addTo(mymap);\n",
       "    \n",
       "    window.onmessage = function(msg) {\n",
       "        var ev = msg[\"data\"];\n",
       "        \n",
       "        if(ev[\"type\"] == \"update\") {\n",
       "            marker.setLatLng([ev[\"y\"], ev[\"x\"]]);\n",
       "        }\n",
       "        else {\n",
       "            console.log(\"unknown event\", ev);\n",
       "        }\n",
       "    }\n",
       "})();\n",
       "</script>\n",
       "</body>\n",
       "</html>\n",
       "`\n",
       "\n",
       "define('liveleaflet', [\"@jupyter-widgets/base\"], function(widgets) {\n",
       "    \n",
       "    const LiveLeaflet = widgets.DOMWidgetView.extend({\n",
       "        render: function() {\n",
       "            const iframe = document.createElement('iframe');\n",
       "            iframe.width = 420;\n",
       "            iframe.height = 420;\n",
       "            iframe.src = \"data:text/html;base64,\" + btoa(iframeSource);\n",
       "            this.el.appendChild(iframe);\n",
       "            \n",
       "            // forward all message from python into the iframe\n",
       "            this.model.on('msg:custom', function(data) {\n",
       "               iframe.contentWindow.postMessage(data, '*');\n",
       "            });\n",
       "        },\n",
       "    });\n",
       "    \n",
       "    return {LiveLeaflet};\n",
       "});\n",
       "    \n",
       "})(element);"
      ],
      "text/plain": [
       "<IPython.core.display.Javascript object>"
      ]
     },
     "metadata": {},
     "output_type": "display_data"
    }
   ],
   "source": [
    "%%javascript\n",
    "\n",
    "(element => {\n",
    "require.undef('liveleaflet');\n",
    "\n",
    "const iframeSource = `\n",
    "<html>\n",
    "<head>\n",
    "<link \n",
    "    rel=\"stylesheet\" \n",
    "    href=\"https://unpkg.com/leaflet@1.3.1/dist/leaflet.css\"\n",
    "    integrity=\"sha512-Rksm5RenBEKSKFjgI3a41vrjkw4EVPlJ3+OiI65vTjIdo9brlAacEuKOiQ5OFh7cOI1bkDwLqdLw3Zg0cRJAAQ==\"\n",
    "    crossorigin=\"\"/>\n",
    "<script \n",
    "    src=\"https://unpkg.com/leaflet@1.3.1/dist/leaflet.js\"\n",
    "    integrity=\"sha512-/Nsx9X4HebavoBvEBuyp3I7od5tA0UzAxs+j83KgC8PU0kgB4XiK4Lfe4y4cgBtaRJQEIFCW+oC506aPT2L1zw==\"\n",
    "    crossorigin=\"\"></script>\n",
    "</head>\n",
    "<body>\n",
    "<div id=\"mapid\" style=\"height: 400px; width: 400px;\"></div>\n",
    "<script>\n",
    "(function() {\n",
    "    var mymap = L.map(\"mapid\").setView([48.14, 11.57], 10);\n",
    "    L.tileLayer(\"http://{s}.tile.openstreetmap.org/{z}/{x}/{y}.png\").addTo(mymap);\n",
    "    \n",
    "    var marker = L.marker([48.14, 11.57]).addTo(mymap);\n",
    "    \n",
    "    window.onmessage = function(msg) {\n",
    "        var ev = msg[\"data\"];\n",
    "        \n",
    "        if(ev[\"type\"] == \"update\") {\n",
    "            marker.setLatLng([ev[\"y\"], ev[\"x\"]]);\n",
    "        }\n",
    "        else {\n",
    "            console.log(\"unknown event\", ev);\n",
    "        }\n",
    "    }\n",
    "})();\n",
    "</script>\n",
    "</body>\n",
    "</html>\n",
    "`\n",
    "\n",
    "define('liveleaflet', [\"@jupyter-widgets/base\"], function(widgets) {\n",
    "    \n",
    "    const LiveLeaflet = widgets.DOMWidgetView.extend({\n",
    "        render: function() {\n",
    "            const iframe = document.createElement('iframe');\n",
    "            iframe.width = 420;\n",
    "            iframe.height = 420;\n",
    "            iframe.src = \"data:text/html;base64,\" + btoa(iframeSource);\n",
    "            this.el.appendChild(iframe);\n",
    "            \n",
    "            // forward all message from python into the iframe\n",
    "            this.model.on('msg:custom', function(data) {\n",
    "               iframe.contentWindow.postMessage(data, '*');\n",
    "            });\n",
    "        },\n",
    "    });\n",
    "    \n",
    "    return {LiveLeaflet};\n",
    "});\n",
    "    \n",
    "})(element);"
   ]
  },
  {
   "cell_type": "code",
   "execution_count": 12,
   "metadata": {},
   "outputs": [
    {
     "data": {
      "application/vnd.jupyter.widget-view+json": {
       "model_id": "01b51f1d4e8b47d1a6efa4d549977eed",
       "version_major": 2,
       "version_minor": 0
      },
      "text/plain": [
       "LiveLeaflet()"
      ]
     },
     "metadata": {},
     "output_type": "display_data"
    }
   ],
   "source": [
    "widget = LiveLeaflet()\n",
    "widget"
   ]
  },
  {
   "cell_type": "code",
   "execution_count": 13,
   "metadata": {},
   "outputs": [],
   "source": [
    "# perform a random walk of the marker\n",
    "y, x = 48.14, 11.57\n",
    "for _ in range(10):\n",
    "    x += random.normalvariate(0, 0.01)\n",
    "    y += random.normalvariate(0, 0.01)\n",
    "    \n",
    "    widget.send(dict(type='update', x=x, y=y))\n",
    "    time.sleep(1)"
   ]
  },
  {
   "cell_type": "markdown",
   "metadata": {},
   "source": [
    "## Live Altair / Vega Charts"
   ]
  },
  {
   "cell_type": "code",
   "execution_count": 14,
   "metadata": {},
   "outputs": [
    {
     "data": {
      "text/plain": [
       "RendererRegistry.enable('notebook')"
      ]
     },
     "execution_count": 14,
     "metadata": {},
     "output_type": "execute_result"
    }
   ],
   "source": [
    "import altair as alt\n",
    "from vegawidget import VegaWidget\n",
    "\n",
    "alt.renderers.enable('notebook')"
   ]
  },
  {
   "cell_type": "code",
   "execution_count": 15,
   "metadata": {},
   "outputs": [],
   "source": [
    "data = alt.InlineData([\n",
    "    dict(c=0, v=1, t=1),\n",
    "    dict(c=1, v=2, t=2),\n",
    "    dict(c=2, v=3, t=3),\n",
    "    dict(c=0, v=4, t=4),\n",
    "    dict(c=1, v=5, t=5),\n",
    "    dict(c=0, v=6, t=6),\n",
    "    dict(c=0, v=7, t=7),\n",
    "    dict(c=1, v=8, t=8),\n",
    "    dict(c=2, v=9, t=9),\n",
    "])\n",
    "\n",
    "chart = alt.Chart(data).mark_bar().encode(x='c:O', y='sum(v):Q')"
   ]
  },
  {
   "cell_type": "code",
   "execution_count": 16,
   "metadata": {
    "scrolled": false
   },
   "outputs": [
    {
     "data": {
      "application/vnd.jupyter.widget-view+json": {
       "model_id": "c016ee711c7a42c68e39eb0a003d087c",
       "version_major": 2,
       "version_minor": 0
      },
      "text/plain": [
       "VegaWidget(spec_source='{\"config\": {\"view\": {\"width\": 400, \"height\": 300}}, \"data\": {\"values\": [{\"c\": 0, \"v\": …"
      ]
     },
     "metadata": {},
     "output_type": "display_data"
    }
   ],
   "source": [
    "# update the spec to include a data name\n",
    "# TODO: once on PyPI use InlineData(name='...')\n",
    "spec = chart.to_dict()\n",
    "spec['data']['name'] = 'table'\n",
    "\n",
    "widget = VegaWidget(spec=spec)\n",
    "display(widget)"
   ]
  },
  {
   "cell_type": "code",
   "execution_count": 17,
   "metadata": {},
   "outputs": [],
   "source": [
    "# update the plot dynamically\n",
    "for t in range(10, 20):\n",
    "    value = dict(c=random.choice([0, 1, 2]), v=random.randint(1, 10), t=t)\n",
    "    widget.update('table', remove=f'datum.t < {t - 5}', insert=[value])\n",
    "    time.sleep(1)"
   ]
  },
  {
   "cell_type": "code",
   "execution_count": null,
   "metadata": {},
   "outputs": [],
   "source": []
  }
 ],
 "metadata": {
  "kernelspec": {
   "display_name": "Python 3",
   "language": "python",
   "name": "python3"
  },
  "language_info": {
   "codemirror_mode": {
    "name": "ipython",
    "version": 3
   },
   "file_extension": ".py",
   "mimetype": "text/x-python",
   "name": "python",
   "nbconvert_exporter": "python",
   "pygments_lexer": "ipython3",
   "version": "3.6.4"
  }
 },
 "nbformat": 4,
 "nbformat_minor": 2
}
