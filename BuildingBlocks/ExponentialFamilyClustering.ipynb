{
 "cells": [
  {
   "cell_type": "markdown",
   "metadata": {},
   "source": [
    "# Expectation–maximization for Clustering\n",
    "\n",
    "This code follows chapters 9 and 10 of the Bishop Book.\n",
    "\n",
    "Important formulas:\n",
    "\n",
    "$$\n",
    "    \\log q_j^\\star(z_j) = \\mathbb{E}_{i \\neq j} \\log p(X, Z) + \\mathrm{const}\n",
    "$$\n",
    "\n",
    "$$\n",
    "    P(X, Z) = P(X|\\theta, Z) P(Z | \\pi)\n",
    "$$"
   ]
  },
  {
   "cell_type": "code",
   "execution_count": null,
   "metadata": {
    "collapsed": true
   },
   "outputs": [],
   "source": [
    "%matplotlib inline"
   ]
  },
  {
   "cell_type": "code",
   "execution_count": null,
   "metadata": {
    "collapsed": true
   },
   "outputs": [],
   "source": [
    "import math\n",
    "\n",
    "import matplotlib as mpl\n",
    "import matplotlib.pyplot as plt\n",
    "import numpy as np\n",
    "import scipy.special\n",
    "import seaborn as sns"
   ]
  },
  {
   "cell_type": "code",
   "execution_count": null,
   "metadata": {
    "collapsed": true
   },
   "outputs": [],
   "source": [
    "class EMMixtureModel(object):\n",
    "    def __init__(self, n_components, n_iter=100):\n",
    "        self.n_components = n_components \n",
    "        self.n_iter = n_iter\n",
    "\n",
    "        self._mixture_weights = None\n",
    "        self._params = None\n",
    "        \n",
    "    def fit(self, *x):\n",
    "        params = self._initial_params()\n",
    "        pi = np.ones(self.n_components) / self.n_components\n",
    "        \n",
    "        for _ in range(self.n_iter):\n",
    "            gamma = self._responsibility(x, pi, params)\n",
    "            params = self._sufficient_statistics(gamma, x)\n",
    "\n",
    "            pi = gamma.sum(axis=1)\n",
    "            pi /= pi.sum()\n",
    "        \n",
    "        self._mixture_weights = pi\n",
    "        self._params = params\n",
    "        return self\n",
    "    \n",
    "    def predict_proba(self, *x):\n",
    "        return sum(\n",
    "            self._mixture_weights[i] * self._component_density(x, self._mixture_params(i, self._params))\n",
    "            for i in range(self.n_components)\n",
    "        )\n",
    "    \n",
    "    def predict_responsibility(self, *x):\n",
    "        return self._responsibility(x, self._mixture_weights, self._params)\n",
    "    \n",
    "    @staticmethod\n",
    "    def _mixture_params(i, params):\n",
    "        return [p[i] for p in params]\n",
    "    \n",
    "    def _responsibility(self, x, pi, parameters):\n",
    "        result = [\n",
    "            pi[i] * self._component_density(x, self._mixture_params(i, parameters))\n",
    "            for i in range(self.n_components)\n",
    "        ]\n",
    "        \n",
    "        result = np.stack(result)\n",
    "        result /= result.sum(axis=0, keepdims=True)\n",
    "\n",
    "        return result\n",
    "    \n",
    "    def _initial_params(self):\n",
    "        raise NotImplementedError()\n",
    "    \n",
    "    def _component_density(self, ):\n",
    "        raise NotImplementedError()\n",
    "    \n",
    "    def _sufficient_statistics(self, gamma, x):\n",
    "        raise NotImplementedError()\n",
    "        \n",
    "        \n",
    "class GaussianMixtureModel(EMMixtureModel):\n",
    "    @staticmethod\n",
    "    def _component_density(x, params):\n",
    "        x, = x\n",
    "        mu, sigma = params\n",
    "        d = (x - mu) / sigma\n",
    "        return np.exp(-d ** 2.0) / (np.sqrt(2.0 * np.pi) * sigma)\n",
    "    \n",
    "    @staticmethod\n",
    "    def _sufficient_statistics(gamma, x):\n",
    "        x, = x\n",
    "        Nk = gamma.sum(axis=1)\n",
    "\n",
    "        mu = (gamma * x).sum(axis=1) / Nk\n",
    "        sigma = (gamma * (x - mu[..., None]) ** 2.0).sum(axis=1) / Nk\n",
    "        sigma **= 0.5\n",
    "\n",
    "        return mu, sigma\n",
    "    \n",
    "    @staticmethod\n",
    "    def _initial_params():\n",
    "        mu = np.random.uniform(-20, +20, 3)\n",
    "        sigma = np.ones(3)\n",
    "\n",
    "        return mu, sigma\n",
    "    \n",
    "    \n",
    "class PoissonMixtureModel(EMMixtureModel):\n",
    "    @staticmethod\n",
    "    def _component_density(x, params):\n",
    "        x, = x\n",
    "        mu, = params\n",
    "        \n",
    "        # use numerically stable evaluation method, taken from wikipedia\n",
    "        p = np.exp(x * np.log(mu) - mu - scipy.special.gammaln(x + 1))\n",
    "        return p\n",
    "        \n",
    "    @staticmethod\n",
    "    def _sufficient_statistics(gamma, x):\n",
    "        x, = x\n",
    "        Nk = gamma.sum(axis=1)\n",
    "        mu = (gamma * x).sum(axis=1) / Nk\n",
    "        return mu,\n",
    "    \n",
    "    def _initial_params(self):\n",
    "        mu = np.random.gamma(1.0, 10.0, self.n_components)\n",
    "        return mu,\n",
    "    \n",
    "    \n",
    "class ExponentialMixtureModel(EMMixtureModel):\n",
    "    @staticmethod\n",
    "    def _component_density(x, params):\n",
    "        x, = x\n",
    "        tau, = params\n",
    "        return np.exp(-x / tau) / tau\n",
    "        \n",
    "    @staticmethod\n",
    "    def _sufficient_statistics(gamma, x):\n",
    "        x, = x\n",
    "        tau = (gamma * x).sum(axis=1) / gamma.sum(axis=1)\n",
    "        return tau,\n",
    "    \n",
    "    def _initial_params(self):\n",
    "        tau = np.random.gamma(1.0, 10.0, self.n_components)\n",
    "        return tau,\n",
    "    \n",
    "\n",
    "class ExponentialSurvivalMixtureModel(EMMixtureModel):\n",
    "    @staticmethod\n",
    "    def _component_density(x, params):\n",
    "        t, d = x\n",
    "        tau, = params\n",
    "        norm = 1.0 + d * (tau - 1)\n",
    "        return np.exp(-t / tau) / norm\n",
    "        \n",
    "    @staticmethod\n",
    "    def _sufficient_statistics(gamma, x):\n",
    "        t, d = x\n",
    "        \n",
    "        T = (gamma * t).sum(axis=1)\n",
    "        D = (gamma * d).sum(axis=1)\n",
    "        return T / D,\n",
    "    \n",
    "    def _initial_params(self):\n",
    "        tau = np.random.gamma(1.0, 10.0, self.n_components)\n",
    "        return tau,\n"
   ]
  },
  {
   "cell_type": "code",
   "execution_count": null,
   "metadata": {
    "collapsed": true
   },
   "outputs": [],
   "source": [
    "color_cycle = mpl.rcParams['axes.prop_cycle'].by_key()['color']"
   ]
  },
  {
   "cell_type": "code",
   "execution_count": null,
   "metadata": {},
   "outputs": [
    {
     "data": {
      "image/png": "[encoded data removed]",
      "text/plain": [
       "<matplotlib.figure.Figure at 0x10beb3e10>"
      ]
     },
     "metadata": {},
     "output_type": "display_data"
    }
   ],
   "source": [
    "n_clusters = 3\n",
    "\n",
    "np.random.seed(100)\n",
    "cluster = np.random.choice(range(n_clusters), p=[0.2, 0.3, 0.5], size=1000)\n",
    "centers = np.random.uniform(-20, 20, size=n_clusters)\n",
    "x = np.random.normal(centers[cluster], 1.0)\n",
    "\n",
    "model = GaussianMixtureModel(n_components=3)\n",
    "model.fit(x)\n",
    "\n",
    "xp = np.linspace(-20, 20, 100)\n",
    "pp = model.predict_proba(xp)\n",
    "\n",
    "plt.hist(x, range=(-30, 30), bins=50, normed=True)\n",
    "for c in centers:\n",
    "    plt.axvline(x=c)\n",
    "\n",
    "plt.plot(xp, pp)\n",
    "\n",
    "pass"
   ]
  },
  {
   "cell_type": "markdown",
   "metadata": {},
   "source": [
    "# Poisson clustering\n",
    "\n",
    "$$\n",
    "    p(k; \\mu) = \\frac{\\mu^k}{k!} e^{-\\mu}\n",
    "$$"
   ]
  },
  {
   "cell_type": "code",
   "execution_count": null,
   "metadata": {
    "scrolled": false
   },
   "outputs": [
    {
     "data": {
      "image/png": "[encoded data removed]",
      "text/plain": [
       "<matplotlib.figure.Figure at 0x10f8daf60>"
      ]
     },
     "metadata": {},
     "output_type": "display_data"
    }
   ],
   "source": [
    "np.random.seed(42)\n",
    "mu = np.random.gamma(1.0, 10.0, 3)\n",
    "z = np.random.choice([0, 1, 2], p=[0.1, 0.3, 0.6], size=1000)\n",
    "x = np.random.poisson(mu[z])\n",
    "\n",
    "model = PoissonMixtureModel(n_components=3)\n",
    "model.fit(x)\n",
    "\n",
    "xp = np.arange(50)\n",
    "pp = model.predict_proba(xp)\n",
    "\n",
    "plt.hist(x, bins=np.arange(50) - 0.5, normed=True)\n",
    "plt.plot(xp, pp, color=color_cycle[1])\n",
    "\n",
    "for c in mu:\n",
    "    plt.axvline(c, color=color_cycle[2])\n",
    "    \n",
    "for c in model._params[0]:\n",
    "    plt.axvline(c, color=color_cycle[3], ls='--')\n",
    "    \n",
    "pass"
   ]
  },
  {
   "cell_type": "markdown",
   "metadata": {},
   "source": [
    "# Exponential Distribution\n",
    "\n",
    "Probability to observe an event at time $t$:\n",
    "\n",
    "$$\n",
    "    f(t;\\tau) = \\frac{e^{-t / \\tau}}{\\tau}\n",
    "$$\n",
    "\n",
    "$$\n",
    "    \\tau^\\star = \\frac{1}{N} \\sum_i t_i\n",
    "$$"
   ]
  },
  {
   "cell_type": "code",
   "execution_count": null,
   "metadata": {},
   "outputs": [
    {
     "data": {
      "image/png": "[encoded data removed]",
      "text/plain": [
       "<matplotlib.figure.Figure at 0x10fb7ee10>"
      ]
     },
     "metadata": {},
     "output_type": "display_data"
    }
   ],
   "source": [
    "np.random.seed(70)\n",
    "mu = np.asarray([5.0, 10.0, 30.0])\n",
    "z = np.random.choice([0, 1, 2], p=[0.1, 0.3, 0.6], size=10000)\n",
    "x = np.random.exponential(mu[z])\n",
    "\n",
    "model = ExponentialMixtureModel(n_components=3)\n",
    "model.fit(x)\n",
    "\n",
    "xp = np.arange(50)\n",
    "pp = model.predict_proba(xp)\n",
    "g = model.predict_responsibility(x)\n",
    "\n",
    "plt.figure(figsize=(12, 4))\n",
    "plt.subplot(1, 2, 1)\n",
    "\n",
    "plt.hist(x, bins=np.arange(50) - 0.5, normed=True)\n",
    "plt.plot(xp, pp, color=color_cycle[1])\n",
    "\n",
    "for c in mu:\n",
    "    plt.axvline(c, color=color_cycle[2])\n",
    "    \n",
    "for c in model._params[0]:\n",
    "    plt.axvline(c, color=color_cycle[3], ls='--')\n",
    "    \n",
    "plt.subplot(1, 2, 2)\n",
    "plt.hist([x] * model.n_components, weights=g, stacked=True, bins=np.arange(50) - 0.5)\n",
    "\n",
    "pass"
   ]
  },
  {
   "cell_type": "markdown",
   "metadata": {},
   "source": [
    "# Exponential Survival Models\n",
    "\n",
    "Probability to observe an event at time $t$:\n",
    "\n",
    "$$\n",
    "    f(t;\\tau) = \\frac{e^{-t / \\tau}}{\\tau}\n",
    "$$\n",
    "\n",
    "For not yet observed events, we only know that the true time has to be larger than the observation time $t_f$. The likelihood for such an event is given by\n",
    "\n",
    "$$\n",
    "    S(t_f) = \\int_{t_f}^\\infty \\mathrm{d}u\\; f(u) = e^{-t_f / \\tau}\n",
    "$$\n",
    "\n",
    "This yields the log-likelihood:\n",
    "\n",
    "$$\n",
    "    \\mathcal{L} = \n",
    "        -\\sum_{i \\in \\text{obs.}} \\frac{t_i}{\\tau} \n",
    "        -\\sum_{i \\in \\text{not obs.}} \\frac{t_f}{\\tau}\n",
    "        -\\sum_{i \\in \\text{obs.}} \\log \\tau\n",
    "$$\n",
    "\n",
    "The optimimum can be found as:\n",
    "\n",
    "$$\n",
    "\\begin{align}\n",
    "    \\tau^\\star &= \\frac{T}{D} \n",
    "\\\\\n",
    "    T &= \\sum_i \\begin{cases}\n",
    "        t_i & \\text{if event is observed} \\\\\n",
    "        t_f & \\text{if event is not observed}\n",
    "    \\end{cases}\n",
    "\\\\\n",
    "    D &= \\sum_i \\begin{cases}\n",
    "        1 & \\text{if event is observed} \\\\\n",
    "        0 & \\text{if event is not observed}\n",
    "    \\end{cases}\n",
    "\\end{align}\n",
    "$$\n",
    "\n",
    "For mixtures, the sums for both $T$ and and $D$ have to be weighted by $\\gamma_i$."
   ]
  },
  {
   "cell_type": "code",
   "execution_count": null,
   "metadata": {},
   "outputs": [
    {
     "data": {
      "image/png": "[encoded data removed]",
      "text/plain": [
       "<matplotlib.figure.Figure at 0x10b5a9ac8>"
      ]
     },
     "metadata": {},
     "output_type": "display_data"
    }
   ],
   "source": [
    "np.random.seed(70)\n",
    "mu = np.asarray([5.0, 10.0, 30.0])\n",
    "z = np.random.choice([0, 1, 2], p=[0.1, 0.3, 0.6], size=10000)\n",
    "z = 2 + 0 * z\n",
    "x = np.random.exponential(mu[z])\n",
    "\n",
    "tc = 80\n",
    "d = x <= tc\n",
    "y = np.minimum(tc, x)\n",
    "\n",
    "model = ExponentialSurvivalMixtureModel(n_components=3)\n",
    "model.fit(y, d)\n",
    "\n",
    "xp = np.arange(100)\n",
    "pp = model.predict_proba(xp, np.ones_like(xp))\n",
    "g = model.predict_responsibility(y, d)\n",
    "\n",
    "plt.figure(figsize=(12, 4))\n",
    "plt.subplot(1, 2, 1)\n",
    "\n",
    "plt.hist(x, bins=np.arange(100) - 0.5, normed=True)\n",
    "plt.axvline(x=tc, color='k', ls=\"-\")\n",
    "plt.plot(xp, pp, color=color_cycle[1])\n",
    "\n",
    "for c in mu:\n",
    "    plt.axvline(c, color=color_cycle[2])\n",
    "    \n",
    "for c in model._params[0]:\n",
    "    plt.axvline(c, color=color_cycle[3], ls='--')\n",
    "\n",
    "plt.subplot(1, 2, 2)\n",
    "plt.hist([x] * model.n_components, weights=g, stacked=True, bins=np.arange(50) - 0.5)\n",
    "    \n",
    "pass"
   ]
  },
  {
   "cell_type": "code",
   "execution_count": null,
   "metadata": {
    "collapsed": true
   },
   "outputs": [],
   "source": []
  }
 ],
 "metadata": {
  "kernelspec": {
   "display_name": "py3-data-science",
   "language": "python",
   "name": "py3-data-science"
  },
  "language_info": {
   "codemirror_mode": {
    "name": "ipython",
    "version": 3
   },
   "file_extension": ".py",
   "mimetype": "text/x-python",
   "name": "python",
   "nbconvert_exporter": "python",
   "pygments_lexer": "ipython3",
   "version": "3.6.1"
  }
 },
 "nbformat": 4,
 "nbformat_minor": 2
}
