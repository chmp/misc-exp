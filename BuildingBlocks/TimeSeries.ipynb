{
 "cells": [
  {
   "cell_type": "code",
   "execution_count": 1,
   "metadata": {
    "ExecuteTime": {
     "end_time": "2018-04-19T20:33:14.150374Z",
     "start_time": "2018-04-19T20:33:12.007409Z"
    }
   },
   "outputs": [],
   "source": [
    "%matplotlib inline\n",
    "import matplotlib.pyplot as plt\n",
    "import numpy as np\n",
    "import tensorflow as tf"
   ]
  },
  {
   "cell_type": "code",
   "execution_count": 2,
   "metadata": {
    "ExecuteTime": {
     "end_time": "2018-04-19T20:33:15.183297Z",
     "start_time": "2018-04-19T20:33:14.893411Z"
    }
   },
   "outputs": [
    {
     "data": {
      "text/plain": [
       "<matplotlib.image.AxesImage at 0x116114470>"
      ]
     },
     "execution_count": 2,
     "metadata": {},
     "output_type": "execute_result"
    },
    {
     "data": {
      "image/png": "[encoded data removed]",
      "text/plain": [
       "<matplotlib.figure.Figure at 0x116092fd0>"
      ]
     },
     "metadata": {},
     "output_type": "display_data"
    }
   ],
   "source": [
    "observed = np.zeros((25, 1, 5))\n",
    "\n",
    "pos = 0\n",
    "vel = +1\n",
    "for t in range(0, observed.shape[0]):\n",
    "    observed[t, 0, pos] = 1\n",
    "    pos += vel\n",
    "    \n",
    "    if (pos <= 0) or (pos >= observed.shape[-1] - 1):\n",
    "        vel = -vel\n",
    "        \n",
    "plt.imshow(observed[:, 0, :].T, interpolation='none', origin='lower', aspect='auto')"
   ]
  },
  {
   "cell_type": "code",
   "execution_count": 3,
   "metadata": {
    "ExecuteTime": {
     "end_time": "2018-04-19T20:33:16.897920Z",
     "start_time": "2018-04-19T20:33:16.057078Z"
    },
    "scrolled": false
   },
   "outputs": [],
   "source": [
    "# modeled after: https://arxiv.org/pdf/1511.05121.pdf\n",
    "tf.reset_default_graph()\n",
    "\n",
    "x_ = tf.placeholder(tf.float32, shape=[None, None, 5])\n",
    "\n",
    "time_steps_ = tf.shape(x_)[0]\n",
    "batch_size_ = tf.shape(x_)[1]\n",
    "\n",
    "# summarize future observed states\n",
    "# TODO: learn initial state\n",
    "x_summary_initial_ = tf.zeros([batch_size_, 10])\n",
    "x_summary_dense_ = tf.layers.Dense(units=10, activation=tf.nn.relu)\n",
    "\n",
    "def update_x_summary(current, observed):\n",
    "    return x_summary_dense_(tf.concat([current, observed], axis=-1))\n",
    "    \n",
    "\n",
    "# NOTE: apply in anti-causal direction\n",
    "x_summary_ = tf.scan(update_x_summary, x_[::-1], x_summary_initial_)\n",
    "x_summary_ = x_summary_[::-1]\n",
    "\n",
    "# sample the latent state\n",
    "initial_loc_ = tf.Variable([0.0, 0.0], dtype=tf.float32)\n",
    "initial_scale_ = tf.Variable([0.0, 0.0], dtype=tf.float32)\n",
    "\n",
    "initial_latent_ = initial_loc_ + initial_scale_ * tf.random_normal([batch_size_, 2])\n",
    "\n",
    "qz_loc_dense_ = tf.layers.Dense(units=2, activation=tf.nn.relu)\n",
    "qz_scale_dense_ = tf.layers.Dense(units=2, activation=tf.nn.softplus)\n",
    "\n",
    "def update_qz(current, observed):\n",
    "    _, _, current = current\n",
    "    latent_shape_ = tf.shape(current)\n",
    "    current = tf.concat([current, observed], axis=-1)\n",
    "    \n",
    "    loc_ = qz_loc_dense_(current)\n",
    "    scale_ = qz_scale_dense_(current)\n",
    "    \n",
    "    return [loc_, scale_, loc_ + scale_ * tf.random_normal(latent_shape_)]\n",
    "\n",
    "qz_loc_, qz_scale_, z_ = tf.scan(\n",
    "    update_qz, x_summary_, [\n",
    "        tf.tile(tf.expand_dims(initial_loc_, axis=0), [batch_size_, 1]), \n",
    "        tf.tile(tf.expand_dims(initial_scale_, axis=0), [batch_size_, 1]),\n",
    "        initial_latent_,\n",
    "    ],\n",
    ")\n",
    "\n",
    "pz_loc_dense_ = tf.layers.Dense(units=2, activation=tf.nn.relu)\n",
    "pz_scale_dense_ = tf.layers.Dense(units=2, activation=tf.nn.softplus)\n",
    "\n",
    "def update_pz(_, latent_):\n",
    "    return [pz_loc_dense_(latent_), pz_scale_dense_(latent_)]\n",
    "\n",
    "pz_loc_, pz_scale_ = tf.scan(\n",
    "    update_pz, z_,\n",
    "    [\n",
    "        tf.tile(tf.expand_dims(initial_loc_, axis=0), [batch_size_, 1]), \n",
    "        tf.tile(tf.expand_dims(initial_scale_, axis=0), [batch_size_, 1]),\n",
    "    ],\n",
    ")\n",
    "\n",
    "qz_ = tf.distributions.Normal(qz_loc_, qz_scale_)\n",
    "pz_ = tf.distributions.Normal(pz_loc_, pz_scale_)\n",
    "\n",
    "px_loc_ = tf.layers.dense(z_, 5, activation=tf.nn.relu)\n",
    "px_scale_ = tf.layers.dense(z_, 5, activation=tf.nn.softplus)\n",
    "\n",
    "px_ = tf.distributions.Normal(px_loc_, px_scale_)"
   ]
  },
  {
   "cell_type": "code",
   "execution_count": null,
   "metadata": {},
   "outputs": [],
   "source": []
  }
 ],
 "metadata": {
  "hide_input": false,
  "kernelspec": {
   "display_name": "py3",
   "language": "python",
   "name": "py3"
  },
  "language_info": {
   "codemirror_mode": {
    "name": "ipython",
    "version": 3
   },
   "file_extension": ".py",
   "mimetype": "text/x-python",
   "name": "python",
   "nbconvert_exporter": "python",
   "pygments_lexer": "ipython3",
   "version": "3.6.4"
  },
  "toc": {
   "nav_menu": {},
   "number_sections": true,
   "sideBar": true,
   "skip_h1_title": false,
   "toc_cell": false,
   "toc_position": {},
   "toc_section_display": "block",
   "toc_window_display": false
  }
 },
 "nbformat": 4,
 "nbformat_minor": 2
}
