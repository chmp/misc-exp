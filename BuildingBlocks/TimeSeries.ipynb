{
 "cells": [
  {
   "cell_type": "code",
   "execution_count": 247,
   "metadata": {
    "ExecuteTime": {
     "end_time": "2018-04-28T09:08:08.736948Z",
     "start_time": "2018-04-28T09:08:08.712832Z"
    }
   },
   "outputs": [],
   "source": [
    "%matplotlib inline\n",
    "import matplotlib.pyplot as plt\n",
    "import numpy as np\n",
    "import pandas as pd\n",
    "import pytest\n",
    "\n",
    "import torch\n",
    "import torch.distributions as dist\n",
    "import torch.nn as nn\n",
    "import torch.nn.functional as F\n",
    "\n",
    "\n",
    "from chmp.ds import Loop, define, mpl_set\n",
    "from ipytest import magics\n",
    "from tqdm import tqdm"
   ]
  },
  {
   "cell_type": "code",
   "execution_count": 258,
   "metadata": {
    "ExecuteTime": {
     "end_time": "2018-04-28T09:16:55.755580Z",
     "start_time": "2018-04-28T09:16:55.749626Z"
    }
   },
   "outputs": [],
   "source": [
    "__file__ = 'TimeSeries.ipynb'\n",
    "floatx = torch.float32"
   ]
  },
  {
   "cell_type": "markdown",
   "metadata": {},
   "source": [
    "# Pytorch API Tests"
   ]
  },
  {
   "cell_type": "code",
   "execution_count": 284,
   "metadata": {
    "ExecuteTime": {
     "end_time": "2018-04-28T09:44:15.882730Z",
     "start_time": "2018-04-28T09:44:15.754391Z"
    }
   },
   "outputs": [
    {
     "name": "stdout",
     "output_type": "stream",
     "text": [
      "================================================================================ test session starts ================================================================================\n",
      "platform darwin -- Python 3.6.4, pytest-3.3.2, py-1.5.2, pluggy-0.6.0\n",
      "rootdir: /Volumes/Home/Code/misc-exp, inifile: pytest.ini\n",
      "collected 2 items\n",
      "\n",
      "TimeSeries.py ..                                                                                                                                                              [100%]\n",
      "\n",
      "============================================================================= 2 passed in 0.07 seconds ==============================================================================\n"
     ]
    }
   ],
   "source": [
    "%%run_pytest[clean]\n",
    "\n",
    "def test_distributions_sample_api():\n",
    "    p = dist.Normal(torch.zeros(3, dtype=floatx), torch.ones(3, dtype=floatx))\n",
    "    \n",
    "    assert p.sample().shape == (3,)\n",
    "    assert p.sample((2,)).shape == (2, 3)\n",
    "    assert p.sample((1, 2)).shape == (1, 2, 3)\n",
    "    \n",
    "    with pytest.raises(TypeError):\n",
    "        p.sample(2)\n",
    "        \n",
    "    # can only use tuple arguments\n",
    "    with pytest.raises(TypeError):\n",
    "        assert p.sample([2]).shape == (2, 3)\n",
    "        \n",
    "        \n",
    "def test_module_multiple_inputs():\n",
    "    class CustomModule(nn.Module):\n",
    "        def forward(self, a, b):\n",
    "            return (a * b).sum()\n",
    "    \n",
    "    mod = CustomModule()\n",
    "    a = torch.tensor([1.0, 2.0], requires_grad=True)\n",
    "    b = torch.tensor([3.0, 4.0], requires_grad=True)\n",
    "    \n",
    "    c = mod(a, b)\n",
    "    c.backward()\n",
    "    \n",
    "    assert a.grad.detach().numpy() == pytest.approx([3.0, 4.0])\n",
    "    assert b.grad.detach().numpy() == pytest.approx([1.0, 2.0])"
   ]
  },
  {
   "cell_type": "code",
   "execution_count": 477,
   "metadata": {
    "ExecuteTime": {
     "end_time": "2018-04-28T19:27:05.013669Z",
     "start_time": "2018-04-28T19:27:05.008915Z"
    }
   },
   "outputs": [],
   "source": [
    "import bisect"
   ]
  },
  {
   "cell_type": "code",
   "execution_count": 563,
   "metadata": {
    "ExecuteTime": {
     "end_time": "2018-04-28T20:36:42.707615Z",
     "start_time": "2018-04-28T20:36:42.559566Z"
    }
   },
   "outputs": [],
   "source": [
    "class PiecewiseSchedule:\n",
    "    def __init__(self, schedule):\n",
    "        if schedule  and schedule[0][0] is None:\n",
    "            _, self.left = schedule[0]\n",
    "            schedule = schedule[1:]\n",
    "            \n",
    "        else:\n",
    "            _, self.left = schedule[0]\n",
    "            \n",
    "        if schedule and schedule[-1][0] is None:\n",
    "            _, self.right = schedule[-1]\n",
    "            schedule = schedule[:-1]\n",
    "        \n",
    "        else:\n",
    "            _, self.right = schedule[-1]\n",
    "        \n",
    "        self.x = [x for x, _ in schedule]\n",
    "        self.y = [y for _, y in schedule]\n",
    "\n",
    "    def __call__(self, x):\n",
    "        if x < self.x[0]:\n",
    "            return self.left\n",
    "        \n",
    "        elif x >= self.x[-1]:\n",
    "            return self.right\n",
    "        \n",
    "        else:\n",
    "            interval = bisect.bisect_left(self.x[1:-1], x)\n",
    "            u = (x - self.x[interval]) / (self.x[interval + 1] - self.x[interval])\n",
    "            return self.interpolate(u, self.y[interval], self.y[interval + 1])\n",
    "        \n",
    "        raise RuntimeError()\n",
    "    \n",
    "    def interpolate(self, u, x0, x1):\n",
    "        raise NotImplementedError()\n",
    "    \n",
    "        \n",
    "class PiecewiseLinearSchedule(PiecewiseSchedule):\n",
    "    @staticmethod\n",
    "    def interpolate(u, x0, x1):\n",
    "        return (1 - u) * x0 + u * x1\n",
    "    \n",
    "    \n",
    "class PiecewiseLogSchedule(PiecewiseSchedule):\n",
    "    @staticmethod\n",
    "    def interpolate(u, x0, x1):\n",
    "        return (x0 ** (1 - u)) * (x1 ** u)"
   ]
  },
  {
   "cell_type": "code",
   "execution_count": 685,
   "metadata": {
    "ExecuteTime": {
     "end_time": "2018-04-29T10:34:10.008879Z",
     "start_time": "2018-04-29T10:34:09.521745Z"
    }
   },
   "outputs": [
    {
     "name": "stdout",
     "output_type": "stream",
     "text": [
      "================================================================================ test session starts ================================================================================\n",
      "platform darwin -- Python 3.6.4, pytest-3.3.2, py-1.5.2, pluggy-0.6.0\n",
      "rootdir: /Volumes/Home/Code/misc-exp, inifile: pytest.ini\n",
      "collected 2 items\n",
      "\n",
      "TimeSeries.py ..                                                                                                                                                              [100%]\n",
      "\n",
      "============================================================================= 2 passed in 0.07 seconds ==============================================================================\n"
     ]
    }
   ],
   "source": [
    "%%run_pytest[clean] -l\n",
    "\n",
    "def test_piecewise_linear_schedule():\n",
    "    schedule = PiecewiseLinearSchedule([\n",
    "        (None, 20),\n",
    "        (10, 30),\n",
    "        (20, 40),\n",
    "        (None, 50),\n",
    "    ])\n",
    "    \n",
    "    assert schedule(5.0) == pytest.approx(20.0)\n",
    "    assert schedule(10.0) == pytest.approx(30.0)\n",
    "    assert schedule(12.5) == pytest.approx(32.5)\n",
    "    assert schedule(15.0) == pytest.approx(35.0)\n",
    "    assert schedule(17.5) == pytest.approx(37.5)\n",
    "    assert schedule(20.0) == pytest.approx(50.0)\n",
    "    assert schedule(25.0) == pytest.approx(50.0)\n",
    "    \n",
    "    \n",
    "def test_piecewise_linear_schedule_no_boundaries():\n",
    "    schedule = PiecewiseLinearSchedule([\n",
    "        (10, 30),\n",
    "        (20, 40),\n",
    "    ])\n",
    "    \n",
    "    assert schedule(5) == pytest.approx(30)\n",
    "    assert schedule(10) == pytest.approx(30)\n",
    "    assert schedule(12.5) == pytest.approx(32.5)\n",
    "    assert schedule(15.0) == pytest.approx(35.0)\n",
    "    assert schedule(17.5) == pytest.approx(37.5)\n",
    "    assert schedule(20) == pytest.approx(40)\n",
    "    assert schedule(25) == pytest.approx(40)\n",
    "    "
   ]
  },
  {
   "cell_type": "markdown",
   "metadata": {},
   "source": [
    "# Support Code\n"
   ]
  },
  {
   "cell_type": "code",
   "execution_count": 895,
   "metadata": {
    "ExecuteTime": {
     "end_time": "2018-05-01T08:32:30.061924Z",
     "start_time": "2018-05-01T08:32:29.680340Z"
    }
   },
   "outputs": [],
   "source": [
    "def safe_scale(x):\n",
    "    return 1e-2 + F.softplus(x)\n",
    "\n",
    "\n",
    "class SafeScale(nn.Module):\n",
    "    def forward(x):\n",
    "        return safe_scale(x)\n",
    "    \n",
    "    \n",
    "class Cat(nn.Module):\n",
    "    def __init__(self, dim, nargs=None):\n",
    "        super().__init__()\n",
    "        self.dim = dim\n",
    "        self.nargs = nargs\n",
    "    \n",
    "    def forward(self, *args):\n",
    "        if self.nargs is None:\n",
    "            self.nargs = len(args)\n",
    "        \n",
    "        assert self.nargs == len(nargs)\n",
    "        return torch.cat(list(args), dim)\n",
    "\n",
    "class Parallel(nn.Module):\n",
    "    def __init__(self, *modules):\n",
    "        super().__init__()\n",
    "        self.modules = modules\n",
    "    \n",
    "    def forward(self, x):\n",
    "        return tuple(mod(x) for x in self.modules)\n",
    "    \n",
    "    \n",
    "class MultiLinear(nn.Module):\n",
    "    def __init__(self, in_features, out_features):\n",
    "        super().__init__()\n",
    "        \n",
    "        self.out_features = out_features\n",
    "        if not isinstance(in_features, (tuple, list)):\n",
    "            self.in_features = (in_features,)\n",
    "        \n",
    "        else:\n",
    "            self.in_features = tuple(in_features)\n",
    "    \n",
    "        self.layer = nn.Linear(sum(self.in_features), self.out_features)\n",
    "    \n",
    "    @property\n",
    "    def bias(self):\n",
    "        return self.layer.bias\n",
    "\n",
    "    @property\n",
    "    def weight(self):\n",
    "        return self.layer.weight\n",
    "    \n",
    "    def forward(self, *x):\n",
    "        # allow MultiLinear to be used in a Sequential Container\n",
    "        if len(x) == 1 and len(self.in_features) != 1:\n",
    "            assert isinstance(x[0], tuple)\n",
    "            x = x[0]\n",
    "        \n",
    "        assert len(x) == len(self.in_features)\n",
    "        x = torch.cat(list(x), dim=-1)\n",
    "        return self.layer(x)\n",
    "    \n",
    "    \n",
    "class LocationScaleNetwork(nn.Module):\n",
    "    def __init__(self, n_input, n_hidden, n_output):\n",
    "        super().__init__()\n",
    "        \n",
    "        self.to_hidden = MultiLinear(n_input, n_hidden)\n",
    "        self.to_loc = nn.Linear(n_hidden, n_output)\n",
    "        self.to_scale = nn.Linear(n_hidden, n_output)\n",
    "        \n",
    "        nn.init.kaiming_normal_(self.to_hidden.layer.weight)\n",
    "        nn.init.constant_(self.to_hidden.layer.bias, 0.0)\n",
    "        \n",
    "        nn.init.xavier_uniform_(self.to_loc.weight)\n",
    "        nn.init.constant_(self.to_loc.bias, 0.0)\n",
    "        \n",
    "        nn.init.kaiming_normal_(self.to_scale.weight)\n",
    "        nn.init.constant_(self.to_scale.bias, 0.0)\n",
    "        \n",
    "    def forward(self, *x):\n",
    "        x = F.elu(self.to_hidden(*x))\n",
    "        return self.to_loc(x), safe_scale(self.to_scale(x))"
   ]
  },
  {
   "cell_type": "markdown",
   "metadata": {},
   "source": [
    "# \"Bouncing Ball\" Example"
   ]
  },
  {
   "cell_type": "code",
   "execution_count": 1489,
   "metadata": {
    "ExecuteTime": {
     "end_time": "2018-05-04T21:40:48.405812Z",
     "start_time": "2018-05-04T21:40:48.123599Z"
    }
   },
   "outputs": [
    {
     "data": {
      "text/plain": [
       "<matplotlib.image.AxesImage at 0x12f2cd978>"
      ]
     },
     "execution_count": 1489,
     "metadata": {},
     "output_type": "execute_result"
    },
    {
     "data": {
      "image/png": "[encoded data removed]",
      "text/plain": [
       "<matplotlib.figure.Figure at 0x12f3155c0>"
      ]
     },
     "metadata": {},
     "output_type": "display_data"
    }
   ],
   "source": [
    "# Create default graph\n",
    "x = np.zeros((25, 10, 5))\n",
    "\n",
    "idx = np.arange(10)\n",
    "pos = np.random.randint(0, 5, size=10)\n",
    "vel = np.ones(10, dtype=np.int64)\n",
    "for t in range(0, x.shape[0]):\n",
    "    x[t, idx, pos] = 1\n",
    "    pos += vel\n",
    "    \n",
    "    sel = np.logical_or((pos <= 0), (pos >= x.shape[-1] - 1))\n",
    "    vel[sel] = -vel[sel]\n",
    "    pos = np.clip(pos, 0, x.shape[-1] - 1)\n",
    "        \n",
    "plt.imshow(x[:, 0, :].T, interpolation='none', origin='lower', aspect='auto')"
   ]
  },
  {
   "cell_type": "code",
   "execution_count": 1490,
   "metadata": {
    "ExecuteTime": {
     "end_time": "2018-05-04T21:40:48.441556Z",
     "start_time": "2018-05-04T21:40:48.436876Z"
    }
   },
   "outputs": [],
   "source": [
    "x = torch.from_numpy(x.astype('float32'))"
   ]
  },
  {
   "cell_type": "markdown",
   "metadata": {},
   "source": [
    "## Variational Autoencoder"
   ]
  },
  {
   "cell_type": "markdown",
   "metadata": {},
   "source": [
    "Generative model:\n",
    "\n",
    "$$\n",
    "\\begin{align}\n",
    "    z &\\sim \\mathcal{N}(0, 1) \\\\\n",
    "    x &\\sim \\mathcal{N}(\\mu_p(x), \\sigma_p(x))\n",
    "\\end{align}\n",
    "$$\n",
    "\n",
    "Variational model:\n",
    "\n",
    "$$\n",
    "    z \\sim \\mathcal{N}(\\mu_q(x), \\sigma_q(x))\n",
    "$$"
   ]
  },
  {
   "cell_type": "code",
   "execution_count": 695,
   "metadata": {
    "ExecuteTime": {
     "end_time": "2018-04-29T10:55:20.543876Z",
     "start_time": "2018-04-29T10:55:20.537771Z"
    }
   },
   "outputs": [],
   "source": [
    "def multi_append(lists, *items):\n",
    "    for l, i in zip(lists, items):\n",
    "        l.append(i)"
   ]
  },
  {
   "cell_type": "code",
   "execution_count": 985,
   "metadata": {
    "ExecuteTime": {
     "end_time": "2018-05-01T15:22:08.058631Z",
     "start_time": "2018-05-01T15:22:07.772017Z"
    }
   },
   "outputs": [],
   "source": [
    "class IndependentEncoder(nn.Module):\n",
    "    def __init__(self, dim_x, n_hidden, dim_z):\n",
    "        super().__init__()\n",
    "        self.qz_network = LocationScaleNetwork(dim_x, n_hidden, dim_z)\n",
    "    \n",
    "    def __call__(self, x):\n",
    "        qz_loc, qz_scale = self.qz_network(x)\n",
    "        qz = dist.Normal(qz_loc, qz_scale)\n",
    "        return qz, qz.rsample()\n",
    "    \n",
    "        #res = [], [], []\n",
    "        #\n",
    "        #for t in range(len(x)):        \n",
    "        #    qz_loc, qz_scale = self.qz_network(x[t])\n",
    "        #    eps = torch.normal(torch.zeros_like(qz_loc), torch.ones_like(qz_scale))\n",
    "        #    \n",
    "        #    multi_append(res, qz_loc, qz_scale, qz_loc + eps * qz_scale)\n",
    "        #\n",
    "        #return (\n",
    "        #    dist.Normal(torch.stack(res[0]), torch.stack(res[1])),\n",
    "        #    torch.stack(res[2]),\n",
    "        #)\n",
    "\n",
    "    \n",
    "class IndependentDecoder(nn.Module):\n",
    "    def __init__(self, dim_x, n_hidden, dim_z):\n",
    "        super().__init__()\n",
    "        self.px_network = LocationScaleNetwork(dim_z, n_hidden, dim_x)\n",
    "    \n",
    "    def __call__(self, z):\n",
    "        px_loc, px_scale = self.px_network(z)\n",
    "        return dist.Normal(px_loc, px_scale)\n",
    "        \n",
    "\n",
    "class IndependentDecoderLoop(nn.Module):\n",
    "    def __init__(self, dim_x, n_hidden, dim_z):\n",
    "        super().__init__()\n",
    "        self.px_network = LocationScaleNetwork(dim_z, n_hidden, dim_x)\n",
    "    \n",
    "    def __call__(self, z):\n",
    "        res = [], []\n",
    "        \n",
    "        for t in range(len(z)):\n",
    "            px_loc, px_scale = self.px_network(z[t])\n",
    "            multi_append(res, px_loc, px_scale)\n",
    "        \n",
    "        return dist.Normal(torch.stack(res[0]), torch.stack(res[1]))\n",
    "    \n",
    "    \n",
    "class StandardNormalPrior(nn.Module):\n",
    "    def __call__(self, x, z):\n",
    "        return dist.Normal(0, 1)\n",
    "    \n",
    "    \n",
    "class DeepKalmanFilter(nn.Module):\n",
    "    def __init__(self, *, encoder, decoder, prior):\n",
    "        super().__init__()\n",
    "        self.encoder = encoder\n",
    "        self.decoder = decoder\n",
    "        self.prior = prior\n",
    "        \n",
    "    def compute_loss(self, x, regularization=1.0):\n",
    "        qz, z = self.encoder(x)\n",
    "        px = self.decoder(z)\n",
    "        pz = self.prior(x, z)\n",
    "        \n",
    "        elbo = (\n",
    "            px.log_prob(x).sum() \n",
    "            - regularization * dist.kl.kl_divergence(qz, pz).sum()\n",
    "        )\n",
    "        \n",
    "        return -elbo / (x.shape[0] * x.shape[1])\n",
    "    \n",
    "    def compute_reconstruction_error(self, x):\n",
    "        _, z = self.encoder(x)\n",
    "        x_mean = self.decoder(z).mean\n",
    "        return float(((x - x_mean) ** 2.0).mean())        "
   ]
  },
  {
   "cell_type": "code",
   "execution_count": 974,
   "metadata": {
    "ExecuteTime": {
     "end_time": "2018-05-01T13:24:24.474200Z",
     "start_time": "2018-05-01T13:02:29.832196Z"
    }
   },
   "outputs": [
    {
     "name": "stdout",
     "output_type": "stream",
     "text": [
      "[⣿⣿⣿⣿⣿⣿⣿⣿⣿⣿ 21m 54s / 21m 55s] 39950: -10.698 0.000                                                                     \r"
     ]
    }
   ],
   "source": [
    "regularization_schedule = PiecewiseLinearSchedule([\n",
    "    (0, 1e-2), \n",
    "    (15_000, 1e-2),\n",
    "    (20_000, 1e-0),\n",
    "])\n",
    "\n",
    "n_hidden = 30\n",
    "dim_x = 5\n",
    "dim_z = 2\n",
    "    \n",
    "results = []\n",
    "for loop, _ in Loop.over(range(10)):\n",
    "    model = DeepKalmanFilter(\n",
    "        encoder=IndependentEncoder(dim_x, n_hidden, dim_z),\n",
    "        decoder=IndependentDecoder(dim_x, n_hidden, dim_z),\n",
    "        prior=StandardNormalPrior(),\n",
    "    )\n",
    "    model.train(True)\n",
    "    optimizer = torch.optim.Adam(model.parameters(), lr=1e-2, amsgrad=True)\n",
    "    losses = []\n",
    "\n",
    "    for idx in loop.nest(range(40_000)):\n",
    "        optimizer.zero_grad()\n",
    "        loss = model.compute_loss(\n",
    "            x, regularization=regularization_schedule(idx),\n",
    "        )\n",
    "        loss.backward()\n",
    "        optimizer.step()\n",
    "\n",
    "        if (idx % 50) == 0:\n",
    "            reconst_error = model.compute_reconstruction_error(x)\n",
    "            losses += [(float(loss), reconst_error)]\n",
    "            loop.print(f\"{loop} {idx}: {loss:.3f} {reconst_error:.3f}\")\n",
    "    \n",
    "    results += [np.asarray(losses)]\n",
    "    \n",
    "results = np.asarray(results)\n",
    "losses = np.asarray(losses)"
   ]
  },
  {
   "cell_type": "code",
   "execution_count": 958,
   "metadata": {
    "ExecuteTime": {
     "end_time": "2018-05-01T12:35:22.918380Z",
     "start_time": "2018-05-01T12:35:21.943014Z"
    },
    "scrolled": false
   },
   "outputs": [
    {
     "data": {
      "image/png": "[encoded data removed]",
      "text/plain": [
       "<matplotlib.figure.Figure at 0x128950390>"
      ]
     },
     "metadata": {},
     "output_type": "display_data"
    }
   ],
   "source": [
    "_, (ax1, ax2) = plt.subplots(1, 2, figsize=(8, 4))\n",
    "\n",
    "plt.sca(ax1)\n",
    "plt.plot(results[..., 0].T)\n",
    "plt.ylim(-20, +15)\n",
    "\n",
    "plt.sca(ax2)\n",
    "plt.plot(results[..., 1].T)\n",
    "plt.yscale('log')\n",
    "pass"
   ]
  },
  {
   "cell_type": "code",
   "execution_count": 964,
   "metadata": {
    "ExecuteTime": {
     "end_time": "2018-05-01T12:36:25.019467Z",
     "start_time": "2018-05-01T12:36:24.153510Z"
    }
   },
   "outputs": [
    {
     "data": {
      "image/png": "[encoded data removed]",
      "text/plain": [
       "<matplotlib.figure.Figure at 0x1291d8e10>"
      ]
     },
     "metadata": {},
     "output_type": "display_data"
    }
   ],
   "source": [
    "_, z = model.encoder(x)\n",
    "res = model.decoder(z).mean.detach().numpy()\n",
    "\n",
    "_, (ax1, ax2, ax3) = plt.subplots(1, 3, figsize=(16, 4))\n",
    "\n",
    "plt.sca(ax1)\n",
    "plt.plot(losses[..., 0])\n",
    "mpl_set(title='Loss', xlabel='Iteration', ylabel='Loss')\n",
    "\n",
    "plt.sca(ax2)\n",
    "plt.pcolormesh(np.asarray(x[:, 0, :]).T)\n",
    "mpl_set(colorbar=True, title='Input', xlabel='Time t', ylabel='Position x')\n",
    "\n",
    "plt.sca(ax3)\n",
    "plt.pcolormesh(res[:, 0, :].T)\n",
    "mpl_set(colorbar=True, title='Reconstruction', xlabel='Time t', ylabel='Position x')"
   ]
  },
  {
   "cell_type": "code",
   "execution_count": 960,
   "metadata": {
    "ExecuteTime": {
     "end_time": "2018-05-01T12:35:49.779349Z",
     "start_time": "2018-05-01T12:35:49.771978Z"
    }
   },
   "outputs": [],
   "source": [
    "x_ = x.detach().numpy()\n",
    "z_ = np.asarray([i.detach().numpy() for i in z])"
   ]
  },
  {
   "cell_type": "code",
   "execution_count": 961,
   "metadata": {
    "ExecuteTime": {
     "end_time": "2018-05-01T12:35:50.435590Z",
     "start_time": "2018-05-01T12:35:50.143904Z"
    }
   },
   "outputs": [
    {
     "data": {
      "image/png": "[encoded data removed]",
      "text/plain": [
       "<matplotlib.figure.Figure at 0x128b0f908>"
      ]
     },
     "metadata": {},
     "output_type": "display_data"
    }
   ],
   "source": [
    "for i, c in enumerate('rgbyk'):\n",
    "    plt.plot(\n",
    "        z_[..., 0][x_[..., i] == 1].flatten(),\n",
    "        z_[..., 1][x_[..., i] == 1].flatten(),\n",
    "        c + '.'\n",
    "    )"
   ]
  },
  {
   "cell_type": "markdown",
   "metadata": {},
   "source": [
    "## Deep Kalman Filter"
   ]
  },
  {
   "cell_type": "markdown",
   "metadata": {},
   "source": [
    "Modeled after [Deep Kalman Filters (2015)](https://arxiv.org/abs/1511.05121).\n",
    "\n",
    "$$\n",
    "\\begin{align}\n",
    "    z_1 &\\sim \\mathcal{N}(\\mu_{pz,0}, \\sigma_{pz,0}) \\\\\n",
    "    z_t &\\sim \\mathcal{N}(\\mu_{pz}(z_{t- 1}), \\sigma_{pz}(z_{t - 1})) \\\\\n",
    "    x_t &\\sim \\mathcal{N}(\\mu_{px}(z_t)), \\sigma_{px}(z_t))\n",
    "\\end{align}\n",
    "$$\n",
    "\n",
    "Posterior factorization:\n",
    "$$\n",
    "    p(z_t|\\{x\\}) = p(z_t | z_{t - 1}, x_{t:T})\n",
    "$$\n",
    "\n",
    "Variational approximation:\n",
    "$$\n",
    "\\begin{align}\n",
    "    z_1 &\\sim \\mathcal{N}(\\mu_{qz,0}(x_{t:T}), \\sigma_{qz,0}( x_{1:T})) \\\\\n",
    "    z_t &\\sim \\mathcal{N}(\\mu_{qz}(z_{t - 1}, x_{t:T}), \\sigma_{qz}(z_{t - 1}, x_{t:T}))\n",
    "\\end{align}\n",
    "$$\n",
    "\n",
    "Use an RNN to capture the dependence on $x_{t:T}$."
   ]
  },
  {
   "cell_type": "code",
   "execution_count": 1048,
   "metadata": {
    "ExecuteTime": {
     "end_time": "2018-05-01T18:02:19.929148Z",
     "start_time": "2018-05-01T18:02:19.784110Z"
    }
   },
   "outputs": [],
   "source": [
    "class RecurrentPrior(nn.Module):\n",
    "    def __init__(self, dim_z, n_hidden):\n",
    "        super().__init__()\n",
    "        self.initial_loc = nn.Parameter(\n",
    "            torch.zeros(dim_z, dtype=torch.float32, requires_grad=True)\n",
    "        )\n",
    "        self.initial_scale_raw = nn.Parameter(\n",
    "            torch.zeros(dim_z, dtype=torch.float32, requires_grad=True)\n",
    "        )\n",
    "        \n",
    "        self.pz_network = LocationScaleNetwork(dim_z, n_hidden, dim_z)\n",
    "    \n",
    "    def __call__(self, x, z):\n",
    "        batch_size = x.shape[1]\n",
    "        pz0_loc = self.initial_loc\n",
    "        pz0_scale = safe_scale(self.initial_scale_raw)\n",
    "        \n",
    "        pz_loc, pz_scale = self.pz_network(z[:-1, ...])\n",
    "        \n",
    "        pz_loc = torch.cat([\n",
    "            pz0_loc.expand(1, 1, -1).repeat(1, batch_size, 1),\n",
    "            pz_loc,\n",
    "        ], dim=0)\n",
    "        pz_scale = torch.cat([\n",
    "            pz0_scale.expand(1, 1, -1).repeat(1, batch_size, 1),\n",
    "            pz_scale,\n",
    "        ], dim=0)\n",
    "        \n",
    "        return dist.Normal(pz_loc, pz_scale)\n",
    "    \n",
    "    def simulate(self, time_steps, batch_size=1):\n",
    "        z = [\n",
    "            self.get_initial_dist().sample((batch_size,))\n",
    "        ]\n",
    "        \n",
    "        for _ in range(time_steps - 1):\n",
    "            pz_loc, pz_scale = self.pz_network(z[-1])\n",
    "            pz = dist.Normal(pz_loc, pz_scale)\n",
    "            z += [pz.sample()]\n",
    "        \n",
    "        return torch.stack(z)\n",
    "        \n",
    "    def get_initial_dist(self):\n",
    "        pz0_loc = self.initial_loc\n",
    "        pz0_scale = safe_scale(self.initial_scale_raw)\n",
    "        return dist.Normal(pz0_loc, pz0_scale)"
   ]
  },
  {
   "cell_type": "code",
   "execution_count": 1073,
   "metadata": {
    "ExecuteTime": {
     "end_time": "2018-05-01T20:17:19.641438Z",
     "start_time": "2018-05-01T20:17:19.518356Z"
    }
   },
   "outputs": [],
   "source": [
    "class RecurrentEncoder(nn.Module):\n",
    "    def __init__(self, dim_x, n_hidden, dim_z):\n",
    "        super().__init__()\n",
    "        self.summarize_x = nn.GRU(\n",
    "            input_size=dim_x,\n",
    "            hidden_size=n_hidden,\n",
    "        )\n",
    "        \n",
    "        self.qz0_network = LocationScaleNetwork(n_hidden, n_hidden, dim_z)\n",
    "        self.qz_network = LocationScaleNetwork((dim_z, n_hidden), n_hidden, dim_z)\n",
    "        \n",
    "    def __call__(self, x):\n",
    "        backward_x = x[torch.arange(len(x) - 1, -1, -1).long(), ...]\n",
    "        x_summary_backward, _ = self.summarize_x(backward_x)\n",
    "        x_summary_backward = F.relu(x_summary_backward)\n",
    "        \n",
    "        res = [], [], []\n",
    "        \n",
    "        qz0_loc, qz0_scale = self.qz0_network(x_summary_backward[-1])\n",
    "        z0 = dist.Normal(qz0_loc, qz0_scale).rsample()\n",
    "        \n",
    "        multi_append(res, qz0_loc, qz0_scale, z0)\n",
    "        \n",
    "        for t in range(1, len(x)):\n",
    "            z_arg = res[2][t - 1]\n",
    "            x_arg = x_summary_backward[len(x) - 1 - t]\n",
    "            \n",
    "            qz_loc, qz_scale = self.qz_network(z_arg, x_arg)\n",
    "            z = dist.Normal(qz_loc, qz_scale).rsample()\n",
    "            \n",
    "            multi_append(res, qz_loc, qz_scale, z)\n",
    "        \n",
    "        qz_loc = torch.stack(res[0])\n",
    "        qz_scale = torch.stack(res[1])\n",
    "        z = torch.stack(res[2])\n",
    "        \n",
    "        return dist.Normal(qz_loc, qz_scale), z"
   ]
  },
  {
   "cell_type": "code",
   "execution_count": 1075,
   "metadata": {
    "ExecuteTime": {
     "end_time": "2018-05-01T21:56:30.945457Z",
     "start_time": "2018-05-01T20:17:46.513861Z"
    }
   },
   "outputs": [
    {
     "name": "stdout",
     "output_type": "stream",
     "text": [
      "[⣿⣿⣿⣿▫▫▫▫▫▫ 1h 38m / 4h 0m] 204900: -17.745 0.000                                                                       \r"
     ]
    },
    {
     "ename": "KeyboardInterrupt",
     "evalue": "",
     "output_type": "error",
     "traceback": [
      "\u001b[0;31m---------------------------------------------------------------------------\u001b[0m",
      "\u001b[0;31mKeyboardInterrupt\u001b[0m                         Traceback (most recent call last)",
      "\u001b[0;32m~/Code/misc-exp/BuildingBlocks/TimeSeries.ipynb\u001b[0m in \u001b[0;36m<module>\u001b[0;34m()\u001b[0m\n\u001b[1;32m     24\u001b[0m         \u001b[0moptimizer\u001b[0m\u001b[0;34m.\u001b[0m\u001b[0mzero_grad\u001b[0m\u001b[0;34m(\u001b[0m\u001b[0;34m)\u001b[0m\u001b[0;34m\u001b[0m\u001b[0m\n\u001b[1;32m     25\u001b[0m         loss = model.compute_loss(\n\u001b[0;32m---> 26\u001b[0;31m             \u001b[0mx\u001b[0m\u001b[0;34m,\u001b[0m \u001b[0mregularization\u001b[0m\u001b[0;34m=\u001b[0m\u001b[0mregularization_schedule\u001b[0m\u001b[0;34m(\u001b[0m\u001b[0midx\u001b[0m\u001b[0;34m)\u001b[0m\u001b[0;34m,\u001b[0m\u001b[0;34m\u001b[0m\u001b[0m\n\u001b[0m\u001b[1;32m     27\u001b[0m         )\n\u001b[1;32m     28\u001b[0m         \u001b[0mloss\u001b[0m\u001b[0;34m.\u001b[0m\u001b[0mbackward\u001b[0m\u001b[0;34m(\u001b[0m\u001b[0;34m)\u001b[0m\u001b[0;34m\u001b[0m\u001b[0m\n",
      "\u001b[0;31mKeyboardInterrupt\u001b[0m: "
     ]
    }
   ],
   "source": [
    "regularization_schedule = PiecewiseLinearSchedule([\n",
    "    (0, 1e-2), \n",
    "    (15_000, 1e-2),\n",
    "    (20_000, 1e-0),\n",
    "])\n",
    "\n",
    "n_hidden = 30\n",
    "dim_x = 5\n",
    "dim_z = 2\n",
    "    \n",
    "results = []\n",
    "for loop, _ in Loop.over(range(1)):\n",
    "    model = DeepKalmanFilter(\n",
    "        #encoder=IndependentEncoder(dim_x, n_hidden, dim_z),\n",
    "        encoder=RecurrentEncoder(dim_x, n_hidden, dim_z),\n",
    "        decoder=IndependentDecoder(dim_x, n_hidden, dim_z),\n",
    "        prior=RecurrentPrior(dim_z, n_hidden),\n",
    "    )\n",
    "    model.train(True)\n",
    "    optimizer = torch.optim.Adam(model.parameters(), lr=1e-2, amsgrad=True)\n",
    "    losses = []\n",
    "\n",
    "    for idx in loop.nest(range(500_000)):\n",
    "        optimizer.zero_grad()\n",
    "        loss = model.compute_loss(\n",
    "            x, regularization=regularization_schedule(idx),\n",
    "        )\n",
    "        loss.backward()\n",
    "        optimizer.step()\n",
    "\n",
    "        if (idx % 100) == 0:\n",
    "            reconst_error = model.compute_reconstruction_error(x)\n",
    "            losses += [(float(loss), reconst_error)]\n",
    "            loop.print(f\"{loop} {idx}: {loss:.3f} {reconst_error:.3f}\")\n",
    "    \n",
    "    results += [np.asarray(losses)]\n",
    "    \n",
    "results = np.asarray(results)\n",
    "losses = np.asarray(losses)"
   ]
  },
  {
   "cell_type": "code",
   "execution_count": 1078,
   "metadata": {
    "ExecuteTime": {
     "end_time": "2018-05-01T21:56:40.121104Z",
     "start_time": "2018-05-01T21:56:39.844989Z"
    }
   },
   "outputs": [
    {
     "data": {
      "text/plain": [
       "(-20, 10)"
      ]
     },
     "execution_count": 1078,
     "metadata": {},
     "output_type": "execute_result"
    },
    {
     "data": {
      "image/png": "[encoded data removed]",
      "text/plain": [
       "<matplotlib.figure.Figure at 0x12b1aff28>"
      ]
     },
     "metadata": {},
     "output_type": "display_data"
    }
   ],
   "source": [
    "plt.plot(losses[:, 0])\n",
    "plt.ylim(-20, 10)"
   ]
  },
  {
   "cell_type": "code",
   "execution_count": 1097,
   "metadata": {
    "ExecuteTime": {
     "end_time": "2018-05-01T22:12:35.080539Z",
     "start_time": "2018-05-01T22:12:35.065049Z"
    }
   },
   "outputs": [],
   "source": [
    "sim_z = model.prior.simulate(time_steps=20, batch_size=10)\n",
    "sim_x = model.decoder(sim_z).sample()\n",
    "sim_x = sim_x.detach().numpy()"
   ]
  },
  {
   "cell_type": "code",
   "execution_count": 1109,
   "metadata": {
    "ExecuteTime": {
     "end_time": "2018-05-01T22:13:02.523846Z",
     "start_time": "2018-05-01T22:13:02.254470Z"
    }
   },
   "outputs": [
    {
     "data": {
      "text/plain": [
       "<matplotlib.collections.QuadMesh at 0x12c846ef0>"
      ]
     },
     "execution_count": 1109,
     "metadata": {},
     "output_type": "execute_result"
    },
    {
     "data": {
      "image/png": "[encoded data removed]",
      "text/plain": [
       "<matplotlib.figure.Figure at 0x12c7dc390>"
      ]
     },
     "metadata": {},
     "output_type": "display_data"
    }
   ],
   "source": [
    "plt.pcolormesh(sim_x[:, 9, :].T)"
   ]
  },
  {
   "cell_type": "code",
   "execution_count": null,
   "metadata": {},
   "outputs": [],
   "source": []
  }
 ],
 "metadata": {
  "hide_input": false,
  "kernelspec": {
   "display_name": "py3",
   "language": "python",
   "name": "py3"
  },
  "language_info": {
   "codemirror_mode": {
    "name": "ipython",
    "version": 3
   },
   "file_extension": ".py",
   "mimetype": "text/x-python",
   "name": "python",
   "nbconvert_exporter": "python",
   "pygments_lexer": "ipython3",
   "version": "3.6.4"
  },
  "toc": {
   "nav_menu": {},
   "number_sections": true,
   "sideBar": true,
   "skip_h1_title": false,
   "toc_cell": false,
   "toc_position": {},
   "toc_section_display": "block",
   "toc_window_display": false
  }
 },
 "nbformat": 4,
 "nbformat_minor": 2
}
