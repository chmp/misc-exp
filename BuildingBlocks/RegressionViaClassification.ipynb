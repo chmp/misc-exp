{
 "cells": [
  {
   "cell_type": "markdown",
   "metadata": {},
   "source": [
    "# Regression via classification"
   ]
  },
  {
   "cell_type": "code",
   "execution_count": 168,
   "metadata": {},
   "outputs": [],
   "source": [
    "%matplotlib inline\n",
    "\n",
    "import ipytest.magics\n",
    "import matplotlib.pyplot as plt\n",
    "import numpy as np\n",
    "import sklearn.datasets\n",
    "import sklearn.linear_model\n",
    "import pytest\n",
    "\n",
    "__file__ = 'RegressionViaClassification.ipynb'"
   ]
  },
  {
   "cell_type": "code",
   "execution_count": 147,
   "metadata": {},
   "outputs": [],
   "source": [
    "x, y = sklearn.datasets.make_regression(n_samples=10_000, n_features=10, n_informative=5, noise=0.5)\n",
    "\n",
    "extended_edges = np.percentile(y, np.linspace(0, 100, num=20, endpoint=True))\n",
    "edges = extended_edges[1:-1]"
   ]
  },
  {
   "cell_type": "markdown",
   "metadata": {},
   "source": [
    "## Via Multinomial Classification\n",
    "\n",
    "Model $p(y \\in I_i)$ directly."
   ]
  },
  {
   "cell_type": "code",
   "execution_count": 223,
   "metadata": {},
   "outputs": [],
   "source": [
    "# TODO: Use splines to smoothly interpolate between the different bins\n",
    "class ClassifyingRegressor:\n",
    "    def __init__(self, est, edges=None, bins=None):\n",
    "        self.est = est\n",
    "        self.edges = edges\n",
    "        self.bins = bins\n",
    "        \n",
    "        if (edges is None) == (bins is None):\n",
    "            raise ValueError(\"either bins or edges have to be given\")\n",
    "    \n",
    "    def fit(self, x, y):\n",
    "        self.edges_ = self.find_quantile_edges(y, self.bins) if self.edges is None else self.edges\n",
    "        self.bins_ = len(self.edges_) + 1 if self.bins is None else self.bins\n",
    "        \n",
    "        one_hot_y = self.create_one_hot_encoding(y, self.edges_)\n",
    "        assert np.all(one_hot_y.sum(axis=1) == 1)\n",
    "        \n",
    "        self.centers_ = self.calculate_bin_means(y, one_hot_y)\n",
    "        \n",
    "        order, classes = np.nonzero(one_hot_y)\n",
    "        classes = classes[np.argsort(order)]\n",
    "        \n",
    "        self.est.fit(x, classes)\n",
    "        return self\n",
    "    \n",
    "    def predict_proba(self, x):\n",
    "        return self.est.predict_proba(x)\n",
    "    \n",
    "    def predict(self, x):\n",
    "        proba = self.predict_proba(x)\n",
    "        return np.sum(proba * self.centers_[None, :], axis=1)\n",
    "    \n",
    "    @staticmethod\n",
    "    def create_one_hot_encoding(y, edges):\n",
    "        y = np.asarray(y)\n",
    "        edges = np.asarray(edges)\n",
    "        \n",
    "        result = np.zeros((len(y), len(edges) + 1), dtype=np.int8)\n",
    "        \n",
    "        for i in range(len(edges) - 1):\n",
    "            result[:, i + 1] = (edges[i] <= y) * (y < edges[i + 1])\n",
    "        \n",
    "        result[:, 0] = y < edges[0]\n",
    "        result[:, -1] = edges[-1] <= y\n",
    "        \n",
    "        return result\n",
    "\n",
    "    @staticmethod\n",
    "    def find_quantile_edges(y, bins):\n",
    "        all_edges = np.percentile(y, np.linspace(0, 100, num=bins + 1, endpoint=True))\n",
    "        return all_edges[1:-1]\n",
    "    \n",
    "    \n",
    "    @staticmethod\n",
    "    def calculate_bin_means(y, one_hot_encoding):\n",
    "        y = np.asarray(y)\n",
    "        one_hot_encoding = np.asarray(one_hot_encoding)\n",
    "        return (\n",
    "            np.sum(y[:, None] * one_hot_encoding, axis=0) / \n",
    "            np.maximum(1, np.sum(one_hot_encoding, axis=0))\n",
    "        )"
   ]
  },
  {
   "cell_type": "code",
   "execution_count": 224,
   "metadata": {},
   "outputs": [
    {
     "name": "stdout",
     "output_type": "stream",
     "text": [
      "...                                                                                                                                                                       [100%]\n"
     ]
    }
   ],
   "source": [
    "%%run_pytest[clean] -qq\n",
    "\n",
    "\n",
    "def test_find_quantiles():\n",
    "    actual = ClassifyingRegressor.find_quantile_edges(np.linspace(0, 100, 100), 10) \n",
    "    expected = np.linspace(0, 100, 11)[1:-1]\n",
    "    assert actual == pytest.approx(expected)\n",
    "    \n",
    "    \n",
    "def test_create_one_hot_encoding():\n",
    "    values = [0, 1, 2, 3, 4, 5]\n",
    "    edges = [1.5, 3.5, 4.5]\n",
    "    expected = np.array([\n",
    "        [1, 0, 0, 0],\n",
    "        [1, 0, 0, 0],\n",
    "        [0, 1, 0, 0],\n",
    "        [0, 1, 0, 0],\n",
    "        [0, 0, 1, 0],\n",
    "        [0, 0, 0, 1]\n",
    "    ], dtype='int8')\n",
    "\n",
    "    actual = ClassifyingRegressor.create_one_hot_encoding(values, edges)\n",
    "\n",
    "    assert actual == pytest.approx(expected)\n",
    "    \n",
    "    \n",
    "def test_calculate_bin_means():\n",
    "    values = [0, 1, 2, 3, 4, 5]\n",
    "    edges = [1.5, 3.5, 4.5]\n",
    "    expected = np.array([0.5, 2.5, 4. , 5. ])\n",
    "\n",
    "    one_hot_encoding = ClassifyingRegressor.create_one_hot_encoding(values, edges)\n",
    "    actual = ClassifyingRegressor.calculate_bin_means(values, one_hot_encoding)\n",
    "\n",
    "    assert actual == pytest.approx(expected)"
   ]
  },
  {
   "cell_type": "code",
   "execution_count": 221,
   "metadata": {},
   "outputs": [],
   "source": [
    "est = ClassifyingRegressor(\n",
    "    sklearn.linear_model.LogisticRegression(\n",
    "        multi_class='multinomial', solver='lbfgs', C=100.0,\n",
    "    ),\n",
    "    bins=25,\n",
    ")\n",
    "est.fit(x, y)\n",
    "y_pred = est.predict(x)"
   ]
  },
  {
   "cell_type": "code",
   "execution_count": 222,
   "metadata": {},
   "outputs": [
    {
     "data": {
      "text/plain": [
       "[<matplotlib.lines.Line2D at 0x1147f4d30>]"
      ]
     },
     "execution_count": 222,
     "metadata": {},
     "output_type": "execute_result"
    },
    {
     "data": {
      "image/png": "[encoded data removed]",
      "text/plain": [
       "<Figure size 432x288 with 1 Axes>"
      ]
     },
     "metadata": {},
     "output_type": "display_data"
    }
   ],
   "source": [
    "plt.scatter(y, y_pred, marker='.', alpha=0.2)\n",
    "plt.plot([-300, +300], [-300, +300])"
   ]
  },
  {
   "cell_type": "markdown",
   "metadata": {},
   "source": [
    "## Via Repeated Binary Classification"
   ]
  },
  {
   "cell_type": "markdown",
   "metadata": {},
   "source": [
    "Note: this is a specific decomposition. Any binary decomposition works.\n",
    "\n",
    "$$\n",
    "    \\log p(y \\in I_i) = \\sum_{j \\leq i} \\log q(y \\gt t_j) + \\log (1 - q(y \\gt t_{i +1}))\n",
    "$$\n",
    "\n",
    "Introduce pseudo-targets \n",
    "\n",
    "$$\n",
    "\\mathcal{Y}_i = \\mathcal{I}\\left[ y \\in I_i \\right]\n",
    "$$\n",
    "\n",
    "TODO: update the math..."
   ]
  },
  {
   "cell_type": "code",
   "execution_count": null,
   "metadata": {},
   "outputs": [],
   "source": []
  }
 ],
 "metadata": {
  "kernelspec": {
   "display_name": "Python 3",
   "language": "python",
   "name": "python3"
  },
  "language_info": {
   "codemirror_mode": {
    "name": "ipython",
    "version": 3
   },
   "file_extension": ".py",
   "mimetype": "text/x-python",
   "name": "python",
   "nbconvert_exporter": "python",
   "pygments_lexer": "ipython3",
   "version": "3.6.4"
  }
 },
 "nbformat": 4,
 "nbformat_minor": 2
}
