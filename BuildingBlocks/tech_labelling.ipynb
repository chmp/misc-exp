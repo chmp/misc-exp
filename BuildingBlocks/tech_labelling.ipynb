{
 "cells": [
  {
   "cell_type": "code",
   "execution_count": null,
   "metadata": {},
   "outputs": [],
   "source": [
    "# Annotate using bounding boxes\n",
    "from chmp.label import annotate_bounding_boxes\n",
    "\n",
    "# USE: build_data_url + lambda for local files\n",
    "images = [\n",
    "    'http://cprohm.de/images/20171101_labelling/screen_annotated.png',\n",
    "    'https://cprohm.de/images/ocr_schematic.png',\n",
    "]\n",
    "\n",
    "widget, annotations = annotate_bounding_boxes(images)\n",
    "widget"
   ]
  },
  {
   "cell_type": "code",
   "execution_count": null,
   "metadata": {},
   "outputs": [],
   "source": []
  }
 ],
 "metadata": {
  "kernelspec": {
   "display_name": "Python 3",
   "language": "python",
   "name": "python3"
  },
  "language_info": {
   "codemirror_mode": {
    "name": "ipython",
    "version": 3
   },
   "file_extension": ".py",
   "mimetype": "text/x-python",
   "name": "python",
   "nbconvert_exporter": "python",
   "pygments_lexer": "ipython3",
   "version": "3.6.4"
  }
 },
 "nbformat": 4,
 "nbformat_minor": 2
}
